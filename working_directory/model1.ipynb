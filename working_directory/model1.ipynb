{
 "cells": [
  {
   "cell_type": "code",
   "execution_count": 1,
   "metadata": {
    "_cell_guid": "dbf2ff22-712b-4fc2-8687-99caa9bf07d8",
    "_uuid": "f57e59e8589cb94001d8673fb737a4e0d96852bd"
   },
   "outputs": [],
   "source": [
    "# This Python 3 environment comes with many helpful analytics libraries installed\n",
    "# It is defined by the kaggle/python docker image: https://github.com/kaggle/docker-python\n",
    "# For example, here's several helpful packages to load in \n",
    "\n",
    "import numpy as np \n",
    "import pandas as pd "
   ]
  },
  {
   "cell_type": "code",
   "execution_count": 2,
   "metadata": {
    "_cell_guid": "ea3f4874-a9aa-42f1-9605-b1784a6f48ba",
    "_uuid": "58c82d3b3c4b4305b388a6ac4eeca49d600f9105"
   },
   "outputs": [],
   "source": [
    "import numpy as np\n",
    "import pandas as pd\n",
    "from sklearn.model_selection import train_test_split\n",
    "from os.path import join as opj\n",
    "from matplotlib import pyplot as plt\n",
    "from mpl_toolkits.mplot3d import Axes3D\n",
    "import pylab\n",
    "plt.rcParams['figure.figsize'] = 10, 10\n",
    "%matplotlib inline"
   ]
  },
  {
   "cell_type": "code",
   "execution_count": 4,
   "metadata": {
    "_cell_guid": "804d3969-9035-4ceb-bb65-1b8549d729ec",
    "_uuid": "7a7f3af5ef279a9ed26c4d9ee764bd1fb4bdf10e"
   },
   "outputs": [],
   "source": [
    "#Load the data.\n",
    "train = pd.read_json(\"../input/train.json\")"
   ]
  },
  {
   "cell_type": "code",
   "execution_count": 5,
   "metadata": {
    "_cell_guid": "7b546aab-7b7d-4cde-91cc-e794fd4041bd",
    "_uuid": "2c18cf164fbbc6d1c29e9c668cbfcd7a1ea10824"
   },
   "outputs": [],
   "source": [
    "# test = pd.read_json(\"test/processed/test.json\")"
   ]
  },
  {
   "cell_type": "code",
   "execution_count": 6,
   "metadata": {
    "_cell_guid": "829bf7db-fab1-4a2d-9562-0a37c6390d2a",
    "_uuid": "5292632717f11cd01c135dfabfd3cda9318cc639"
   },
   "outputs": [],
   "source": [
    "#Generate the training data\n",
    "#Create 3 bands having HH, HV and avg of both\n",
    "X_band_1=np.array([np.array(band).astype(np.float32).reshape(75, 75) for band in train[\"band_1\"]])\n",
    "# X_band_2=np.array([np.array(band).astype(np.float32).reshape(75, 75) for band in train[\"band_2\"]])\n",
    "X_train = X_band_1[:, :, :, np.newaxis]\n",
    "# X_train = np.concatenate([X_band_1[:, :, :, np.newaxis], X_band_2[:, :, :, np.newaxis],((X_band_1+X_band_2)/2)[:, :, :, np.newaxis]], axis=-1)"
   ]
  },
  {
   "cell_type": "code",
   "execution_count": 7,
   "metadata": {
    "_cell_guid": "fb15bc53-becc-4e87-88ce-3bc99d45358d",
    "_uuid": "7a68a94f8c617209dfe56a58e291193e963d0f62"
   },
   "outputs": [
    {
     "name": "stderr",
     "output_type": "stream",
     "text": [
      "Using TensorFlow backend.\n"
     ]
    }
   ],
   "source": [
    "#Import Keras.\n",
    "from matplotlib import pyplot\n",
    "from keras.preprocessing.image import ImageDataGenerator\n",
    "from keras.models import Sequential\n",
    "from keras.layers import Conv2D, MaxPooling2D, Dense, Dropout, Input, Flatten, Activation\n",
    "from keras.layers import GlobalMaxPooling2D\n",
    "from keras.layers.normalization import BatchNormalization\n",
    "from keras.layers.merge import Concatenate\n",
    "from keras.models import Model\n",
    "from keras import initializers\n",
    "from keras.optimizers import Adam\n",
    "from keras.callbacks import ModelCheckpoint, Callback, EarlyStopping"
   ]
  },
  {
   "cell_type": "code",
   "execution_count": 8,
   "metadata": {
    "_cell_guid": "d7a4c0cc-0e96-46ea-960c-89bb80e11b56",
    "_uuid": "4602792c9d531903bd65c3b127a1e6be2c444b2d"
   },
   "outputs": [],
   "source": [
    "#define our model\n",
    "def getModel():\n",
    "    #Building the model\n",
    "    gmodel=Sequential()\n",
    "    #Conv Layer 1\n",
    "    gmodel.add(Conv2D(64, kernel_size=(3, 3),activation='relu', input_shape=(75, 75, 1)))\n",
    "    gmodel.add(MaxPooling2D(pool_size=(3, 3), strides=(2, 2)))\n",
    "    gmodel.add(Dropout(0.2))\n",
    "\n",
    "    #Conv Layer 2\n",
    "    gmodel.add(Conv2D(128, kernel_size=(3, 3), activation='relu' ))\n",
    "    gmodel.add(MaxPooling2D(pool_size=(2, 2), strides=(2, 2)))\n",
    "    gmodel.add(Dropout(0.2))\n",
    "\n",
    "    #Conv Layer 3\n",
    "    gmodel.add(Conv2D(128, kernel_size=(3, 3), activation='relu'))\n",
    "    gmodel.add(MaxPooling2D(pool_size=(2, 2), strides=(2, 2)))\n",
    "    gmodel.add(Dropout(0.2))\n",
    "\n",
    "    #Conv Layer 4\n",
    "    gmodel.add(Conv2D(64, kernel_size=(3, 3), activation='relu'))\n",
    "    gmodel.add(MaxPooling2D(pool_size=(2, 2), strides=(2, 2)))\n",
    "    gmodel.add(Dropout(0.2))\n",
    "\n",
    "    #Flatten the data for upcoming dense layers\n",
    "    gmodel.add(Flatten())\n",
    "\n",
    "    #Dense Layers\n",
    "    gmodel.add(Dense(512))\n",
    "    gmodel.add(Activation('relu'))\n",
    "    gmodel.add(Dropout(0.2))\n",
    "\n",
    "    #Dense Layer 2\n",
    "    gmodel.add(Dense(256))\n",
    "    gmodel.add(Activation('relu'))\n",
    "    gmodel.add(Dropout(0.2))\n",
    "\n",
    "    #Sigmoid Layer\n",
    "    gmodel.add(Dense(1))\n",
    "    gmodel.add(Activation('sigmoid'))\n",
    "\n",
    "    mypotim=Adam(lr=0.001, beta_1=0.9, beta_2=0.999, epsilon=1e-08, decay=0.0)\n",
    "    gmodel.compile(loss='binary_crossentropy',\n",
    "                  optimizer=mypotim,\n",
    "                  metrics=['accuracy'])\n",
    "    gmodel.summary()\n",
    "    return gmodel\n",
    "\n",
    "\n",
    "def get_callbacks(filepath, patience=2):\n",
    "    es = EarlyStopping('val_loss', patience=patience, mode=\"min\")\n",
    "    msave = ModelCheckpoint(filepath, save_best_only=True)\n",
    "    return [es, msave]\n",
    "file_path = \"model_weights_b1.hdf5\"\n",
    "callbacks = get_callbacks(filepath=file_path, patience=5)\n"
   ]
  },
  {
   "cell_type": "code",
   "execution_count": 9,
   "metadata": {
    "_cell_guid": "1d690d4a-09ca-417c-8090-2aa417c514dd",
    "_uuid": "a883659e53709da950d04a4e5349c66d77a9422f"
   },
   "outputs": [
    {
     "name": "stderr",
     "output_type": "stream",
     "text": [
      "/home/jake/anaconda3/lib/python3.6/site-packages/sklearn/model_selection/_split.py:2026: FutureWarning: From version 0.21, test_size will always complement train_size unless both are specified.\n",
      "  FutureWarning)\n"
     ]
    }
   ],
   "source": [
    "target_train=train['is_iceberg']\n",
    "X_train_cv, X_valid, y_train_cv, y_valid = train_test_split(X_train, target_train, random_state=1, train_size=0.75, shuffle=False)"
   ]
  },
  {
   "cell_type": "code",
   "execution_count": 10,
   "metadata": {
    "_cell_guid": "d6bb750a-e882-4429-ad23-4392389f427f",
    "_uuid": "4e6dab11165b7d9515eb32b698851b260f0d941f"
   },
   "outputs": [
    {
     "name": "stdout",
     "output_type": "stream",
     "text": [
      "_________________________________________________________________\n",
      "Layer (type)                 Output Shape              Param #   \n",
      "=================================================================\n",
      "conv2d_1 (Conv2D)            (None, 73, 73, 64)        640       \n",
      "_________________________________________________________________\n",
      "max_pooling2d_1 (MaxPooling2 (None, 36, 36, 64)        0         \n",
      "_________________________________________________________________\n",
      "dropout_1 (Dropout)          (None, 36, 36, 64)        0         \n",
      "_________________________________________________________________\n",
      "conv2d_2 (Conv2D)            (None, 34, 34, 128)       73856     \n",
      "_________________________________________________________________\n",
      "max_pooling2d_2 (MaxPooling2 (None, 17, 17, 128)       0         \n",
      "_________________________________________________________________\n",
      "dropout_2 (Dropout)          (None, 17, 17, 128)       0         \n",
      "_________________________________________________________________\n",
      "conv2d_3 (Conv2D)            (None, 15, 15, 128)       147584    \n",
      "_________________________________________________________________\n",
      "max_pooling2d_3 (MaxPooling2 (None, 7, 7, 128)         0         \n",
      "_________________________________________________________________\n",
      "dropout_3 (Dropout)          (None, 7, 7, 128)         0         \n",
      "_________________________________________________________________\n",
      "conv2d_4 (Conv2D)            (None, 5, 5, 64)          73792     \n",
      "_________________________________________________________________\n",
      "max_pooling2d_4 (MaxPooling2 (None, 2, 2, 64)          0         \n",
      "_________________________________________________________________\n",
      "dropout_4 (Dropout)          (None, 2, 2, 64)          0         \n",
      "_________________________________________________________________\n",
      "flatten_1 (Flatten)          (None, 256)               0         \n",
      "_________________________________________________________________\n",
      "dense_1 (Dense)              (None, 512)               131584    \n",
      "_________________________________________________________________\n",
      "activation_1 (Activation)    (None, 512)               0         \n",
      "_________________________________________________________________\n",
      "dropout_5 (Dropout)          (None, 512)               0         \n",
      "_________________________________________________________________\n",
      "dense_2 (Dense)              (None, 256)               131328    \n",
      "_________________________________________________________________\n",
      "activation_2 (Activation)    (None, 256)               0         \n",
      "_________________________________________________________________\n",
      "dropout_6 (Dropout)          (None, 256)               0         \n",
      "_________________________________________________________________\n",
      "dense_3 (Dense)              (None, 1)                 257       \n",
      "_________________________________________________________________\n",
      "activation_3 (Activation)    (None, 1)                 0         \n",
      "=================================================================\n",
      "Total params: 559,041\n",
      "Trainable params: 559,041\n",
      "Non-trainable params: 0\n",
      "_________________________________________________________________\n",
      "Train on 1203 samples, validate on 401 samples\n",
      "Epoch 1/40\n",
      "1203/1203 [==============================] - 5s - loss: 0.8236 - acc: 0.5677 - val_loss: 0.5868 - val_acc: 0.5885\n",
      "Epoch 2/40\n",
      "1203/1203 [==============================] - 3s - loss: 0.5982 - acc: 0.6725 - val_loss: 0.5816 - val_acc: 0.5561\n",
      "Epoch 3/40\n",
      "1203/1203 [==============================] - 3s - loss: 0.5679 - acc: 0.6999 - val_loss: 0.6113 - val_acc: 0.5586\n",
      "Epoch 4/40\n",
      "1203/1203 [==============================] - 3s - loss: 0.5397 - acc: 0.7132 - val_loss: 0.5567 - val_acc: 0.6259\n",
      "Epoch 5/40\n",
      "1203/1203 [==============================] - 3s - loss: 0.5275 - acc: 0.7107 - val_loss: 0.5722 - val_acc: 0.6035\n",
      "Epoch 6/40\n",
      "1203/1203 [==============================] - 3s - loss: 0.5134 - acc: 0.7390 - val_loss: 0.5663 - val_acc: 0.6284\n",
      "Epoch 7/40\n",
      "1203/1203 [==============================] - 3s - loss: 0.5036 - acc: 0.7431 - val_loss: 0.4991 - val_acc: 0.7232\n",
      "Epoch 8/40\n",
      "1203/1203 [==============================] - 3s - loss: 0.4841 - acc: 0.7456 - val_loss: 0.5089 - val_acc: 0.6608\n",
      "Epoch 9/40\n",
      "1203/1203 [==============================] - 3s - loss: 0.4420 - acc: 0.7739 - val_loss: 0.4483 - val_acc: 0.7955\n",
      "Epoch 10/40\n",
      "1203/1203 [==============================] - 3s - loss: 0.4587 - acc: 0.7739 - val_loss: 0.4240 - val_acc: 0.7930\n",
      "Epoch 11/40\n",
      "1203/1203 [==============================] - 3s - loss: 0.4076 - acc: 0.7947 - val_loss: 0.4493 - val_acc: 0.7257\n",
      "Epoch 12/40\n",
      "1203/1203 [==============================] - 3s - loss: 0.3709 - acc: 0.8288 - val_loss: 0.4598 - val_acc: 0.7481\n",
      "Epoch 13/40\n",
      "1203/1203 [==============================] - 3s - loss: 0.3768 - acc: 0.8121 - val_loss: 0.5612 - val_acc: 0.7082\n",
      "Epoch 14/40\n",
      "1203/1203 [==============================] - 3s - loss: 0.3258 - acc: 0.8337 - val_loss: 0.3957 - val_acc: 0.7880\n",
      "Epoch 15/40\n",
      "1203/1203 [==============================] - 3s - loss: 0.3458 - acc: 0.8421 - val_loss: 0.4151 - val_acc: 0.7756\n",
      "Epoch 16/40\n",
      "1203/1203 [==============================] - 3s - loss: 0.3397 - acc: 0.8271 - val_loss: 0.3701 - val_acc: 0.8229\n",
      "Epoch 17/40\n",
      "1203/1203 [==============================] - 3s - loss: 0.3134 - acc: 0.8687 - val_loss: 0.4982 - val_acc: 0.7282\n",
      "Epoch 18/40\n",
      "1203/1203 [==============================] - 3s - loss: 0.3014 - acc: 0.8603 - val_loss: 0.4041 - val_acc: 0.8030\n",
      "Epoch 19/40\n",
      "1203/1203 [==============================] - 3s - loss: 0.3204 - acc: 0.8446 - val_loss: 0.3802 - val_acc: 0.8080\n",
      "Epoch 20/40\n",
      "1203/1203 [==============================] - 3s - loss: 0.3692 - acc: 0.8271 - val_loss: 0.4869 - val_acc: 0.7606\n",
      "Epoch 21/40\n",
      "1203/1203 [==============================] - 3s - loss: 0.3167 - acc: 0.8520 - val_loss: 0.3629 - val_acc: 0.8254\n",
      "Epoch 22/40\n",
      "1203/1203 [==============================] - 3s - loss: 0.2747 - acc: 0.8695 - val_loss: 0.3778 - val_acc: 0.8105\n",
      "Epoch 23/40\n",
      "1203/1203 [==============================] - 3s - loss: 0.2708 - acc: 0.8670 - val_loss: 0.3616 - val_acc: 0.8204\n",
      "Epoch 24/40\n",
      "1203/1203 [==============================] - 3s - loss: 0.2813 - acc: 0.8628 - val_loss: 0.3875 - val_acc: 0.8055\n",
      "Epoch 25/40\n",
      "1203/1203 [==============================] - 3s - loss: 0.3109 - acc: 0.8446 - val_loss: 0.3567 - val_acc: 0.8554\n",
      "Epoch 26/40\n",
      "1203/1203 [==============================] - 3s - loss: 0.2697 - acc: 0.8637 - val_loss: 0.4279 - val_acc: 0.7706\n",
      "Epoch 27/40\n",
      "1203/1203 [==============================] - 3s - loss: 0.2544 - acc: 0.8803 - val_loss: 0.3944 - val_acc: 0.8204\n",
      "Epoch 28/40\n",
      "1203/1203 [==============================] - 3s - loss: 0.2761 - acc: 0.8670 - val_loss: 0.4008 - val_acc: 0.8130\n",
      "Epoch 29/40\n",
      "1203/1203 [==============================] - 3s - loss: 0.2451 - acc: 0.8820 - val_loss: 0.3727 - val_acc: 0.8279\n",
      "Epoch 30/40\n",
      "1203/1203 [==============================] - 3s - loss: 0.2615 - acc: 0.8653 - val_loss: 0.3632 - val_acc: 0.8329\n",
      "Epoch 31/40\n",
      "1203/1203 [==============================] - 3s - loss: 0.2297 - acc: 0.8861 - val_loss: 0.4761 - val_acc: 0.8080\n"
     ]
    },
    {
     "data": {
      "text/plain": [
       "<keras.callbacks.History at 0x7f3936db1c18>"
      ]
     },
     "execution_count": 10,
     "metadata": {},
     "output_type": "execute_result"
    }
   ],
   "source": [
    "#Without denoising, core features.\n",
    "import os\n",
    "gmodel=getModel()\n",
    "gmodel.fit(X_train_cv, y_train_cv,\n",
    "          batch_size=24,\n",
    "          epochs=40,\n",
    "          verbose=1,\n",
    "          validation_data=(X_valid, y_valid),\n",
    "          callbacks=callbacks)"
   ]
  },
  {
   "cell_type": "code",
   "execution_count": 11,
   "metadata": {
    "_cell_guid": "079f0a8d-d2a5-4154-b37f-b425333e4ada",
    "_uuid": "0fa65f37d198cd6301376f179d9de0ccc1d40db3"
   },
   "outputs": [
    {
     "name": "stdout",
     "output_type": "stream",
     "text": [
      "401/401 [==============================] - 0s     \n",
      "Test loss: 0.35668436815\n",
      "Test accuracy: 0.85536159601\n"
     ]
    }
   ],
   "source": [
    "gmodel.load_weights(filepath=file_path)\n",
    "score = gmodel.evaluate(X_valid, y_valid, verbose=1)\n",
    "print('Test loss:', score[0])\n",
    "print('Test accuracy:', score[1])"
   ]
  },
  {
   "cell_type": "code",
   "execution_count": null,
   "metadata": {
    "_cell_guid": "637e3662-38ac-4fa6-8065-48c8105026a9",
    "_uuid": "962411dc0d6a00c1730bfd22767542210c36f751"
   },
   "outputs": [],
   "source": []
  }
 ],
 "metadata": {
  "kernelspec": {
   "display_name": "Python 3",
   "language": "python",
   "name": "python3"
  },
  "language_info": {
   "codemirror_mode": {
    "name": "ipython",
    "version": 3
   },
   "file_extension": ".py",
   "mimetype": "text/x-python",
   "name": "python",
   "nbconvert_exporter": "python",
   "pygments_lexer": "ipython3",
   "version": "3.6.3"
  }
 },
 "nbformat": 4,
 "nbformat_minor": 1
}
