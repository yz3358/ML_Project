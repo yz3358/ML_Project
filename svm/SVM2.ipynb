{
 "cells": [
  {
   "cell_type": "markdown",
   "metadata": {},
   "source": [
    "# SVM algorithm"
   ]
  },
  {
   "cell_type": "code",
   "execution_count": 70,
   "metadata": {
    "collapsed": true
   },
   "outputs": [],
   "source": [
    "import numpy as np \n",
    "import pandas as pd "
   ]
  },
  {
   "cell_type": "code",
   "execution_count": 71,
   "metadata": {
    "collapsed": true
   },
   "outputs": [],
   "source": [
    "# load train and test data\n",
    "trainDataFilePath = \"C:/Users/Yutong Liu/Videos/data/processed/train.json\"\n",
    "testDataFilePath = \"C:/Users/Yutong Liu/Videos/data/processed/test.json\"\n",
    "\n",
    "trainData = pd.read_json(trainDataFilePath)\n",
    "testData = pd.read_json(testDataFilePath)"
   ]
  },
  {
   "cell_type": "code",
   "execution_count": 73,
   "metadata": {
    "collapsed": true
   },
   "outputs": [],
   "source": [
    "import matplotlib.pyplot as plt\n",
    "from skimage.feature import hog\n",
    "# Histogram of Oriented Gradients \n",
    "def HOG(image):\n",
    "    img1 = image[:,:,0]\n",
    "    img2 = image[:,:,1]\n",
    "    #img3 = image[:,:,2]\n",
    "    hog_image = np.zeros(image.shape)\n",
    "    fd, hog_image[:,:,0] = hog(img1, orientations=8, pixels_per_cell=(10, 10),\n",
    "                    cells_per_block=(1, 1),block_norm='L2',visualise=True)\n",
    "    fd, hog_image[:,:,1] = hog(img2, orientations=8, pixels_per_cell=(10, 10),\n",
    "                    cells_per_block=(1, 1),block_norm='L2',visualise=True)\n",
    "    #fd, hog_image[:,:,2] = hog(img3, orientations=8, pixels_per_cell=(10, 10),\n",
    "                    #cells_per_block=(1, 1),block_norm='L2',visualise=True)\n",
    "    return hog_image\n",
    "# Normalize the image where the components are between 0 and 1\n",
    "def norm(image):\n",
    "    img1 = image[:,:,0]\n",
    "    img2 = image[:,:,1]\n",
    "    norm_image = np.zeros(image.shape)\n",
    "    norm_image[:,:,0] = (img1 - img1.min())/(img1.max()-img1.min())\n",
    "    norm_image[:,:,1] = (img2 - img2.min())/(img2.max()-img2.min())\n",
    "    return norm_image"
   ]
  },
  {
   "cell_type": "code",
   "execution_count": 75,
   "metadata": {
    "collapsed": true
   },
   "outputs": [],
   "source": [
    "from sklearn.model_selection import train_test_split\n",
    "# Process data\n",
    "x_band1 = np.array([np.array(band).astype(np.float32).reshape(75, 75) for band in trainData[\"band_1\"]])\n",
    "x_band2 = np.array([np.array(band).astype(np.float32).reshape(75, 75) for band in trainData[\"band_2\"]])\n",
    "x_band3 = (x_band1 + x_band2)/2\n",
    "# ,x_band3[:, :, :, np.newaxis]\n",
    "X_train = np.concatenate([x_band1[:, :, :, np.newaxis], x_band2[:, :, :, np.newaxis]], axis=-1)\n",
    "y_train = np.array(trainData[\"is_iceberg\"])"
   ]
  },
  {
   "cell_type": "code",
   "execution_count": 89,
   "metadata": {},
   "outputs": [
    {
     "name": "stdout",
     "output_type": "stream",
     "text": [
      "Xtrain: (1283, 22500)\n",
      "Xtest: (321, 22500)\n"
     ]
    }
   ],
   "source": [
    "from sklearn.model_selection import train_test_split\n",
    "nsize= X_train.shape[0]\n",
    "Xnew_train = np.zeros((nsize,75*75*4))\n",
    "for i in range (nsize):\n",
    "    img = X_train[i,:,:,:]\n",
    "    img1 = HOG(img).reshape((1,75*75*2))\n",
    "    img2 = norm(img).reshape((1,75*75*2))\n",
    "    img = np.hstack((img1,img2))\n",
    "    Xnew_train[i,:] = img\n",
    "    \n",
    "# shuffle data and separate it into train group and test group\n",
    "Xtr,Xts,ytr,yts = train_test_split(Xnew_train,y_train,test_size=0.2,random_state=None)\n",
    "print(\"Xtrain:\", Xtr.shape)\n",
    "print(\"Xtest:\", Xts.shape)"
   ]
  },
  {
   "cell_type": "code",
   "execution_count": 90,
   "metadata": {},
   "outputs": [
    {
     "name": "stdout",
     "output_type": "stream",
     "text": [
      "Accuracy = 0.86292834891\n"
     ]
    }
   ],
   "source": [
    "from sklearn import svm\n",
    "model = svm.SVC(probability=False,kernel='rbf',C=10,gamma=0.01)\n",
    "model.fit(Xtr,ytr)\n",
    "yhat = model.predict(Xts)\n",
    "acc = np.mean(yhat==yts)\n",
    "print('Accuracy =', acc)"
   ]
  }
 ],
 "metadata": {
  "kernelspec": {
   "display_name": "Python 3",
   "language": "python",
   "name": "python3"
  },
  "language_info": {
   "codemirror_mode": {
    "name": "ipython",
    "version": 3
   },
   "file_extension": ".py",
   "mimetype": "text/x-python",
   "name": "python",
   "nbconvert_exporter": "python",
   "pygments_lexer": "ipython3",
   "version": "3.6.1"
  }
 },
 "nbformat": 4,
 "nbformat_minor": 2
}
