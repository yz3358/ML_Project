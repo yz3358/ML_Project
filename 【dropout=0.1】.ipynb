{
 "cells": [
  {
   "cell_type": "code",
   "execution_count": 1,
   "metadata": {
    "_cell_guid": "dbf2ff22-712b-4fc2-8687-99caa9bf07d8",
    "_uuid": "f57e59e8589cb94001d8673fb737a4e0d96852bd",
    "collapsed": true
   },
   "outputs": [],
   "source": [
    "# This Python 3 environment comes with many helpful analytics libraries installed\n",
    "# It is defined by the kaggle/python docker image: https://github.com/kaggle/docker-python\n",
    "# For example, here's several helpful packages to load in \n",
    "\n",
    "import numpy as np \n",
    "import pandas as pd "
   ]
  },
  {
   "cell_type": "code",
   "execution_count": 2,
   "metadata": {
    "_cell_guid": "ea3f4874-a9aa-42f1-9605-b1784a6f48ba",
    "_uuid": "58c82d3b3c4b4305b388a6ac4eeca49d600f9105",
    "collapsed": true
   },
   "outputs": [],
   "source": [
    "import numpy as np\n",
    "import pandas as pd\n",
    "from sklearn.model_selection import train_test_split\n",
    "from os.path import join as opj\n",
    "from matplotlib import pyplot as plt\n",
    "from mpl_toolkits.mplot3d import Axes3D\n",
    "import pylab\n",
    "plt.rcParams['figure.figsize'] = 10, 10\n",
    "%matplotlib inline"
   ]
  },
  {
   "cell_type": "code",
   "execution_count": 3,
   "metadata": {
    "_cell_guid": "804d3969-9035-4ceb-bb65-1b8549d729ec",
    "_uuid": "7a7f3af5ef279a9ed26c4d9ee764bd1fb4bdf10e",
    "collapsed": true
   },
   "outputs": [],
   "source": [
    "#Load the data.\n",
    "train = pd.read_json(\"train/processed/train.json\")"
   ]
  },
  {
   "cell_type": "code",
   "execution_count": 4,
   "metadata": {
    "_cell_guid": "7b546aab-7b7d-4cde-91cc-e794fd4041bd",
    "_uuid": "2c18cf164fbbc6d1c29e9c668cbfcd7a1ea10824",
    "collapsed": true
   },
   "outputs": [],
   "source": [
    "test = pd.read_json(\"test/processed/test.json\")"
   ]
  },
  {
   "cell_type": "markdown",
   "metadata": {
    "_cell_guid": "e178779f-0698-47cd-9be5-50f9c9590089",
    "_uuid": "f5b6c2ba24e6bf5726f8551cdeeeaf931184c2bc"
   },
   "source": [
    "#Intro about the Data.\n",
    "\n",
    "Sentinet -1 sat is at about 680 Km above earth. Sending pulses of signals at a particular angle of incidence and then recoding it back. Basically those reflected signals are called backscatter. The data we have been given is backscatter coefficient which is the conventional form of backscatter coefficient given by:\n",
    "\n",
    "$σo (dB) = βo (dB) + 10log10 [ sin(ip) / sin (ic)] $\n",
    "\n",
    "where\n",
    "1. ip=is angle of incidence for a particular pixel\n",
    "2. 'ic ' is angle of incidence for center of the image\n",
    "3. K =constant.\n",
    "\n",
    "We have been given $σo$ directly in the data. \n",
    "###Now coming to the features of $σo$\n",
    "Basically σo varies with the surface on which the signal is scattered from. For example, for a particular angle of incidence, it varies like:\n",
    "*             WATER...........           SETTLEMENTS........           AGRICULTURE...........          BARREN........\n",
    "\n",
    "1.**HH:**     -27.001   ................                     2.70252       .................                -12.7952        ................    -17.25790909\n",
    "\n",
    "2.**HV: **      -28.035      ................            -20.2665             ..................          -21.4471       .................     -20.019\n",
    "\n",
    "As you can see, the HH component varies a lot but HV doesn't.\n",
    "**I don't have the data for scatter from ship, but being a metal object, it should vary differently as compared to ice object.**\n",
    "\n",
    "\n",
    "\n",
    "Ok, so this Sentinal Settalite is equivalent to RISTSAT(an Indian remote sensing Sat) and they only Transmit pings in H polarization, **AND NOT IN V polarization**.  Those H-pings gets scattered, objects change their polarization and returns as a mix of H and V.\n",
    "**Since Sentinel has only H-transmitter, return signals are of the form of HH and HV only**. Don't ask why VV is not given(because Sentinel don't have V-ping transmitter).\n",
    "\n",
    "Now coming to features, for the purpose of this demo code, I am extracting all two bands and taking avg of them as 3rd channel to create a 3-channel RGB equivalent. \n"
   ]
  },
  {
   "cell_type": "code",
   "execution_count": 5,
   "metadata": {
    "_cell_guid": "829bf7db-fab1-4a2d-9562-0a37c6390d2a",
    "_uuid": "5292632717f11cd01c135dfabfd3cda9318cc639",
    "collapsed": true
   },
   "outputs": [],
   "source": [
    "#Generate the training data\n",
    "#Create 3 bands having HH, HV and avg of both\n",
    "X_band_1=np.array([np.array(band).astype(np.float32).reshape(75, 75) for band in train[\"band_1\"]])\n",
    "X_band_2=np.array([np.array(band).astype(np.float32).reshape(75, 75) for band in train[\"band_2\"]])\n",
    "X_train = np.concatenate([X_band_1[:, :, :, np.newaxis], X_band_2[:, :, :, np.newaxis],((X_band_1+X_band_2)/2)[:, :, :, np.newaxis]], axis=-1)"
   ]
  },
  {
   "cell_type": "code",
   "execution_count": 6,
   "metadata": {
    "_cell_guid": "fb15bc53-becc-4e87-88ce-3bc99d45358d",
    "_uuid": "7a68a94f8c617209dfe56a58e291193e963d0f62"
   },
   "outputs": [
    {
     "name": "stderr",
     "output_type": "stream",
     "text": [
      "Using TensorFlow backend.\n"
     ]
    }
   ],
   "source": [
    "#Import Keras.\n",
    "from matplotlib import pyplot\n",
    "from keras.preprocessing.image import ImageDataGenerator\n",
    "from keras.models import Sequential\n",
    "from keras.layers import Conv2D, MaxPooling2D, Dense, Dropout, Input, Flatten, Activation\n",
    "from keras.layers import GlobalMaxPooling2D\n",
    "from keras.layers.normalization import BatchNormalization\n",
    "from keras.layers.merge import Concatenate\n",
    "from keras.models import Model\n",
    "from keras import initializers\n",
    "from keras.optimizers import Adam\n",
    "from keras.callbacks import ModelCheckpoint, Callback, EarlyStopping"
   ]
  },
  {
   "cell_type": "code",
   "execution_count": 7,
   "metadata": {
    "_cell_guid": "d7a4c0cc-0e96-46ea-960c-89bb80e11b56",
    "_uuid": "4602792c9d531903bd65c3b127a1e6be2c444b2d",
    "collapsed": true
   },
   "outputs": [],
   "source": [
    "#define our model\n",
    "def getModel():\n",
    "    #Building the model\n",
    "    gmodel=Sequential()\n",
    "    #Conv Layer 1\n",
    "    gmodel.add(Conv2D(64, kernel_size=(3, 3),activation='relu', input_shape=(75, 75, 3)))\n",
    "    gmodel.add(MaxPooling2D(pool_size=(3, 3), strides=(2, 2)))\n",
    "    gmodel.add(Dropout(0.1))\n",
    "\n",
    "    #Conv Layer 2\n",
    "    gmodel.add(Conv2D(128, kernel_size=(3, 3), activation='relu' ))\n",
    "    gmodel.add(MaxPooling2D(pool_size=(2, 2), strides=(2, 2)))\n",
    "    gmodel.add(Dropout(0.1))\n",
    "\n",
    "    #Conv Layer 3\n",
    "    gmodel.add(Conv2D(128, kernel_size=(3, 3), activation='relu'))\n",
    "    gmodel.add(MaxPooling2D(pool_size=(2, 2), strides=(2, 2)))\n",
    "    gmodel.add(Dropout(0.1))\n",
    "\n",
    "    #Conv Layer 4\n",
    "    gmodel.add(Conv2D(64, kernel_size=(3, 3), activation='relu'))\n",
    "    gmodel.add(MaxPooling2D(pool_size=(2, 2), strides=(2, 2)))\n",
    "    gmodel.add(Dropout(0.1))\n",
    "\n",
    "    #Flatten the data for upcoming dense layers\n",
    "    gmodel.add(Flatten())\n",
    "\n",
    "    #Dense Layers\n",
    "    gmodel.add(Dense(512))\n",
    "    gmodel.add(Activation('relu'))\n",
    "    gmodel.add(Dropout(0.1))\n",
    "\n",
    "    #Dense Layer 2\n",
    "    gmodel.add(Dense(256))\n",
    "    gmodel.add(Activation('relu'))\n",
    "    gmodel.add(Dropout(0.1))\n",
    "\n",
    "    #Sigmoid Layer\n",
    "    gmodel.add(Dense(1))\n",
    "    gmodel.add(Activation('sigmoid'))\n",
    "\n",
    "    mypotim=Adam(lr=0.001, beta_1=0.9, beta_2=0.999, epsilon=1e-08, decay=0.0)\n",
    "    gmodel.compile(loss='binary_crossentropy',\n",
    "                  optimizer=mypotim,\n",
    "                  metrics=['accuracy'])\n",
    "    gmodel.summary()\n",
    "    return gmodel\n",
    "\n",
    "\n",
    "def get_callbacks(filepath, patience=2):\n",
    "    es = EarlyStopping('val_loss', patience=patience, mode=\"min\")\n",
    "    msave = ModelCheckpoint(filepath, save_best_only=True)\n",
    "    return [es, msave]\n",
    "file_path = \".model_weights.hdf5\"\n",
    "callbacks = get_callbacks(filepath=file_path, patience=5)\n"
   ]
  },
  {
   "cell_type": "code",
   "execution_count": 8,
   "metadata": {
    "_cell_guid": "1d690d4a-09ca-417c-8090-2aa417c514dd",
    "_uuid": "a883659e53709da950d04a4e5349c66d77a9422f",
    "collapsed": true
   },
   "outputs": [],
   "source": [
    "target_train=train['is_iceberg']\n",
    "X_train_cv, X_valid, y_train_cv, y_valid = train_test_split(X_train, target_train, random_state=1, train_size=0.75)"
   ]
  },
  {
   "cell_type": "code",
   "execution_count": 9,
   "metadata": {
    "_cell_guid": "d6bb750a-e882-4429-ad23-4392389f427f",
    "_uuid": "4e6dab11165b7d9515eb32b698851b260f0d941f"
   },
   "outputs": [
    {
     "name": "stdout",
     "output_type": "stream",
     "text": [
      "_________________________________________________________________\n",
      "Layer (type)                 Output Shape              Param #   \n",
      "=================================================================\n",
      "conv2d_1 (Conv2D)            (None, 73, 73, 64)        1792      \n",
      "_________________________________________________________________\n",
      "max_pooling2d_1 (MaxPooling2 (None, 36, 36, 64)        0         \n",
      "_________________________________________________________________\n",
      "dropout_1 (Dropout)          (None, 36, 36, 64)        0         \n",
      "_________________________________________________________________\n",
      "conv2d_2 (Conv2D)            (None, 34, 34, 128)       73856     \n",
      "_________________________________________________________________\n",
      "max_pooling2d_2 (MaxPooling2 (None, 17, 17, 128)       0         \n",
      "_________________________________________________________________\n",
      "dropout_2 (Dropout)          (None, 17, 17, 128)       0         \n",
      "_________________________________________________________________\n",
      "conv2d_3 (Conv2D)            (None, 15, 15, 128)       147584    \n",
      "_________________________________________________________________\n",
      "max_pooling2d_3 (MaxPooling2 (None, 7, 7, 128)         0         \n",
      "_________________________________________________________________\n",
      "dropout_3 (Dropout)          (None, 7, 7, 128)         0         \n",
      "_________________________________________________________________\n",
      "conv2d_4 (Conv2D)            (None, 5, 5, 64)          73792     \n",
      "_________________________________________________________________\n",
      "max_pooling2d_4 (MaxPooling2 (None, 2, 2, 64)          0         \n",
      "_________________________________________________________________\n",
      "dropout_4 (Dropout)          (None, 2, 2, 64)          0         \n",
      "_________________________________________________________________\n",
      "flatten_1 (Flatten)          (None, 256)               0         \n",
      "_________________________________________________________________\n",
      "dense_1 (Dense)              (None, 512)               131584    \n",
      "_________________________________________________________________\n",
      "activation_1 (Activation)    (None, 512)               0         \n",
      "_________________________________________________________________\n",
      "dropout_5 (Dropout)          (None, 512)               0         \n",
      "_________________________________________________________________\n",
      "dense_2 (Dense)              (None, 256)               131328    \n",
      "_________________________________________________________________\n",
      "activation_2 (Activation)    (None, 256)               0         \n",
      "_________________________________________________________________\n",
      "dropout_6 (Dropout)          (None, 256)               0         \n",
      "_________________________________________________________________\n",
      "dense_3 (Dense)              (None, 1)                 257       \n",
      "_________________________________________________________________\n",
      "activation_3 (Activation)    (None, 1)                 0         \n",
      "=================================================================\n",
      "Total params: 560,193\n",
      "Trainable params: 560,193\n",
      "Non-trainable params: 0\n",
      "_________________________________________________________________\n",
      "Train on 1203 samples, validate on 401 samples\n",
      "Epoch 1/40\n",
      "1203/1203 [==============================] - 39s - loss: 0.9096 - acc: 0.5661 - val_loss: 0.6115 - val_acc: 0.6110\n",
      "Epoch 2/40\n",
      "1203/1203 [==============================] - 38s - loss: 0.5574 - acc: 0.6733 - val_loss: 0.5650 - val_acc: 0.6708\n",
      "Epoch 3/40\n",
      "1203/1203 [==============================] - 39s - loss: 0.5401 - acc: 0.6999 - val_loss: 0.5387 - val_acc: 0.7531\n",
      "Epoch 4/40\n",
      "1203/1203 [==============================] - 38s - loss: 0.4932 - acc: 0.7465 - val_loss: 0.4584 - val_acc: 0.7830\n",
      "Epoch 5/40\n",
      "1203/1203 [==============================] - 38s - loss: 0.4631 - acc: 0.7772 - val_loss: 0.4363 - val_acc: 0.8130\n",
      "Epoch 6/40\n",
      "1203/1203 [==============================] - 38s - loss: 0.4188 - acc: 0.8071 - val_loss: 0.4906 - val_acc: 0.7307\n",
      "Epoch 7/40\n",
      "1203/1203 [==============================] - 38s - loss: 0.4120 - acc: 0.8113 - val_loss: 0.4593 - val_acc: 0.7880\n",
      "Epoch 8/40\n",
      "1203/1203 [==============================] - 38s - loss: 0.4047 - acc: 0.8071 - val_loss: 0.3726 - val_acc: 0.8329\n",
      "Epoch 9/40\n",
      "1203/1203 [==============================] - 38s - loss: 0.3667 - acc: 0.8321 - val_loss: 0.3928 - val_acc: 0.8404\n",
      "Epoch 10/40\n",
      "1203/1203 [==============================] - 38s - loss: 0.3748 - acc: 0.8396 - val_loss: 0.3499 - val_acc: 0.8529\n",
      "Epoch 11/40\n",
      "1203/1203 [==============================] - 38s - loss: 0.3744 - acc: 0.8213 - val_loss: 0.3583 - val_acc: 0.8379\n",
      "Epoch 12/40\n",
      "1203/1203 [==============================] - 38s - loss: 0.3306 - acc: 0.8570 - val_loss: 0.3289 - val_acc: 0.8703\n",
      "Epoch 13/40\n",
      "1203/1203 [==============================] - 38s - loss: 0.3307 - acc: 0.8487 - val_loss: 0.3201 - val_acc: 0.8878\n",
      "Epoch 14/40\n",
      "1203/1203 [==============================] - 39s - loss: 0.3558 - acc: 0.8313 - val_loss: 0.3654 - val_acc: 0.8180\n",
      "Epoch 15/40\n",
      "1203/1203 [==============================] - 44s - loss: 0.3288 - acc: 0.8362 - val_loss: 0.3007 - val_acc: 0.8728\n",
      "Epoch 16/40\n",
      "1203/1203 [==============================] - 38s - loss: 0.3089 - acc: 0.8512 - val_loss: 0.3651 - val_acc: 0.8479\n",
      "Epoch 17/40\n",
      "1203/1203 [==============================] - 38s - loss: 0.2952 - acc: 0.8612 - val_loss: 0.3110 - val_acc: 0.8878\n",
      "Epoch 18/40\n",
      "1203/1203 [==============================] - 38s - loss: 0.2849 - acc: 0.8687 - val_loss: 0.3209 - val_acc: 0.8628\n",
      "Epoch 19/40\n",
      "1203/1203 [==============================] - 41s - loss: 0.2568 - acc: 0.8728 - val_loss: 0.3664 - val_acc: 0.8504\n",
      "Epoch 20/40\n",
      "1203/1203 [==============================] - 37s - loss: 0.2683 - acc: 0.8811 - val_loss: 0.3954 - val_acc: 0.8055\n",
      "Epoch 21/40\n",
      "1203/1203 [==============================] - 37s - loss: 0.2692 - acc: 0.8878 - val_loss: 0.3879 - val_acc: 0.8354\n"
     ]
    },
    {
     "data": {
      "text/plain": [
       "<keras.callbacks.History at 0x190728048>"
      ]
     },
     "execution_count": 9,
     "metadata": {},
     "output_type": "execute_result"
    }
   ],
   "source": [
    "#Without denoising, core features.\n",
    "import os\n",
    "gmodel=getModel()\n",
    "gmodel.fit(X_train_cv, y_train_cv,\n",
    "          batch_size=24,\n",
    "          epochs=40,\n",
    "          verbose=1,\n",
    "          validation_data=(X_valid, y_valid),\n",
    "          callbacks=callbacks)"
   ]
  },
  {
   "cell_type": "code",
   "execution_count": 10,
   "metadata": {
    "_cell_guid": "079f0a8d-d2a5-4154-b37f-b425333e4ada",
    "_uuid": "0fa65f37d198cd6301376f179d9de0ccc1d40db3"
   },
   "outputs": [
    {
     "name": "stdout",
     "output_type": "stream",
     "text": [
      "401/401 [==============================] - 3s     \n",
      "Test loss: 0.300687722137\n",
      "Test accuracy: 0.872817955855\n"
     ]
    }
   ],
   "source": [
    "gmodel.load_weights(filepath=file_path)\n",
    "score = gmodel.evaluate(X_valid, y_valid, verbose=1)\n",
    "print('Test loss:', score[0])\n",
    "print('Test accuracy:', score[1])"
   ]
  },
  {
   "cell_type": "code",
   "execution_count": 11,
   "metadata": {
    "_cell_guid": "7cae1458-a566-4714-8b80-0b23fe88509c",
    "_uuid": "27f021784da863a2ad960a96b9c7394f25521802"
   },
   "outputs": [
    {
     "name": "stdout",
     "output_type": "stream",
     "text": [
      "8424/8424 [==============================] - 74s    \n"
     ]
    }
   ],
   "source": [
    "X_band_test_1=np.array([np.array(band).astype(np.float32).reshape(75, 75) for band in test[\"band_1\"]])\n",
    "X_band_test_2=np.array([np.array(band).astype(np.float32).reshape(75, 75) for band in test[\"band_2\"]])\n",
    "X_test = np.concatenate([X_band_test_1[:, :, :, np.newaxis]\n",
    "                          , X_band_test_2[:, :, :, np.newaxis]\n",
    "                         , ((X_band_test_1+X_band_test_2)/2)[:, :, :, np.newaxis]], axis=-1)\n",
    "predicted_test=gmodel.predict_proba(X_test)"
   ]
  },
  {
   "cell_type": "code",
   "execution_count": 12,
   "metadata": {
    "_cell_guid": "da3618f6-6e0a-475c-a390-7e17f5406c1a",
    "_kg_hide-output": false,
    "_uuid": "b34412c33fe8250df3285867d9a13e4bd08e8c12"
   },
   "outputs": [
    {
     "name": "stdout",
     "output_type": "stream",
     "text": [
      "            id    is_iceberg\n",
      "0     5941774d  5.462511e-01\n",
      "1     4023181e  7.695506e-01\n",
      "2     b20200e4  1.000000e+00\n",
      "3     e7f018bb  9.967126e-01\n",
      "4     4371c8c3  9.685963e-01\n",
      "5     a8d9b1fd  1.358877e-01\n",
      "6     29e7727e  2.684855e-01\n",
      "7     92a51ffb  9.965719e-01\n",
      "8     c769ac97  7.164891e-06\n",
      "9     aee0547d  2.457036e-16\n",
      "10    565b28ac  4.358748e-08\n",
      "11    e04e9775  8.734182e-01\n",
      "12    8e8161d1  3.978037e-05\n",
      "13    4cf4d256  6.190847e-01\n",
      "14    139e5324  9.992397e-01\n",
      "15    f156976f  2.000110e-02\n",
      "16    68a117cc  3.076328e-02\n",
      "17    d9aa7a56  8.563881e-01\n",
      "18    9005b143  9.861560e-01\n",
      "19    5f6d3988  8.241969e-01\n",
      "20    9ad70954  4.376007e-01\n",
      "21    b9087b9e  4.629281e-01\n",
      "22    a39a1427  9.918346e-01\n",
      "23    82fbe8ed  4.962038e-01\n",
      "24    1fae4879  4.826676e-22\n",
      "25    6dd8f13d  4.830051e-09\n",
      "26    bbad5958  1.188221e-01\n",
      "27    54527583  8.079961e-01\n",
      "28    be8fa29c  3.756534e-01\n",
      "29    81a3328f  9.772240e-01\n",
      "...        ...           ...\n",
      "8394  8ae30ce6  2.382990e-03\n",
      "8395  de27ed88  1.982083e-27\n",
      "8396  66d5196f  3.470900e-01\n",
      "8397  d85f1858  7.514003e-01\n",
      "8398  16dcb33a  7.421426e-01\n",
      "8399  eca3158e  9.999985e-01\n",
      "8400  08daeee6  7.212946e-08\n",
      "8401  e9c513ee  8.621541e-07\n",
      "8402  b1519fa6  8.873914e-01\n",
      "8403  dfc89540  8.010123e-01\n",
      "8404  8fd8c0e9  7.627481e-01\n",
      "8405  45df6347  1.404189e-05\n",
      "8406  bf7928d7  7.199489e-01\n",
      "8407  7b587c05  2.381509e-03\n",
      "8408  c2834388  6.809685e-01\n",
      "8409  146143c3  9.547449e-01\n",
      "8410  d59aee00  4.147888e-16\n",
      "8411  cbc0b93b  6.380922e-01\n",
      "8412  088e2ff7  9.183322e-01\n",
      "8413  673d33cd  6.783395e-01\n",
      "8414  674b031e  2.650561e-08\n",
      "8415  43db4207  9.150510e-01\n",
      "8416  156855e1  4.489606e-25\n",
      "8417  ac96cfb0  9.649173e-01\n",
      "8418  fe45aef5  6.474340e-01\n",
      "8419  16ee9b50  6.212431e-17\n",
      "8420  5a599eb7  5.721013e-01\n",
      "8421  df30d6dd  2.391717e-01\n",
      "8422  18af95b1  9.897372e-01\n",
      "8423  27d788c8  9.652017e-01\n",
      "\n",
      "[8424 rows x 2 columns]\n",
      "There are  2405  iceburgs out of  8424  data.\n"
     ]
    }
   ],
   "source": [
    "submission = pd.DataFrame()\n",
    "submission['id']=test['id']\n",
    "submission['is_iceberg']=predicted_test.reshape((predicted_test.shape[0]))\n",
    "submission.to_csv('sub.csv', index=False)\n",
    "print(submission)\n",
    "ice = 0\n",
    "for i in range (len(test['id'])):\n",
    "    if (predicted_test.reshape((predicted_test.shape[0]))[i] >= 0.9):\n",
    "#         print(submission['id'][i],submission['is_iceberg'][i])\n",
    "        ice += 1\n",
    "print('There are ', ice,' iceburgs out of ', len(test['id']),' data.')"
   ]
  },
  {
   "cell_type": "code",
   "execution_count": null,
   "metadata": {
    "_cell_guid": "637e3662-38ac-4fa6-8065-48c8105026a9",
    "_uuid": "962411dc0d6a00c1730bfd22767542210c36f751",
    "collapsed": true
   },
   "outputs": [],
   "source": []
  }
 ],
 "metadata": {
  "kernelspec": {
   "display_name": "Python 3",
   "language": "python",
   "name": "python3"
  },
  "language_info": {
   "codemirror_mode": {
    "name": "ipython",
    "version": 3
   },
   "file_extension": ".py",
   "mimetype": "text/x-python",
   "name": "python",
   "nbconvert_exporter": "python",
   "pygments_lexer": "ipython3",
   "version": "3.6.1"
  }
 },
 "nbformat": 4,
 "nbformat_minor": 1
}
