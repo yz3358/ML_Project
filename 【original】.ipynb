{
 "cells": [
  {
   "cell_type": "code",
   "execution_count": 1,
   "metadata": {
    "_cell_guid": "dbf2ff22-712b-4fc2-8687-99caa9bf07d8",
    "_uuid": "f57e59e8589cb94001d8673fb737a4e0d96852bd",
    "collapsed": true
   },
   "outputs": [],
   "source": [
    "# This Python 3 environment comes with many helpful analytics libraries installed\n",
    "# It is defined by the kaggle/python docker image: https://github.com/kaggle/docker-python\n",
    "# For example, here's several helpful packages to load in \n",
    "\n",
    "import numpy as np \n",
    "import pandas as pd "
   ]
  },
  {
   "cell_type": "code",
   "execution_count": 2,
   "metadata": {
    "_cell_guid": "ea3f4874-a9aa-42f1-9605-b1784a6f48ba",
    "_uuid": "58c82d3b3c4b4305b388a6ac4eeca49d600f9105",
    "collapsed": true
   },
   "outputs": [],
   "source": [
    "import numpy as np\n",
    "import pandas as pd\n",
    "from sklearn.model_selection import train_test_split\n",
    "from os.path import join as opj\n",
    "from matplotlib import pyplot as plt\n",
    "from mpl_toolkits.mplot3d import Axes3D\n",
    "import pylab\n",
    "plt.rcParams['figure.figsize'] = 10, 10\n",
    "%matplotlib inline"
   ]
  },
  {
   "cell_type": "code",
   "execution_count": 3,
   "metadata": {
    "_cell_guid": "804d3969-9035-4ceb-bb65-1b8549d729ec",
    "_uuid": "7a7f3af5ef279a9ed26c4d9ee764bd1fb4bdf10e",
    "collapsed": true
   },
   "outputs": [],
   "source": [
    "#Load the data.\n",
    "train = pd.read_json(\"train/processed/train.json\")"
   ]
  },
  {
   "cell_type": "code",
   "execution_count": 4,
   "metadata": {
    "_cell_guid": "7b546aab-7b7d-4cde-91cc-e794fd4041bd",
    "_uuid": "2c18cf164fbbc6d1c29e9c668cbfcd7a1ea10824",
    "collapsed": true
   },
   "outputs": [],
   "source": [
    "test = pd.read_json(\"test/processed/test.json\")"
   ]
  },
  {
   "cell_type": "markdown",
   "metadata": {
    "_cell_guid": "e178779f-0698-47cd-9be5-50f9c9590089",
    "_uuid": "f5b6c2ba24e6bf5726f8551cdeeeaf931184c2bc"
   },
   "source": [
    "#Intro about the Data.\n",
    "\n",
    "Sentinet -1 sat is at about 680 Km above earth. Sending pulses of signals at a particular angle of incidence and then recoding it back. Basically those reflected signals are called backscatter. The data we have been given is backscatter coefficient which is the conventional form of backscatter coefficient given by:\n",
    "\n",
    "$σo (dB) = βo (dB) + 10log10 [ sin(ip) / sin (ic)] $\n",
    "\n",
    "where\n",
    "1. ip=is angle of incidence for a particular pixel\n",
    "2. 'ic ' is angle of incidence for center of the image\n",
    "3. K =constant.\n",
    "\n",
    "We have been given $σo$ directly in the data. \n",
    "###Now coming to the features of $σo$\n",
    "Basically σo varies with the surface on which the signal is scattered from. For example, for a particular angle of incidence, it varies like:\n",
    "*             WATER...........           SETTLEMENTS........           AGRICULTURE...........          BARREN........\n",
    "\n",
    "1.**HH:**     -27.001   ................                     2.70252       .................                -12.7952        ................    -17.25790909\n",
    "\n",
    "2.**HV: **      -28.035      ................            -20.2665             ..................          -21.4471       .................     -20.019\n",
    "\n",
    "As you can see, the HH component varies a lot but HV doesn't.\n",
    "**I don't have the data for scatter from ship, but being a metal object, it should vary differently as compared to ice object.**\n",
    "\n",
    "\n",
    "\n",
    "Ok, so this Sentinal Settalite is equivalent to RISTSAT(an Indian remote sensing Sat) and they only Transmit pings in H polarization, **AND NOT IN V polarization**.  Those H-pings gets scattered, objects change their polarization and returns as a mix of H and V.\n",
    "**Since Sentinel has only H-transmitter, return signals are of the form of HH and HV only**. Don't ask why VV is not given(because Sentinel don't have V-ping transmitter).\n",
    "\n",
    "Now coming to features, for the purpose of this demo code, I am extracting all two bands and taking avg of them as 3rd channel to create a 3-channel RGB equivalent. \n"
   ]
  },
  {
   "cell_type": "code",
   "execution_count": 5,
   "metadata": {
    "_cell_guid": "829bf7db-fab1-4a2d-9562-0a37c6390d2a",
    "_uuid": "5292632717f11cd01c135dfabfd3cda9318cc639",
    "collapsed": true
   },
   "outputs": [],
   "source": [
    "#Generate the training data\n",
    "#Create 3 bands having HH, HV and avg of both\n",
    "X_band_1=np.array([np.array(band).astype(np.float32).reshape(75, 75) for band in train[\"band_1\"]])\n",
    "X_band_2=np.array([np.array(band).astype(np.float32).reshape(75, 75) for band in train[\"band_2\"]])\n",
    "X_train = np.concatenate([X_band_1[:, :, :, np.newaxis], X_band_2[:, :, :, np.newaxis],((X_band_1+X_band_2)/2)[:, :, :, np.newaxis]], axis=-1)"
   ]
  },
  {
   "cell_type": "code",
   "execution_count": 6,
   "metadata": {
    "_cell_guid": "fb15bc53-becc-4e87-88ce-3bc99d45358d",
    "_uuid": "7a68a94f8c617209dfe56a58e291193e963d0f62"
   },
   "outputs": [
    {
     "name": "stderr",
     "output_type": "stream",
     "text": [
      "Using TensorFlow backend.\n"
     ]
    }
   ],
   "source": [
    "#Import Keras.\n",
    "from matplotlib import pyplot\n",
    "from keras.preprocessing.image import ImageDataGenerator\n",
    "from keras.models import Sequential\n",
    "from keras.layers import Conv2D, MaxPooling2D, Dense, Dropout, Input, Flatten, Activation\n",
    "from keras.layers import GlobalMaxPooling2D\n",
    "from keras.layers.normalization import BatchNormalization\n",
    "from keras.layers.merge import Concatenate\n",
    "from keras.models import Model\n",
    "from keras import initializers\n",
    "from keras.optimizers import Adam\n",
    "from keras.callbacks import ModelCheckpoint, Callback, EarlyStopping"
   ]
  },
  {
   "cell_type": "code",
   "execution_count": 7,
   "metadata": {
    "_cell_guid": "d7a4c0cc-0e96-46ea-960c-89bb80e11b56",
    "_uuid": "4602792c9d531903bd65c3b127a1e6be2c444b2d",
    "collapsed": true
   },
   "outputs": [],
   "source": [
    "#define our model\n",
    "def getModel():\n",
    "    #Building the model\n",
    "    gmodel=Sequential()\n",
    "    #Conv Layer 1\n",
    "    gmodel.add(Conv2D(64, kernel_size=(3, 3),activation='relu', input_shape=(75, 75, 3)))\n",
    "    gmodel.add(MaxPooling2D(pool_size=(3, 3), strides=(2, 2)))\n",
    "    gmodel.add(Dropout(0.2))\n",
    "\n",
    "    #Conv Layer 2\n",
    "    gmodel.add(Conv2D(128, kernel_size=(3, 3), activation='relu' ))\n",
    "    gmodel.add(MaxPooling2D(pool_size=(2, 2), strides=(2, 2)))\n",
    "    gmodel.add(Dropout(0.2))\n",
    "\n",
    "    #Conv Layer 3\n",
    "    gmodel.add(Conv2D(128, kernel_size=(3, 3), activation='relu'))\n",
    "    gmodel.add(MaxPooling2D(pool_size=(2, 2), strides=(2, 2)))\n",
    "    gmodel.add(Dropout(0.2))\n",
    "\n",
    "    #Conv Layer 4\n",
    "    gmodel.add(Conv2D(64, kernel_size=(3, 3), activation='relu'))\n",
    "    gmodel.add(MaxPooling2D(pool_size=(2, 2), strides=(2, 2)))\n",
    "    gmodel.add(Dropout(0.2))\n",
    "\n",
    "    #Flatten the data for upcoming dense layers\n",
    "    gmodel.add(Flatten())\n",
    "\n",
    "    #Dense Layers\n",
    "    gmodel.add(Dense(512))\n",
    "    gmodel.add(Activation('relu'))\n",
    "    gmodel.add(Dropout(0.2))\n",
    "\n",
    "    #Dense Layer 2\n",
    "    gmodel.add(Dense(256))\n",
    "    gmodel.add(Activation('relu'))\n",
    "    gmodel.add(Dropout(0.2))\n",
    "\n",
    "    #Sigmoid Layer\n",
    "    gmodel.add(Dense(1))\n",
    "    gmodel.add(Activation('sigmoid'))\n",
    "\n",
    "    mypotim=Adam(lr=0.001, beta_1=0.9, beta_2=0.999, epsilon=1e-08, decay=0.0)\n",
    "    gmodel.compile(loss='binary_crossentropy',\n",
    "                  optimizer=mypotim,\n",
    "                  metrics=['accuracy'])\n",
    "    gmodel.summary()\n",
    "    return gmodel\n",
    "\n",
    "\n",
    "def get_callbacks(filepath, patience=2):\n",
    "    es = EarlyStopping('val_loss', patience=patience, mode=\"min\")\n",
    "    msave = ModelCheckpoint(filepath, save_best_only=True)\n",
    "    return [es, msave]\n",
    "file_path = \".model_weights.hdf5\"\n",
    "callbacks = get_callbacks(filepath=file_path, patience=5)\n"
   ]
  },
  {
   "cell_type": "code",
   "execution_count": 8,
   "metadata": {
    "_cell_guid": "1d690d4a-09ca-417c-8090-2aa417c514dd",
    "_uuid": "a883659e53709da950d04a4e5349c66d77a9422f",
    "collapsed": true
   },
   "outputs": [],
   "source": [
    "target_train=train['is_iceberg']\n",
    "X_train_cv, X_valid, y_train_cv, y_valid = train_test_split(X_train, target_train, random_state=1, train_size=0.75)"
   ]
  },
  {
   "cell_type": "code",
   "execution_count": 9,
   "metadata": {
    "_cell_guid": "d6bb750a-e882-4429-ad23-4392389f427f",
    "_uuid": "4e6dab11165b7d9515eb32b698851b260f0d941f"
   },
   "outputs": [
    {
     "name": "stdout",
     "output_type": "stream",
     "text": [
      "_________________________________________________________________\n",
      "Layer (type)                 Output Shape              Param #   \n",
      "=================================================================\n",
      "conv2d_1 (Conv2D)            (None, 73, 73, 64)        1792      \n",
      "_________________________________________________________________\n",
      "max_pooling2d_1 (MaxPooling2 (None, 36, 36, 64)        0         \n",
      "_________________________________________________________________\n",
      "dropout_1 (Dropout)          (None, 36, 36, 64)        0         \n",
      "_________________________________________________________________\n",
      "conv2d_2 (Conv2D)            (None, 34, 34, 128)       73856     \n",
      "_________________________________________________________________\n",
      "max_pooling2d_2 (MaxPooling2 (None, 17, 17, 128)       0         \n",
      "_________________________________________________________________\n",
      "dropout_2 (Dropout)          (None, 17, 17, 128)       0         \n",
      "_________________________________________________________________\n",
      "conv2d_3 (Conv2D)            (None, 15, 15, 128)       147584    \n",
      "_________________________________________________________________\n",
      "max_pooling2d_3 (MaxPooling2 (None, 7, 7, 128)         0         \n",
      "_________________________________________________________________\n",
      "dropout_3 (Dropout)          (None, 7, 7, 128)         0         \n",
      "_________________________________________________________________\n",
      "conv2d_4 (Conv2D)            (None, 5, 5, 64)          73792     \n",
      "_________________________________________________________________\n",
      "max_pooling2d_4 (MaxPooling2 (None, 2, 2, 64)          0         \n",
      "_________________________________________________________________\n",
      "dropout_4 (Dropout)          (None, 2, 2, 64)          0         \n",
      "_________________________________________________________________\n",
      "flatten_1 (Flatten)          (None, 256)               0         \n",
      "_________________________________________________________________\n",
      "dense_1 (Dense)              (None, 512)               131584    \n",
      "_________________________________________________________________\n",
      "activation_1 (Activation)    (None, 512)               0         \n",
      "_________________________________________________________________\n",
      "dropout_5 (Dropout)          (None, 512)               0         \n",
      "_________________________________________________________________\n",
      "dense_2 (Dense)              (None, 256)               131328    \n",
      "_________________________________________________________________\n",
      "activation_2 (Activation)    (None, 256)               0         \n",
      "_________________________________________________________________\n",
      "dropout_6 (Dropout)          (None, 256)               0         \n",
      "_________________________________________________________________\n",
      "dense_3 (Dense)              (None, 1)                 257       \n",
      "_________________________________________________________________\n",
      "activation_3 (Activation)    (None, 1)                 0         \n",
      "=================================================================\n",
      "Total params: 560,193\n",
      "Trainable params: 560,193\n",
      "Non-trainable params: 0\n",
      "_________________________________________________________________\n",
      "Train on 1203 samples, validate on 401 samples\n",
      "Epoch 1/40\n",
      "1203/1203 [==============================] - 39s - loss: 0.8907 - acc: 0.5170 - val_loss: 0.5790 - val_acc: 0.6584\n",
      "Epoch 2/40\n",
      "1203/1203 [==============================] - 39s - loss: 0.5487 - acc: 0.6791 - val_loss: 0.5693 - val_acc: 0.7556\n",
      "Epoch 3/40\n",
      "1203/1203 [==============================] - 38s - loss: 0.4407 - acc: 0.7855 - val_loss: 0.4642 - val_acc: 0.8105\n",
      "Epoch 4/40\n",
      "1203/1203 [==============================] - 38s - loss: 0.4180 - acc: 0.7914 - val_loss: 0.3674 - val_acc: 0.8279\n",
      "Epoch 5/40\n",
      "1203/1203 [==============================] - 38s - loss: 0.3922 - acc: 0.8204 - val_loss: 0.4148 - val_acc: 0.8180\n",
      "Epoch 6/40\n",
      "1203/1203 [==============================] - 38s - loss: 0.3972 - acc: 0.8080 - val_loss: 0.3638 - val_acc: 0.8304\n",
      "Epoch 7/40\n",
      "1203/1203 [==============================] - 38s - loss: 0.3984 - acc: 0.8155 - val_loss: 0.4071 - val_acc: 0.7955\n",
      "Epoch 8/40\n",
      "1203/1203 [==============================] - 38s - loss: 0.3671 - acc: 0.8254 - val_loss: 0.3105 - val_acc: 0.8603\n",
      "Epoch 9/40\n",
      "1203/1203 [==============================] - 38s - loss: 0.3352 - acc: 0.8379 - val_loss: 0.3487 - val_acc: 0.8429\n",
      "Epoch 10/40\n",
      "1203/1203 [==============================] - 38s - loss: 0.3381 - acc: 0.8396 - val_loss: 0.5075 - val_acc: 0.8379\n",
      "Epoch 11/40\n",
      "1203/1203 [==============================] - 38s - loss: 0.3132 - acc: 0.8529 - val_loss: 0.3224 - val_acc: 0.8678\n",
      "Epoch 12/40\n",
      "1203/1203 [==============================] - 38s - loss: 0.2906 - acc: 0.8678 - val_loss: 0.2911 - val_acc: 0.8678\n",
      "Epoch 13/40\n",
      "1203/1203 [==============================] - 38s - loss: 0.3395 - acc: 0.8321 - val_loss: 0.3627 - val_acc: 0.8279\n",
      "Epoch 14/40\n",
      "1203/1203 [==============================] - 38s - loss: 0.2911 - acc: 0.8570 - val_loss: 0.3359 - val_acc: 0.8603\n",
      "Epoch 15/40\n",
      "1203/1203 [==============================] - 38s - loss: 0.3221 - acc: 0.8421 - val_loss: 0.3000 - val_acc: 0.8653\n",
      "Epoch 16/40\n",
      "1203/1203 [==============================] - 38s - loss: 0.3147 - acc: 0.8387 - val_loss: 0.3149 - val_acc: 0.8853\n",
      "Epoch 17/40\n",
      "1203/1203 [==============================] - 38s - loss: 0.3052 - acc: 0.8529 - val_loss: 0.3187 - val_acc: 0.8853\n",
      "Epoch 18/40\n",
      "1203/1203 [==============================] - 38s - loss: 0.2720 - acc: 0.8778 - val_loss: 0.2739 - val_acc: 0.8928\n",
      "Epoch 19/40\n",
      "1203/1203 [==============================] - 39s - loss: 0.2728 - acc: 0.8653 - val_loss: 0.3096 - val_acc: 0.8728\n",
      "Epoch 20/40\n",
      "1203/1203 [==============================] - 38s - loss: 0.2528 - acc: 0.8836 - val_loss: 0.2700 - val_acc: 0.8953\n",
      "Epoch 21/40\n",
      "1203/1203 [==============================] - 38s - loss: 0.2694 - acc: 0.8695 - val_loss: 0.3008 - val_acc: 0.8803\n",
      "Epoch 22/40\n",
      "1203/1203 [==============================] - 38s - loss: 0.2705 - acc: 0.8720 - val_loss: 0.2845 - val_acc: 0.8853\n",
      "Epoch 23/40\n",
      "1203/1203 [==============================] - 38s - loss: 0.2442 - acc: 0.8803 - val_loss: 0.2952 - val_acc: 0.8978\n",
      "Epoch 24/40\n",
      "1203/1203 [==============================] - 38s - loss: 0.2395 - acc: 0.8878 - val_loss: 0.2939 - val_acc: 0.8803\n",
      "Epoch 25/40\n",
      "1203/1203 [==============================] - 38s - loss: 0.2268 - acc: 0.9027 - val_loss: 0.3124 - val_acc: 0.8778\n",
      "Epoch 26/40\n",
      "1203/1203 [==============================] - 38s - loss: 0.2133 - acc: 0.9027 - val_loss: 0.2747 - val_acc: 0.8903\n"
     ]
    },
    {
     "data": {
      "text/plain": [
       "<keras.callbacks.History at 0x191cf8048>"
      ]
     },
     "execution_count": 9,
     "metadata": {},
     "output_type": "execute_result"
    }
   ],
   "source": [
    "#Without denoising, core features.\n",
    "import os\n",
    "gmodel=getModel()\n",
    "gmodel.fit(X_train_cv, y_train_cv,\n",
    "          batch_size=24,\n",
    "          epochs=40,\n",
    "          verbose=1,\n",
    "          validation_data=(X_valid, y_valid),\n",
    "          callbacks=callbacks)"
   ]
  },
  {
   "cell_type": "code",
   "execution_count": 10,
   "metadata": {
    "_cell_guid": "079f0a8d-d2a5-4154-b37f-b425333e4ada",
    "_uuid": "0fa65f37d198cd6301376f179d9de0ccc1d40db3"
   },
   "outputs": [
    {
     "name": "stdout",
     "output_type": "stream",
     "text": [
      "401/401 [==============================] - 4s     \n",
      "Test loss: 0.269958587284\n",
      "Test accuracy: 0.895261845832\n"
     ]
    }
   ],
   "source": [
    "gmodel.load_weights(filepath=file_path)\n",
    "score = gmodel.evaluate(X_valid, y_valid, verbose=1)\n",
    "print('Test loss:', score[0])\n",
    "print('Test accuracy:', score[1])"
   ]
  },
  {
   "cell_type": "code",
   "execution_count": 11,
   "metadata": {
    "_cell_guid": "7cae1458-a566-4714-8b80-0b23fe88509c",
    "_uuid": "27f021784da863a2ad960a96b9c7394f25521802"
   },
   "outputs": [
    {
     "name": "stdout",
     "output_type": "stream",
     "text": [
      "8424/8424 [==============================] - 75s    \n"
     ]
    }
   ],
   "source": [
    "X_band_test_1=np.array([np.array(band).astype(np.float32).reshape(75, 75) for band in test[\"band_1\"]])\n",
    "X_band_test_2=np.array([np.array(band).astype(np.float32).reshape(75, 75) for band in test[\"band_2\"]])\n",
    "X_test = np.concatenate([X_band_test_1[:, :, :, np.newaxis]\n",
    "                          , X_band_test_2[:, :, :, np.newaxis]\n",
    "                         , ((X_band_test_1+X_band_test_2)/2)[:, :, :, np.newaxis]], axis=-1)\n",
    "predicted_test=gmodel.predict_proba(X_test)"
   ]
  },
  {
   "cell_type": "code",
   "execution_count": 12,
   "metadata": {
    "_cell_guid": "da3618f6-6e0a-475c-a390-7e17f5406c1a",
    "_kg_hide-output": false,
    "_uuid": "b34412c33fe8250df3285867d9a13e4bd08e8c12"
   },
   "outputs": [
    {
     "name": "stdout",
     "output_type": "stream",
     "text": [
      "            id    is_iceberg\n",
      "0     5941774d  3.824414e-02\n",
      "1     4023181e  7.842571e-01\n",
      "2     b20200e4  1.000000e+00\n",
      "3     e7f018bb  9.990373e-01\n",
      "4     4371c8c3  7.552774e-01\n",
      "5     a8d9b1fd  2.492906e-02\n",
      "6     29e7727e  6.050635e-02\n",
      "7     92a51ffb  9.983811e-01\n",
      "8     c769ac97  2.680842e-13\n",
      "9     aee0547d  2.152757e-17\n",
      "10    565b28ac  2.434418e-11\n",
      "11    e04e9775  8.334991e-01\n",
      "12    8e8161d1  1.101160e-06\n",
      "13    4cf4d256  5.280670e-01\n",
      "14    139e5324  8.326821e-01\n",
      "15    f156976f  1.138734e-03\n",
      "16    68a117cc  5.920887e-03\n",
      "17    d9aa7a56  6.220446e-01\n",
      "18    9005b143  9.870868e-01\n",
      "19    5f6d3988  8.836153e-01\n",
      "20    9ad70954  1.775024e-01\n",
      "21    b9087b9e  3.198682e-01\n",
      "22    a39a1427  9.818699e-01\n",
      "23    82fbe8ed  3.578430e-01\n",
      "24    1fae4879  7.851528e-28\n",
      "25    6dd8f13d  2.306007e-08\n",
      "26    bbad5958  8.121249e-02\n",
      "27    54527583  8.119478e-01\n",
      "28    be8fa29c  1.427392e-01\n",
      "29    81a3328f  9.952723e-01\n",
      "...        ...           ...\n",
      "8394  8ae30ce6  1.999572e-03\n",
      "8395  de27ed88  9.489372e-21\n",
      "8396  66d5196f  4.576907e-01\n",
      "8397  d85f1858  5.845014e-01\n",
      "8398  16dcb33a  6.635008e-01\n",
      "8399  eca3158e  6.835837e-01\n",
      "8400  08daeee6  1.503033e-07\n",
      "8401  e9c513ee  1.997978e-10\n",
      "8402  b1519fa6  9.115148e-01\n",
      "8403  dfc89540  5.103238e-01\n",
      "8404  8fd8c0e9  8.021126e-01\n",
      "8405  45df6347  1.839380e-07\n",
      "8406  bf7928d7  7.443434e-01\n",
      "8407  7b587c05  5.059882e-06\n",
      "8408  c2834388  5.734843e-01\n",
      "8409  146143c3  9.157088e-01\n",
      "8410  d59aee00  2.247498e-16\n",
      "8411  cbc0b93b  7.359868e-01\n",
      "8412  088e2ff7  7.936442e-01\n",
      "8413  673d33cd  9.362715e-01\n",
      "8414  674b031e  1.432114e-08\n",
      "8415  43db4207  6.424851e-01\n",
      "8416  156855e1  7.410364e-31\n",
      "8417  ac96cfb0  9.948661e-01\n",
      "8418  fe45aef5  8.374413e-01\n",
      "8419  16ee9b50  1.971216e-21\n",
      "8420  5a599eb7  5.621548e-01\n",
      "8421  df30d6dd  8.790813e-04\n",
      "8422  18af95b1  9.951577e-01\n",
      "8423  27d788c8  9.948644e-01\n",
      "\n",
      "[8424 rows x 2 columns]\n",
      "There are  2323  iceburgs out of  8424  data.\n"
     ]
    }
   ],
   "source": [
    "submission = pd.DataFrame()\n",
    "submission['id']=test['id']\n",
    "submission['is_iceberg']=predicted_test.reshape((predicted_test.shape[0]))\n",
    "submission.to_csv('sub.csv', index=False)\n",
    "print(submission)\n",
    "ice = 0\n",
    "for i in range (len(test['id'])):\n",
    "    if (predicted_test.reshape((predicted_test.shape[0]))[i] >= 0.9):\n",
    "#         print(submission['id'][i],submission['is_iceberg'][i])\n",
    "        ice += 1\n",
    "print('There are ', ice,' iceburgs out of ', len(test['id']),' data.')"
   ]
  },
  {
   "cell_type": "code",
   "execution_count": null,
   "metadata": {
    "_cell_guid": "637e3662-38ac-4fa6-8065-48c8105026a9",
    "_uuid": "962411dc0d6a00c1730bfd22767542210c36f751",
    "collapsed": true
   },
   "outputs": [],
   "source": []
  }
 ],
 "metadata": {
  "kernelspec": {
   "display_name": "Python 3",
   "language": "python",
   "name": "python3"
  },
  "language_info": {
   "codemirror_mode": {
    "name": "ipython",
    "version": 3
   },
   "file_extension": ".py",
   "mimetype": "text/x-python",
   "name": "python",
   "nbconvert_exporter": "python",
   "pygments_lexer": "ipython3",
   "version": "3.6.1"
  }
 },
 "nbformat": 4,
 "nbformat_minor": 1
}
