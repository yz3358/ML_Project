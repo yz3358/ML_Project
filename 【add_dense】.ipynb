{
 "cells": [
  {
   "cell_type": "code",
   "execution_count": 1,
   "metadata": {
    "_cell_guid": "dbf2ff22-712b-4fc2-8687-99caa9bf07d8",
    "_uuid": "f57e59e8589cb94001d8673fb737a4e0d96852bd",
    "collapsed": true
   },
   "outputs": [],
   "source": [
    "# This Python 3 environment comes with many helpful analytics libraries installed\n",
    "# It is defined by the kaggle/python docker image: https://github.com/kaggle/docker-python\n",
    "# For example, here's several helpful packages to load in \n",
    "\n",
    "import numpy as np \n",
    "import pandas as pd "
   ]
  },
  {
   "cell_type": "code",
   "execution_count": 2,
   "metadata": {
    "_cell_guid": "ea3f4874-a9aa-42f1-9605-b1784a6f48ba",
    "_uuid": "58c82d3b3c4b4305b388a6ac4eeca49d600f9105",
    "collapsed": true
   },
   "outputs": [],
   "source": [
    "import numpy as np\n",
    "import pandas as pd\n",
    "from sklearn.model_selection import train_test_split\n",
    "from os.path import join as opj\n",
    "from matplotlib import pyplot as plt\n",
    "from mpl_toolkits.mplot3d import Axes3D\n",
    "import pylab\n",
    "plt.rcParams['figure.figsize'] = 10, 10\n",
    "%matplotlib inline"
   ]
  },
  {
   "cell_type": "code",
   "execution_count": 3,
   "metadata": {
    "_cell_guid": "804d3969-9035-4ceb-bb65-1b8549d729ec",
    "_uuid": "7a7f3af5ef279a9ed26c4d9ee764bd1fb4bdf10e",
    "collapsed": true
   },
   "outputs": [],
   "source": [
    "#Load the data.\n",
    "train = pd.read_json(\"train/processed/train.json\")"
   ]
  },
  {
   "cell_type": "code",
   "execution_count": 4,
   "metadata": {
    "_cell_guid": "7b546aab-7b7d-4cde-91cc-e794fd4041bd",
    "_uuid": "2c18cf164fbbc6d1c29e9c668cbfcd7a1ea10824",
    "collapsed": true
   },
   "outputs": [],
   "source": [
    "test = pd.read_json(\"test/processed/test.json\")"
   ]
  },
  {
   "cell_type": "markdown",
   "metadata": {
    "_cell_guid": "e178779f-0698-47cd-9be5-50f9c9590089",
    "_uuid": "f5b6c2ba24e6bf5726f8551cdeeeaf931184c2bc"
   },
   "source": [
    "#Intro about the Data.\n",
    "\n",
    "Sentinet -1 sat is at about 680 Km above earth. Sending pulses of signals at a particular angle of incidence and then recoding it back. Basically those reflected signals are called backscatter. The data we have been given is backscatter coefficient which is the conventional form of backscatter coefficient given by:\n",
    "\n",
    "$σo (dB) = βo (dB) + 10log10 [ sin(ip) / sin (ic)] $\n",
    "\n",
    "where\n",
    "1. ip=is angle of incidence for a particular pixel\n",
    "2. 'ic ' is angle of incidence for center of the image\n",
    "3. K =constant.\n",
    "\n",
    "We have been given $σo$ directly in the data. \n",
    "###Now coming to the features of $σo$\n",
    "Basically σo varies with the surface on which the signal is scattered from. For example, for a particular angle of incidence, it varies like:\n",
    "*             WATER...........           SETTLEMENTS........           AGRICULTURE...........          BARREN........\n",
    "\n",
    "1.**HH:**     -27.001   ................                     2.70252       .................                -12.7952        ................    -17.25790909\n",
    "\n",
    "2.**HV: **      -28.035      ................            -20.2665             ..................          -21.4471       .................     -20.019\n",
    "\n",
    "As you can see, the HH component varies a lot but HV doesn't.\n",
    "**I don't have the data for scatter from ship, but being a metal object, it should vary differently as compared to ice object.**\n",
    "\n",
    "\n",
    "\n",
    "Ok, so this Sentinal Settalite is equivalent to RISTSAT(an Indian remote sensing Sat) and they only Transmit pings in H polarization, **AND NOT IN V polarization**.  Those H-pings gets scattered, objects change their polarization and returns as a mix of H and V.\n",
    "**Since Sentinel has only H-transmitter, return signals are of the form of HH and HV only**. Don't ask why VV is not given(because Sentinel don't have V-ping transmitter).\n",
    "\n",
    "Now coming to features, for the purpose of this demo code, I am extracting all two bands and taking avg of them as 3rd channel to create a 3-channel RGB equivalent. \n"
   ]
  },
  {
   "cell_type": "code",
   "execution_count": 5,
   "metadata": {
    "_cell_guid": "829bf7db-fab1-4a2d-9562-0a37c6390d2a",
    "_uuid": "5292632717f11cd01c135dfabfd3cda9318cc639",
    "collapsed": true
   },
   "outputs": [],
   "source": [
    "#Generate the training data\n",
    "#Create 3 bands having HH, HV and avg of both\n",
    "X_band_1=np.array([np.array(band).astype(np.float32).reshape(75, 75) for band in train[\"band_1\"]])\n",
    "X_band_2=np.array([np.array(band).astype(np.float32).reshape(75, 75) for band in train[\"band_2\"]])\n",
    "X_train = np.concatenate([X_band_1[:, :, :, np.newaxis], X_band_2[:, :, :, np.newaxis],((X_band_1+X_band_2)/2)[:, :, :, np.newaxis]], axis=-1)"
   ]
  },
  {
   "cell_type": "code",
   "execution_count": 6,
   "metadata": {
    "_cell_guid": "fb15bc53-becc-4e87-88ce-3bc99d45358d",
    "_uuid": "7a68a94f8c617209dfe56a58e291193e963d0f62"
   },
   "outputs": [
    {
     "name": "stderr",
     "output_type": "stream",
     "text": [
      "Using TensorFlow backend.\n"
     ]
    }
   ],
   "source": [
    "#Import Keras.\n",
    "from matplotlib import pyplot\n",
    "from keras.preprocessing.image import ImageDataGenerator\n",
    "from keras.models import Sequential\n",
    "from keras.layers import Conv2D, MaxPooling2D, Dense, Dropout, Input, Flatten, Activation\n",
    "from keras.layers import GlobalMaxPooling2D\n",
    "from keras.layers.normalization import BatchNormalization\n",
    "from keras.layers.merge import Concatenate\n",
    "from keras.models import Model\n",
    "from keras import initializers\n",
    "from keras.optimizers import Adam\n",
    "from keras.callbacks import ModelCheckpoint, Callback, EarlyStopping"
   ]
  },
  {
   "cell_type": "code",
   "execution_count": 14,
   "metadata": {
    "_cell_guid": "d7a4c0cc-0e96-46ea-960c-89bb80e11b56",
    "_uuid": "4602792c9d531903bd65c3b127a1e6be2c444b2d"
   },
   "outputs": [],
   "source": [
    "#define our model\n",
    "def getModel():\n",
    "    #Building the model\n",
    "    gmodel=Sequential()\n",
    "    #Conv Layer 1\n",
    "    gmodel.add(Conv2D(64, kernel_size=(3, 3),activation='relu', input_shape=(75, 75, 3)))\n",
    "    gmodel.add(MaxPooling2D(pool_size=(3, 3), strides=(2, 2)))\n",
    "    gmodel.add(Dropout(0.2))\n",
    "\n",
    "    #Conv Layer 2\n",
    "    gmodel.add(Conv2D(128, kernel_size=(3, 3), activation='relu' ))\n",
    "    gmodel.add(MaxPooling2D(pool_size=(2, 2), strides=(2, 2)))\n",
    "    gmodel.add(Dropout(0.2))\n",
    "\n",
    "    #Conv Layer 3\n",
    "    gmodel.add(Conv2D(128, kernel_size=(3, 3), activation='relu'))\n",
    "    gmodel.add(MaxPooling2D(pool_size=(2, 2), strides=(2, 2)))\n",
    "    gmodel.add(Dropout(0.2))\n",
    "\n",
    "    #Conv Layer 4\n",
    "    gmodel.add(Conv2D(64, kernel_size=(3, 3), activation='relu'))\n",
    "    gmodel.add(MaxPooling2D(pool_size=(2, 2), strides=(2, 2)))\n",
    "    gmodel.add(Dropout(0.2))\n",
    "\n",
    "    #Flatten the data for upcoming dense layers\n",
    "    gmodel.add(Flatten())\n",
    "\n",
    "    #Dense Layers\n",
    "    gmodel.add(Dense(512))\n",
    "    gmodel.add(Activation('relu'))\n",
    "    gmodel.add(Dropout(0.2))\n",
    "\n",
    "    #Dense Layer 2\n",
    "    gmodel.add(Dense(256))\n",
    "    gmodel.add(Activation('relu'))\n",
    "    gmodel.add(Dropout(0.2))\n",
    "\n",
    "    #Dense Layer 3\n",
    "    gmodel.add(Dense(128))\n",
    "    gmodel.add(Activation('relu'))\n",
    "    gmodel.add(Dropout(0.2))\n",
    "\n",
    "    #Sigmoid Layer\n",
    "    gmodel.add(Dense(1))\n",
    "    gmodel.add(Activation('sigmoid'))\n",
    "\n",
    "    mypotim=Adam(lr=0.001, beta_1=0.9, beta_2=0.999, epsilon=1e-08, decay=0.0)\n",
    "    gmodel.compile(loss='binary_crossentropy',\n",
    "                  optimizer=mypotim,\n",
    "                  metrics=['accuracy'])\n",
    "    gmodel.summary()\n",
    "    return gmodel\n",
    "\n",
    "\n",
    "def get_callbacks(filepath, patience=2):\n",
    "    es = EarlyStopping('val_loss', patience=patience, mode=\"min\")\n",
    "    msave = ModelCheckpoint(filepath, save_best_only=True)\n",
    "    return [es, msave]\n",
    "file_path = \".model_weights.hdf5\"\n",
    "callbacks = get_callbacks(filepath=file_path, patience=5)\n"
   ]
  },
  {
   "cell_type": "code",
   "execution_count": 15,
   "metadata": {
    "_cell_guid": "1d690d4a-09ca-417c-8090-2aa417c514dd",
    "_uuid": "a883659e53709da950d04a4e5349c66d77a9422f",
    "collapsed": true
   },
   "outputs": [],
   "source": [
    "target_train=train['is_iceberg']\n",
    "X_train_cv, X_valid, y_train_cv, y_valid = train_test_split(X_train, target_train, random_state=1, train_size=0.75)"
   ]
  },
  {
   "cell_type": "code",
   "execution_count": 16,
   "metadata": {
    "_cell_guid": "d6bb750a-e882-4429-ad23-4392389f427f",
    "_uuid": "4e6dab11165b7d9515eb32b698851b260f0d941f"
   },
   "outputs": [
    {
     "name": "stdout",
     "output_type": "stream",
     "text": [
      "_________________________________________________________________\n",
      "Layer (type)                 Output Shape              Param #   \n",
      "=================================================================\n",
      "conv2d_1 (Conv2D)            (None, 73, 73, 64)        1792      \n",
      "_________________________________________________________________\n",
      "max_pooling2d_1 (MaxPooling2 (None, 36, 36, 64)        0         \n",
      "_________________________________________________________________\n",
      "dropout_1 (Dropout)          (None, 36, 36, 64)        0         \n",
      "_________________________________________________________________\n",
      "conv2d_2 (Conv2D)            (None, 34, 34, 128)       73856     \n",
      "_________________________________________________________________\n",
      "max_pooling2d_2 (MaxPooling2 (None, 17, 17, 128)       0         \n",
      "_________________________________________________________________\n",
      "dropout_2 (Dropout)          (None, 17, 17, 128)       0         \n",
      "_________________________________________________________________\n",
      "conv2d_3 (Conv2D)            (None, 15, 15, 128)       147584    \n",
      "_________________________________________________________________\n",
      "max_pooling2d_3 (MaxPooling2 (None, 7, 7, 128)         0         \n",
      "_________________________________________________________________\n",
      "dropout_3 (Dropout)          (None, 7, 7, 128)         0         \n",
      "_________________________________________________________________\n",
      "conv2d_4 (Conv2D)            (None, 5, 5, 64)          73792     \n",
      "_________________________________________________________________\n",
      "max_pooling2d_4 (MaxPooling2 (None, 2, 2, 64)          0         \n",
      "_________________________________________________________________\n",
      "dropout_4 (Dropout)          (None, 2, 2, 64)          0         \n",
      "_________________________________________________________________\n",
      "flatten_1 (Flatten)          (None, 256)               0         \n",
      "_________________________________________________________________\n",
      "dense_1 (Dense)              (None, 512)               131584    \n",
      "_________________________________________________________________\n",
      "activation_1 (Activation)    (None, 512)               0         \n",
      "_________________________________________________________________\n",
      "dropout_5 (Dropout)          (None, 512)               0         \n",
      "_________________________________________________________________\n",
      "dense_2 (Dense)              (None, 256)               131328    \n",
      "_________________________________________________________________\n",
      "activation_2 (Activation)    (None, 256)               0         \n",
      "_________________________________________________________________\n",
      "dropout_6 (Dropout)          (None, 256)               0         \n",
      "_________________________________________________________________\n",
      "dense_3 (Dense)              (None, 128)               32896     \n",
      "_________________________________________________________________\n",
      "activation_3 (Activation)    (None, 128)               0         \n",
      "_________________________________________________________________\n",
      "dropout_7 (Dropout)          (None, 128)               0         \n",
      "_________________________________________________________________\n",
      "dense_4 (Dense)              (None, 1)                 129       \n",
      "_________________________________________________________________\n",
      "activation_4 (Activation)    (None, 1)                 0         \n",
      "=================================================================\n",
      "Total params: 592,961\n",
      "Trainable params: 592,961\n",
      "Non-trainable params: 0\n",
      "_________________________________________________________________\n",
      "Train on 1203 samples, validate on 401 samples\n",
      "Epoch 1/40\n",
      "1203/1203 [==============================] - 48s - loss: 0.8644 - acc: 0.5353 - val_loss: 0.6260 - val_acc: 0.5312\n",
      "Epoch 2/40\n",
      "1203/1203 [==============================] - 43s - loss: 0.5815 - acc: 0.6475 - val_loss: 0.5384 - val_acc: 0.7057\n",
      "Epoch 3/40\n",
      "1203/1203 [==============================] - 46s - loss: 0.5185 - acc: 0.7265 - val_loss: 0.4739 - val_acc: 0.7706\n",
      "Epoch 4/40\n",
      "1203/1203 [==============================] - 39s - loss: 0.4729 - acc: 0.7739 - val_loss: 0.4398 - val_acc: 0.7905\n",
      "Epoch 5/40\n",
      "1203/1203 [==============================] - 39s - loss: 0.4305 - acc: 0.8022 - val_loss: 0.4678 - val_acc: 0.7756\n",
      "Epoch 6/40\n",
      "1203/1203 [==============================] - 38s - loss: 0.4366 - acc: 0.7963 - val_loss: 0.4013 - val_acc: 0.8329\n",
      "Epoch 7/40\n",
      "1203/1203 [==============================] - 42s - loss: 0.4298 - acc: 0.7872 - val_loss: 0.3947 - val_acc: 0.7955\n",
      "Epoch 8/40\n",
      "1203/1203 [==============================] - 38s - loss: 0.4048 - acc: 0.8096 - val_loss: 0.3696 - val_acc: 0.8379\n",
      "Epoch 9/40\n",
      "1203/1203 [==============================] - 37s - loss: 0.3863 - acc: 0.8196 - val_loss: 0.4100 - val_acc: 0.8304\n",
      "Epoch 10/40\n",
      "1203/1203 [==============================] - 39s - loss: 0.3905 - acc: 0.8163 - val_loss: 0.3457 - val_acc: 0.8753\n",
      "Epoch 11/40\n",
      "1203/1203 [==============================] - 38s - loss: 0.3638 - acc: 0.8246 - val_loss: 0.3805 - val_acc: 0.8229\n",
      "Epoch 12/40\n",
      "1203/1203 [==============================] - 38s - loss: 0.3675 - acc: 0.8354 - val_loss: 0.3961 - val_acc: 0.8105\n",
      "Epoch 13/40\n",
      "1203/1203 [==============================] - 38s - loss: 0.3764 - acc: 0.8221 - val_loss: 0.3693 - val_acc: 0.8279\n",
      "Epoch 14/40\n",
      "1203/1203 [==============================] - 39s - loss: 0.3260 - acc: 0.8554 - val_loss: 0.4169 - val_acc: 0.8529\n",
      "Epoch 15/40\n",
      "1203/1203 [==============================] - 39s - loss: 0.3822 - acc: 0.8346 - val_loss: 0.3188 - val_acc: 0.8529\n",
      "Epoch 16/40\n",
      "1203/1203 [==============================] - 38s - loss: 0.3300 - acc: 0.8487 - val_loss: 0.3406 - val_acc: 0.8678\n",
      "Epoch 17/40\n",
      "1203/1203 [==============================] - 38s - loss: 0.3112 - acc: 0.8479 - val_loss: 0.2820 - val_acc: 0.8728\n",
      "Epoch 18/40\n",
      "1203/1203 [==============================] - 41s - loss: 0.2850 - acc: 0.8761 - val_loss: 0.3958 - val_acc: 0.8354\n",
      "Epoch 19/40\n",
      "1203/1203 [==============================] - 38s - loss: 0.2875 - acc: 0.8720 - val_loss: 0.3396 - val_acc: 0.8354\n",
      "Epoch 20/40\n",
      "1203/1203 [==============================] - 38s - loss: 0.5167 - acc: 0.7091 - val_loss: 0.4116 - val_acc: 0.8105\n",
      "Epoch 21/40\n",
      "1203/1203 [==============================] - 40s - loss: 0.3525 - acc: 0.8354 - val_loss: 0.3265 - val_acc: 0.8803\n",
      "Epoch 22/40\n",
      "1203/1203 [==============================] - 47s - loss: 0.3060 - acc: 0.8712 - val_loss: 0.2665 - val_acc: 0.8903\n",
      "Epoch 23/40\n",
      "1203/1203 [==============================] - 48s - loss: 0.3060 - acc: 0.8612 - val_loss: 0.3050 - val_acc: 0.8928\n",
      "Epoch 24/40\n",
      "1203/1203 [==============================] - 44s - loss: 0.3049 - acc: 0.8620 - val_loss: 0.3093 - val_acc: 0.8504\n",
      "Epoch 25/40\n",
      "1203/1203 [==============================] - 40s - loss: 0.2678 - acc: 0.8761 - val_loss: 0.2860 - val_acc: 0.8953\n",
      "Epoch 26/40\n",
      "1203/1203 [==============================] - 41s - loss: 0.2878 - acc: 0.8753 - val_loss: 0.2820 - val_acc: 0.8703\n",
      "Epoch 27/40\n",
      "1203/1203 [==============================] - 41s - loss: 0.2507 - acc: 0.8886 - val_loss: 0.3054 - val_acc: 0.8728\n",
      "Epoch 28/40\n",
      "1203/1203 [==============================] - 38s - loss: 0.2610 - acc: 0.8845 - val_loss: 0.2491 - val_acc: 0.8953\n",
      "Epoch 29/40\n",
      "1203/1203 [==============================] - 38s - loss: 0.2483 - acc: 0.8928 - val_loss: 0.2668 - val_acc: 0.8903\n",
      "Epoch 30/40\n",
      "1203/1203 [==============================] - 38s - loss: 0.2812 - acc: 0.8828 - val_loss: 0.2529 - val_acc: 0.8878\n",
      "Epoch 31/40\n",
      "1203/1203 [==============================] - 38s - loss: 0.2448 - acc: 0.8869 - val_loss: 0.2839 - val_acc: 0.8753\n",
      "Epoch 32/40\n",
      "1203/1203 [==============================] - 38s - loss: 0.2237 - acc: 0.9027 - val_loss: 0.3015 - val_acc: 0.8903\n",
      "Epoch 33/40\n",
      "1203/1203 [==============================] - 38s - loss: 0.2155 - acc: 0.8986 - val_loss: 0.2850 - val_acc: 0.8753\n",
      "Epoch 34/40\n",
      "1203/1203 [==============================] - 38s - loss: 0.2369 - acc: 0.9002 - val_loss: 0.3340 - val_acc: 0.8603\n"
     ]
    },
    {
     "data": {
      "text/plain": [
       "<keras.callbacks.History at 0x18f802ef0>"
      ]
     },
     "execution_count": 16,
     "metadata": {},
     "output_type": "execute_result"
    }
   ],
   "source": [
    "#Without denoising, core features.\n",
    "import os\n",
    "gmodel=getModel()\n",
    "gmodel.fit(X_train_cv, y_train_cv,\n",
    "          batch_size=24,\n",
    "          epochs=40,\n",
    "          verbose=1,\n",
    "          validation_data=(X_valid, y_valid),\n",
    "          callbacks=callbacks)"
   ]
  },
  {
   "cell_type": "code",
   "execution_count": 17,
   "metadata": {
    "_cell_guid": "079f0a8d-d2a5-4154-b37f-b425333e4ada",
    "_uuid": "0fa65f37d198cd6301376f179d9de0ccc1d40db3"
   },
   "outputs": [
    {
     "name": "stdout",
     "output_type": "stream",
     "text": [
      "401/401 [==============================] - 3s     \n",
      "Test loss: 0.249147567963\n",
      "Test accuracy: 0.89526184613\n"
     ]
    }
   ],
   "source": [
    "gmodel.load_weights(filepath=file_path)\n",
    "score = gmodel.evaluate(X_valid, y_valid, verbose=1)\n",
    "print('Test loss:', score[0])\n",
    "print('Test accuracy:', score[1])"
   ]
  },
  {
   "cell_type": "code",
   "execution_count": 18,
   "metadata": {
    "_cell_guid": "7cae1458-a566-4714-8b80-0b23fe88509c",
    "_uuid": "27f021784da863a2ad960a96b9c7394f25521802"
   },
   "outputs": [
    {
     "name": "stdout",
     "output_type": "stream",
     "text": [
      "8424/8424 [==============================] - 75s    \n"
     ]
    }
   ],
   "source": [
    "X_band_test_1=np.array([np.array(band).astype(np.float32).reshape(75, 75) for band in test[\"band_1\"]])\n",
    "X_band_test_2=np.array([np.array(band).astype(np.float32).reshape(75, 75) for band in test[\"band_2\"]])\n",
    "X_test = np.concatenate([X_band_test_1[:, :, :, np.newaxis]\n",
    "                          , X_band_test_2[:, :, :, np.newaxis]\n",
    "                         , ((X_band_test_1+X_band_test_2)/2)[:, :, :, np.newaxis]], axis=-1)\n",
    "predicted_test=gmodel.predict_proba(X_test)"
   ]
  },
  {
   "cell_type": "code",
   "execution_count": 19,
   "metadata": {
    "_cell_guid": "da3618f6-6e0a-475c-a390-7e17f5406c1a",
    "_kg_hide-output": false,
    "_uuid": "b34412c33fe8250df3285867d9a13e4bd08e8c12"
   },
   "outputs": [
    {
     "name": "stdout",
     "output_type": "stream",
     "text": [
      "            id    is_iceberg\n",
      "0     5941774d  8.517498e-02\n",
      "1     4023181e  3.744393e-01\n",
      "2     b20200e4  1.000000e+00\n",
      "3     e7f018bb  9.989018e-01\n",
      "4     4371c8c3  4.672686e-01\n",
      "5     a8d9b1fd  6.736221e-05\n",
      "6     29e7727e  1.933731e-01\n",
      "7     92a51ffb  9.995905e-01\n",
      "8     c769ac97  4.723555e-05\n",
      "9     aee0547d  1.585199e-20\n",
      "10    565b28ac  3.927001e-07\n",
      "11    e04e9775  4.409628e-01\n",
      "12    8e8161d1  7.234911e-04\n",
      "13    4cf4d256  5.594308e-01\n",
      "14    139e5324  6.180383e-04\n",
      "15    f156976f  1.294687e-02\n",
      "16    68a117cc  1.799239e-03\n",
      "17    d9aa7a56  7.892228e-01\n",
      "18    9005b143  8.849948e-01\n",
      "19    5f6d3988  8.252477e-01\n",
      "20    9ad70954  6.778464e-02\n",
      "21    b9087b9e  7.532191e-01\n",
      "22    a39a1427  9.747350e-01\n",
      "23    82fbe8ed  4.268909e-01\n",
      "24    1fae4879  1.480215e-26\n",
      "25    6dd8f13d  1.504423e-22\n",
      "26    bbad5958  3.531032e-01\n",
      "27    54527583  4.445160e-01\n",
      "28    be8fa29c  4.039078e-02\n",
      "29    81a3328f  9.924973e-01\n",
      "...        ...           ...\n",
      "8394  8ae30ce6  2.977376e-07\n",
      "8395  de27ed88  2.587650e-34\n",
      "8396  66d5196f  6.995330e-05\n",
      "8397  d85f1858  6.063542e-01\n",
      "8398  16dcb33a  6.725610e-01\n",
      "8399  eca3158e  2.660968e-04\n",
      "8400  08daeee6  3.126603e-09\n",
      "8401  e9c513ee  3.871593e-06\n",
      "8402  b1519fa6  7.291544e-01\n",
      "8403  dfc89540  6.769583e-01\n",
      "8404  8fd8c0e9  6.775033e-01\n",
      "8405  45df6347  6.138316e-05\n",
      "8406  bf7928d7  6.648033e-07\n",
      "8407  7b587c05  3.238919e-04\n",
      "8408  c2834388  4.663205e-01\n",
      "8409  146143c3  9.971511e-01\n",
      "8410  d59aee00  4.267693e-07\n",
      "8411  cbc0b93b  3.599938e-01\n",
      "8412  088e2ff7  9.281933e-01\n",
      "8413  673d33cd  2.523078e-02\n",
      "8414  674b031e  8.118201e-15\n",
      "8415  43db4207  4.861426e-01\n",
      "8416  156855e1  2.262377e-26\n",
      "8417  ac96cfb0  6.206127e-01\n",
      "8418  fe45aef5  9.467968e-01\n",
      "8419  16ee9b50  5.371726e-36\n",
      "8420  5a599eb7  4.043643e-01\n",
      "8421  df30d6dd  3.139940e-02\n",
      "8422  18af95b1  9.967254e-01\n",
      "8423  27d788c8  1.654554e-07\n",
      "\n",
      "[8424 rows x 2 columns]\n",
      "There are  1717  iceburgs out of  8424  data.\n"
     ]
    }
   ],
   "source": [
    "submission = pd.DataFrame()\n",
    "submission['id']=test['id']\n",
    "submission['is_iceberg']=predicted_test.reshape((predicted_test.shape[0]))\n",
    "submission.to_csv('sub.csv', index=False)\n",
    "print(submission)\n",
    "ice = 0\n",
    "for i in range (len(test['id'])):\n",
    "    if (predicted_test.reshape((predicted_test.shape[0]))[i] >= 0.9):\n",
    "#         print(submission['id'][i],submission['is_iceberg'][i])\n",
    "        ice += 1\n",
    "print('There are ', ice,' iceburgs out of ', len(test['id']),' data.')"
   ]
  },
  {
   "cell_type": "code",
   "execution_count": null,
   "metadata": {
    "_cell_guid": "637e3662-38ac-4fa6-8065-48c8105026a9",
    "_uuid": "962411dc0d6a00c1730bfd22767542210c36f751",
    "collapsed": true
   },
   "outputs": [],
   "source": []
  }
 ],
 "metadata": {
  "kernelspec": {
   "display_name": "Python 3",
   "language": "python",
   "name": "python3"
  },
  "language_info": {
   "codemirror_mode": {
    "name": "ipython",
    "version": 3
   },
   "file_extension": ".py",
   "mimetype": "text/x-python",
   "name": "python",
   "nbconvert_exporter": "python",
   "pygments_lexer": "ipython3",
   "version": "3.6.1"
  }
 },
 "nbformat": 4,
 "nbformat_minor": 1
}
