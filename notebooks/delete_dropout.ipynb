{
  "cells": [
    {
      "metadata": {
        "_cell_guid": "dbf2ff22-712b-4fc2-8687-99caa9bf07d8",
        "collapsed": true,
        "_uuid": "f57e59e8589cb94001d8673fb737a4e0d96852bd",
        "trusted": true
      },
      "cell_type": "code",
      "source": "# This Python 3 environment comes with many helpful analytics libraries installed\nimport numpy as np # linear algebra\nimport pandas as pd # data processing, CSV file I/O (e.g. pd.read_csv)\n",
      "execution_count": 1,
      "outputs": []
    },
    {
      "metadata": {
        "_cell_guid": "ea3f4874-a9aa-42f1-9605-b1784a6f48ba",
        "collapsed": true,
        "_uuid": "58c82d3b3c4b4305b388a6ac4eeca49d600f9105",
        "trusted": true
      },
      "cell_type": "code",
      "source": "import numpy as np\nimport pandas as pd\nfrom sklearn.model_selection import train_test_split\nfrom os.path import join as opj\nfrom matplotlib import pyplot as plt\nfrom mpl_toolkits.mplot3d import Axes3D\nimport pylab\n# plt.rcParams['figure.figsize'] = 10, 10\n%matplotlib inline",
      "execution_count": 2,
      "outputs": []
    },
    {
      "metadata": {
        "_cell_guid": "804d3969-9035-4ceb-bb65-1b8549d729ec",
        "collapsed": true,
        "_uuid": "7a7f3af5ef279a9ed26c4d9ee764bd1fb4bdf10e",
        "trusted": true
      },
      "cell_type": "code",
      "source": "#Load the data.\ntrain = pd.read_json(\"../input/train.json\")",
      "execution_count": 3,
      "outputs": []
    },
    {
      "metadata": {
        "_cell_guid": "7b546aab-7b7d-4cde-91cc-e794fd4041bd",
        "collapsed": true,
        "_uuid": "2c18cf164fbbc6d1c29e9c668cbfcd7a1ea10824",
        "trusted": true
      },
      "cell_type": "code",
      "source": "test = pd.read_json(\"../input/test.json\")",
      "execution_count": 4,
      "outputs": []
    },
    {
      "metadata": {
        "_cell_guid": "829bf7db-fab1-4a2d-9562-0a37c6390d2a",
        "collapsed": true,
        "_uuid": "5292632717f11cd01c135dfabfd3cda9318cc639",
        "trusted": true
      },
      "cell_type": "code",
      "source": "#Generate the training data\n#Create 3 bands having HH, HV and avg of both\nX_band_1=np.array([np.array(band).astype(np.float32).reshape(75, 75) for band in train[\"band_1\"]])\nX_band_2=np.array([np.array(band).astype(np.float32).reshape(75, 75) for band in train[\"band_2\"]])\nX_train = np.concatenate([X_band_1[:, :, :, np.newaxis], X_band_2[:, :, :, np.newaxis],((X_band_1+X_band_2)/2)[:, :, :, np.newaxis]], axis=-1)",
      "execution_count": 5,
      "outputs": []
    },
    {
      "metadata": {
        "_cell_guid": "fb15bc53-becc-4e87-88ce-3bc99d45358d",
        "_uuid": "7a68a94f8c617209dfe56a58e291193e963d0f62",
        "trusted": true
      },
      "cell_type": "code",
      "source": "#Import Keras.\nfrom matplotlib import pyplot\nfrom keras.preprocessing.image import ImageDataGenerator\nfrom keras.models import Sequential\nfrom keras.layers import Conv2D, MaxPooling2D, Dense, Dropout, Input, Flatten, Activation\nfrom keras.layers import GlobalMaxPooling2D\nfrom keras.layers.normalization import BatchNormalization\nfrom keras.layers.merge import Concatenate\nfrom keras.models import Model\nfrom keras import initializers\nfrom keras.optimizers import Adam\nfrom keras.callbacks import ModelCheckpoint, Callback, EarlyStopping",
      "execution_count": 6,
      "outputs": [
        {
          "output_type": "stream",
          "text": "Using TensorFlow backend.\n/opt/conda/lib/python3.6/importlib/_bootstrap.py:219: RuntimeWarning: compiletime version 3.5 of module 'tensorflow.python.framework.fast_tensor_util' does not match runtime version 3.6\n  return f(*args, **kwds)\n",
          "name": "stderr"
        }
      ]
    },
    {
      "metadata": {
        "_cell_guid": "d7a4c0cc-0e96-46ea-960c-89bb80e11b56",
        "collapsed": true,
        "_uuid": "4602792c9d531903bd65c3b127a1e6be2c444b2d",
        "trusted": true
      },
      "cell_type": "code",
      "source": "#define our model\ndef getModel():\n    #Building the model\n    gmodel=Sequential()\n    #Conv Layer 1\n    gmodel.add(Conv2D(64, kernel_size=(3, 3),activation='relu', input_shape=(75, 75, 3)))\n    gmodel.add(MaxPooling2D(pool_size=(3, 3), strides=(2, 2)))\n#     gmodel.add(Dropout(0.2))\n\n    #Conv Layer 2\n    gmodel.add(Conv2D(128, kernel_size=(3, 3), activation='relu' ))\n    gmodel.add(MaxPooling2D(pool_size=(2, 2), strides=(2, 2)))\n#     gmodel.add(Dropout(0.2))\n\n    #Conv Layer 3\n    gmodel.add(Conv2D(128, kernel_size=(3, 3), activation='relu'))\n    gmodel.add(MaxPooling2D(pool_size=(2, 2), strides=(2, 2)))\n#     gmodel.add(Dropout(0.2))\n\n    #Conv Layer 4\n    gmodel.add(Conv2D(64, kernel_size=(3, 3), activation='relu'))\n    gmodel.add(MaxPooling2D(pool_size=(2, 2), strides=(2, 2)))\n#     gmodel.add(Dropout(0.2))\n\n    #Flatten the data for upcoming dense layers\n    gmodel.add(Flatten())\n\n    #Dense Layers\n    gmodel.add(Dense(512))\n    gmodel.add(Activation('relu'))\n#     gmodel.add(Dropout(0.2))\n\n    #Dense Layer 2\n    gmodel.add(Dense(256))\n    gmodel.add(Activation('relu'))\n#     gmodel.add(Dropout(0.2))\n\n    #Sigmoid Layer\n    gmodel.add(Dense(1))\n    gmodel.add(Activation('sigmoid'))\n\n    mypotim=Adam(lr=0.001, beta_1=0.9, beta_2=0.999, epsilon=1e-08, decay=0.0)\n    gmodel.compile(loss='binary_crossentropy',\n                  optimizer=mypotim,\n                  metrics=['accuracy'])\n    gmodel.summary()\n    return gmodel\n\n\ndef get_callbacks(filepath, patience=2):\n    es = EarlyStopping('val_loss', patience=patience, mode=\"min\")\n    msave = ModelCheckpoint(filepath, save_best_only=True)\n    return [es, msave]\nfile_path = \".model_weights.hdf5\"\ncallbacks = get_callbacks(filepath=file_path, patience=5)\n",
      "execution_count": 7,
      "outputs": []
    },
    {
      "metadata": {
        "_cell_guid": "1d690d4a-09ca-417c-8090-2aa417c514dd",
        "_uuid": "a883659e53709da950d04a4e5349c66d77a9422f",
        "trusted": true
      },
      "cell_type": "code",
      "source": "target_train=train['is_iceberg']\nX_train_cv, X_valid, y_train_cv, y_valid = train_test_split(X_train, target_train, random_state=1, train_size=0.75)",
      "execution_count": 8,
      "outputs": [
        {
          "output_type": "stream",
          "text": "/opt/conda/lib/python3.6/site-packages/sklearn/model_selection/_split.py:2010: FutureWarning: From version 0.21, test_size will always complement train_size unless both are specified.\n  FutureWarning)\n",
          "name": "stderr"
        }
      ]
    },
    {
      "metadata": {
        "_cell_guid": "d6bb750a-e882-4429-ad23-4392389f427f",
        "_uuid": "4e6dab11165b7d9515eb32b698851b260f0d941f",
        "trusted": true
      },
      "cell_type": "code",
      "source": "#Without denoising, core features.\nimport os\ngmodel=getModel()\ngmodel.fit(X_train_cv, y_train_cv,\n          batch_size=50,\n          epochs=50,\n          verbose=1,\n          validation_data=(X_valid, y_valid),\n          callbacks=callbacks)",
      "execution_count": 9,
      "outputs": [
        {
          "output_type": "stream",
          "text": "_________________________________________________________________\nLayer (type)                 Output Shape              Param #   \n=================================================================\nconv2d_1 (Conv2D)            (None, 73, 73, 64)        1792      \n_________________________________________________________________\nmax_pooling2d_1 (MaxPooling2 (None, 36, 36, 64)        0         \n_________________________________________________________________\nconv2d_2 (Conv2D)            (None, 34, 34, 128)       73856     \n_________________________________________________________________\nmax_pooling2d_2 (MaxPooling2 (None, 17, 17, 128)       0         \n_________________________________________________________________\nconv2d_3 (Conv2D)            (None, 15, 15, 128)       147584    \n_________________________________________________________________\nmax_pooling2d_3 (MaxPooling2 (None, 7, 7, 128)         0         \n_________________________________________________________________\nconv2d_4 (Conv2D)            (None, 5, 5, 64)          73792     \n_________________________________________________________________\nmax_pooling2d_4 (MaxPooling2 (None, 2, 2, 64)          0         \n_________________________________________________________________\nflatten_1 (Flatten)          (None, 256)               0         \n_________________________________________________________________\ndense_1 (Dense)              (None, 512)               131584    \n_________________________________________________________________\nactivation_1 (Activation)    (None, 512)               0         \n_________________________________________________________________\ndense_2 (Dense)              (None, 256)               131328    \n_________________________________________________________________\nactivation_2 (Activation)    (None, 256)               0         \n_________________________________________________________________\ndense_3 (Dense)              (None, 1)                 257       \n_________________________________________________________________\nactivation_3 (Activation)    (None, 1)                 0         \n=================================================================\nTotal params: 560,193\nTrainable params: 560,193\nNon-trainable params: 0\n_________________________________________________________________\nTrain on 1203 samples, validate on 401 samples\nEpoch 1/50\n1203/1203 [==============================] - 29s - loss: 0.8716 - acc: 0.5860 - val_loss: 0.7371 - val_acc: 0.6584\nEpoch 2/50\n1203/1203 [==============================] - 28s - loss: 0.5942 - acc: 0.6475 - val_loss: 0.6115 - val_acc: 0.6783\nEpoch 3/50\n1203/1203 [==============================] - 29s - loss: 0.5469 - acc: 0.6958 - val_loss: 0.5277 - val_acc: 0.6933\nEpoch 4/50\n1203/1203 [==============================] - 29s - loss: 0.4537 - acc: 0.7706 - val_loss: 1.3222 - val_acc: 0.6958\nEpoch 5/50\n1203/1203 [==============================] - 29s - loss: 0.5578 - acc: 0.7531 - val_loss: 0.4624 - val_acc: 0.7531\nEpoch 6/50\n1203/1203 [==============================] - 37s - loss: 0.4169 - acc: 0.7980 - val_loss: 0.3909 - val_acc: 0.8354\nEpoch 7/50\n1203/1203 [==============================] - 34s - loss: 0.3992 - acc: 0.8155 - val_loss: 0.3730 - val_acc: 0.8229\nEpoch 8/50\n1203/1203 [==============================] - 30s - loss: 0.3606 - acc: 0.8379 - val_loss: 0.3875 - val_acc: 0.8229\nEpoch 9/50\n1203/1203 [==============================] - 29s - loss: 0.3608 - acc: 0.8362 - val_loss: 0.3770 - val_acc: 0.8354\nEpoch 10/50\n1203/1203 [==============================] - 30s - loss: 0.3272 - acc: 0.8545 - val_loss: 0.3659 - val_acc: 0.8404\nEpoch 11/50\n1203/1203 [==============================] - 29s - loss: 0.3419 - acc: 0.8371 - val_loss: 0.3714 - val_acc: 0.8404\nEpoch 12/50\n1203/1203 [==============================] - 31s - loss: 0.3527 - acc: 0.8487 - val_loss: 0.3257 - val_acc: 0.8579\nEpoch 13/50\n1203/1203 [==============================] - 31s - loss: 0.3038 - acc: 0.8653 - val_loss: 0.3197 - val_acc: 0.8603\nEpoch 14/50\n1203/1203 [==============================] - 30s - loss: 0.2963 - acc: 0.8603 - val_loss: 0.3259 - val_acc: 0.8753\nEpoch 15/50\n1203/1203 [==============================] - 31s - loss: 0.2873 - acc: 0.8712 - val_loss: 0.4563 - val_acc: 0.8055\nEpoch 16/50\n1203/1203 [==============================] - 31s - loss: 0.3485 - acc: 0.8495 - val_loss: 0.3242 - val_acc: 0.8628\nEpoch 17/50\n1203/1203 [==============================] - 31s - loss: 0.3105 - acc: 0.8703 - val_loss: 0.4616 - val_acc: 0.8479\nEpoch 18/50\n1203/1203 [==============================] - 31s - loss: 0.3094 - acc: 0.8703 - val_loss: 0.2913 - val_acc: 0.8678\nEpoch 19/50\n1203/1203 [==============================] - 31s - loss: 0.2468 - acc: 0.8919 - val_loss: 0.4064 - val_acc: 0.8180\nEpoch 20/50\n1203/1203 [==============================] - 31s - loss: 0.2822 - acc: 0.8753 - val_loss: 0.3111 - val_acc: 0.8728\nEpoch 21/50\n1203/1203 [==============================] - 30s - loss: 0.2127 - acc: 0.9086 - val_loss: 0.3486 - val_acc: 0.8603\nEpoch 22/50\n1203/1203 [==============================] - 31s - loss: 0.2426 - acc: 0.8911 - val_loss: 0.3623 - val_acc: 0.8429\nEpoch 23/50\n1203/1203 [==============================] - 31s - loss: 0.1967 - acc: 0.9152 - val_loss: 0.3536 - val_acc: 0.8579\nEpoch 24/50\n1203/1203 [==============================] - 31s - loss: 0.2165 - acc: 0.9102 - val_loss: 0.3218 - val_acc: 0.8753\n",
          "name": "stdout"
        },
        {
          "output_type": "execute_result",
          "execution_count": 9,
          "data": {
            "text/plain": "<keras.callbacks.History at 0x7fa2a6f875f8>"
          },
          "metadata": {}
        }
      ]
    },
    {
      "metadata": {
        "_cell_guid": "923850b1-707e-41e7-bdcb-b5d0633fb12f",
        "_uuid": "04da75db4d60b76ae357503ea1178808e1026b56"
      },
      "cell_type": "markdown",
      "source": "###Though the score may be different here,  it works good on LB, I got 0.210 score."
    },
    {
      "metadata": {
        "_cell_guid": "079f0a8d-d2a5-4154-b37f-b425333e4ada",
        "_uuid": "0fa65f37d198cd6301376f179d9de0ccc1d40db3",
        "trusted": true
      },
      "cell_type": "code",
      "source": "gmodel.load_weights(filepath=file_path)\nscore = gmodel.evaluate(X_valid, y_valid, verbose=1)\nprint('Test loss:', score[0])\nprint('Test accuracy:', score[1])",
      "execution_count": 10,
      "outputs": [
        {
          "output_type": "stream",
          "text": "401/401 [==============================] - 3s     \nTest loss: 0.291263537811\nTest accuracy: 0.867830424386\n",
          "name": "stdout"
        }
      ]
    },
    {
      "metadata": {
        "_cell_guid": "7cae1458-a566-4714-8b80-0b23fe88509c",
        "_uuid": "27f021784da863a2ad960a96b9c7394f25521802",
        "trusted": true
      },
      "cell_type": "code",
      "source": "\nX_band_test_1=np.array([np.array(band).astype(np.float32).reshape(75, 75) for band in test[\"band_1\"]])\nX_band_test_2=np.array([np.array(band).astype(np.float32).reshape(75, 75) for band in test[\"band_2\"]])\nX_test = np.concatenate([X_band_test_1[:, :, :, np.newaxis]\n                          , X_band_test_2[:, :, :, np.newaxis]\n                         , ((X_band_test_1+X_band_test_2)/2)[:, :, :, np.newaxis]], axis=-1)\npredicted_test=gmodel.predict_proba(X_test)",
      "execution_count": 11,
      "outputs": [
        {
          "output_type": "stream",
          "text": "8416/8424 [============================>.] - ETA: 0s",
          "name": "stdout"
        }
      ]
    },
    {
      "metadata": {
        "_cell_guid": "da3618f6-6e0a-475c-a390-7e17f5406c1a",
        "_kg_hide-output": false,
        "_uuid": "b34412c33fe8250df3285867d9a13e4bd08e8c12",
        "trusted": true
      },
      "cell_type": "code",
      "source": "submission = pd.DataFrame()\nsubmission['id']=test['id']\nsubmission['is_iceberg']=predicted_test.reshape((predicted_test.shape[0]))\nsubmission.to_csv('sub.csv', index=False)\nprint(submission)",
      "execution_count": 12,
      "outputs": [
        {
          "output_type": "stream",
          "text": "            id    is_iceberg\n0     5941774d  3.338175e-02\n1     4023181e  9.536166e-01\n2     b20200e4  1.000000e+00\n3     e7f018bb  9.579993e-01\n4     4371c8c3  9.378911e-01\n5     a8d9b1fd  5.761569e-01\n6     29e7727e  1.481625e-01\n7     92a51ffb  9.769433e-01\n8     c769ac97  1.316771e-08\n9     aee0547d  1.304885e-35\n10    565b28ac  5.885168e-13\n11    e04e9775  9.085054e-01\n12    8e8161d1  1.150887e-04\n13    4cf4d256  7.698301e-01\n14    139e5324  8.062124e-01\n15    f156976f  1.014742e-03\n16    68a117cc  1.990253e-01\n17    d9aa7a56  3.911643e-02\n18    9005b143  9.986947e-01\n19    5f6d3988  5.715725e-01\n20    9ad70954  6.111861e-01\n21    b9087b9e  6.987618e-01\n22    a39a1427  9.840575e-01\n23    82fbe8ed  3.529305e-01\n24    1fae4879  0.000000e+00\n25    6dd8f13d  1.372333e-06\n26    bbad5958  2.948768e-02\n27    54527583  8.485867e-01\n28    be8fa29c  1.760662e-02\n29    81a3328f  9.235542e-01\n...        ...           ...\n8394  8ae30ce6  1.002762e-03\n8395  de27ed88  0.000000e+00\n8396  66d5196f  7.690583e-01\n8397  d85f1858  3.649571e-01\n8398  16dcb33a  8.907356e-01\n8399  eca3158e  9.996225e-01\n8400  08daeee6  6.292737e-10\n8401  e9c513ee  2.507296e-07\n8402  b1519fa6  8.065341e-01\n8403  dfc89540  3.120095e-01\n8404  8fd8c0e9  3.172884e-01\n8405  45df6347  7.444812e-07\n8406  bf7928d7  9.999936e-01\n8407  7b587c05  4.451728e-04\n8408  c2834388  5.876189e-01\n8409  146143c3  9.716094e-01\n8410  d59aee00  0.000000e+00\n8411  cbc0b93b  9.959834e-01\n8412  088e2ff7  9.802719e-01\n8413  673d33cd  9.984634e-01\n8414  674b031e  4.056921e-09\n8415  43db4207  9.609611e-01\n8416  156855e1  0.000000e+00\n8417  ac96cfb0  9.163741e-01\n8418  fe45aef5  8.929121e-01\n8419  16ee9b50  0.000000e+00\n8420  5a599eb7  2.490862e-01\n8421  df30d6dd  1.062808e-01\n8422  18af95b1  9.896933e-01\n8423  27d788c8  9.999996e-01\n\n[8424 rows x 2 columns]\n",
          "name": "stdout"
        }
      ]
    },
    {
      "metadata": {
        "_cell_guid": "a5140949-c867-43fd-baba-49e57bec44cf",
        "collapsed": true,
        "_uuid": "741f9696d91da6af29266fb199a6c2fb80d26dfe"
      },
      "cell_type": "markdown",
      "source": "#### Conclusion\nTo increase the score, I have tried Speckle filtering, Indicence angle normalization and other preprocessing and they don't seems to work.  You may try and see but for me they are not giving any good results.\n\nYou can't be on top-10 using this kernel, so here is one beautiful peice of information. The test dataset contain 8000 images, We can exploit this. We can do pseudo labelling to increase the predictions. Here is the article related to that:\nhttps://towardsdatascience.com/simple-explanation-of-semi-supervised-learning-and-pseudo-labeling-c2218e8c769b\n\nUpvote if you liked this kernel."
    },
    {
      "metadata": {
        "_cell_guid": "637e3662-38ac-4fa6-8065-48c8105026a9",
        "collapsed": true,
        "_uuid": "962411dc0d6a00c1730bfd22767542210c36f751",
        "trusted": true
      },
      "cell_type": "code",
      "source": "",
      "execution_count": null,
      "outputs": []
    }
  ],
  "metadata": {
    "kernelspec": {
      "display_name": "Python 3",
      "language": "python",
      "name": "python3"
    },
    "language_info": {
      "name": "python",
      "version": "3.6.3",
      "mimetype": "text/x-python",
      "codemirror_mode": {
        "name": "ipython",
        "version": 3
      },
      "pygments_lexer": "ipython3",
      "nbconvert_exporter": "python",
      "file_extension": ".py"
    }
  },
  "nbformat": 4,
  "nbformat_minor": 1
}
