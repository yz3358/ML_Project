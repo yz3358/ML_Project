{
 "cells": [
  {
   "cell_type": "code",
   "execution_count": 1,
   "metadata": {
    "_cell_guid": "dbf2ff22-712b-4fc2-8687-99caa9bf07d8",
    "_uuid": "f57e59e8589cb94001d8673fb737a4e0d96852bd",
    "collapsed": true
   },
   "outputs": [],
   "source": [
    "# This Python 3 environment comes with many helpful analytics libraries installed\n",
    "# It is defined by the kaggle/python docker image: https://github.com/kaggle/docker-python\n",
    "# For example, here's several helpful packages to load in \n",
    "\n",
    "import numpy as np \n",
    "import pandas as pd "
   ]
  },
  {
   "cell_type": "code",
   "execution_count": 2,
   "metadata": {
    "_cell_guid": "ea3f4874-a9aa-42f1-9605-b1784a6f48ba",
    "_uuid": "58c82d3b3c4b4305b388a6ac4eeca49d600f9105",
    "collapsed": true
   },
   "outputs": [],
   "source": [
    "import numpy as np\n",
    "import pandas as pd\n",
    "from sklearn.model_selection import train_test_split\n",
    "from os.path import join as opj\n",
    "from matplotlib import pyplot as plt\n",
    "from mpl_toolkits.mplot3d import Axes3D\n",
    "import pylab\n",
    "plt.rcParams['figure.figsize'] = 10, 10\n",
    "%matplotlib inline"
   ]
  },
  {
   "cell_type": "code",
   "execution_count": 3,
   "metadata": {
    "_cell_guid": "804d3969-9035-4ceb-bb65-1b8549d729ec",
    "_uuid": "7a7f3af5ef279a9ed26c4d9ee764bd1fb4bdf10e",
    "collapsed": true
   },
   "outputs": [],
   "source": [
    "#Load the data.\n",
    "train = pd.read_json(\"train/processed/train.json\")"
   ]
  },
  {
   "cell_type": "code",
   "execution_count": 4,
   "metadata": {
    "_cell_guid": "7b546aab-7b7d-4cde-91cc-e794fd4041bd",
    "_uuid": "2c18cf164fbbc6d1c29e9c668cbfcd7a1ea10824",
    "collapsed": true
   },
   "outputs": [],
   "source": [
    "test = pd.read_json(\"test/processed/test.json\")"
   ]
  },
  {
   "cell_type": "markdown",
   "metadata": {
    "_cell_guid": "e178779f-0698-47cd-9be5-50f9c9590089",
    "_uuid": "f5b6c2ba24e6bf5726f8551cdeeeaf931184c2bc"
   },
   "source": [
    "#Intro about the Data.\n",
    "\n",
    "Sentinet -1 sat is at about 680 Km above earth. Sending pulses of signals at a particular angle of incidence and then recoding it back. Basically those reflected signals are called backscatter. The data we have been given is backscatter coefficient which is the conventional form of backscatter coefficient given by:\n",
    "\n",
    "$σo (dB) = βo (dB) + 10log10 [ sin(ip) / sin (ic)] $\n",
    "\n",
    "where\n",
    "1. ip=is angle of incidence for a particular pixel\n",
    "2. 'ic ' is angle of incidence for center of the image\n",
    "3. K =constant.\n",
    "\n",
    "We have been given $σo$ directly in the data. \n",
    "###Now coming to the features of $σo$\n",
    "Basically σo varies with the surface on which the signal is scattered from. For example, for a particular angle of incidence, it varies like:\n",
    "*             WATER...........           SETTLEMENTS........           AGRICULTURE...........          BARREN........\n",
    "\n",
    "1.**HH:**     -27.001   ................                     2.70252       .................                -12.7952        ................    -17.25790909\n",
    "\n",
    "2.**HV: **      -28.035      ................            -20.2665             ..................          -21.4471       .................     -20.019\n",
    "\n",
    "As you can see, the HH component varies a lot but HV doesn't.\n",
    "**I don't have the data for scatter from ship, but being a metal object, it should vary differently as compared to ice object.**\n",
    "\n",
    "\n",
    "\n",
    "Ok, so this Sentinal Settalite is equivalent to RISTSAT(an Indian remote sensing Sat) and they only Transmit pings in H polarization, **AND NOT IN V polarization**.  Those H-pings gets scattered, objects change their polarization and returns as a mix of H and V.\n",
    "**Since Sentinel has only H-transmitter, return signals are of the form of HH and HV only**. Don't ask why VV is not given(because Sentinel don't have V-ping transmitter).\n",
    "\n",
    "Now coming to features, for the purpose of this demo code, I am extracting all two bands and taking avg of them as 3rd channel to create a 3-channel RGB equivalent. \n"
   ]
  },
  {
   "cell_type": "code",
   "execution_count": 5,
   "metadata": {
    "_cell_guid": "829bf7db-fab1-4a2d-9562-0a37c6390d2a",
    "_uuid": "5292632717f11cd01c135dfabfd3cda9318cc639",
    "collapsed": true
   },
   "outputs": [],
   "source": [
    "#Generate the training data\n",
    "#Create 3 bands having HH, HV and avg of both\n",
    "X_band_1=np.array([np.array(band).astype(np.float32).reshape(75, 75) for band in train[\"band_1\"]])\n",
    "X_band_2=np.array([np.array(band).astype(np.float32).reshape(75, 75) for band in train[\"band_2\"]])\n",
    "X_train = X_band_2[:, :, :, np.newaxis]\n",
    "# X_train = np.concatenate([X_band_1[:, :, :, np.newaxis], X_band_2[:, :, :, np.newaxis],((X_band_1+X_band_2)/2)[:, :, :, np.newaxis]], axis=-1)"
   ]
  },
  {
   "cell_type": "code",
   "execution_count": 6,
   "metadata": {
    "_cell_guid": "fb15bc53-becc-4e87-88ce-3bc99d45358d",
    "_uuid": "7a68a94f8c617209dfe56a58e291193e963d0f62"
   },
   "outputs": [
    {
     "name": "stderr",
     "output_type": "stream",
     "text": [
      "Using TensorFlow backend.\n"
     ]
    }
   ],
   "source": [
    "#Import Keras.\n",
    "from matplotlib import pyplot\n",
    "from keras.preprocessing.image import ImageDataGenerator\n",
    "from keras.models import Sequential\n",
    "from keras.layers import Conv2D, MaxPooling2D, Dense, Dropout, Input, Flatten, Activation\n",
    "from keras.layers import GlobalMaxPooling2D\n",
    "from keras.layers.normalization import BatchNormalization\n",
    "from keras.layers.merge import Concatenate\n",
    "from keras.models import Model\n",
    "from keras import initializers\n",
    "from keras.optimizers import Adam\n",
    "from keras.callbacks import ModelCheckpoint, Callback, EarlyStopping"
   ]
  },
  {
   "cell_type": "code",
   "execution_count": 7,
   "metadata": {
    "_cell_guid": "d7a4c0cc-0e96-46ea-960c-89bb80e11b56",
    "_uuid": "4602792c9d531903bd65c3b127a1e6be2c444b2d",
    "collapsed": true
   },
   "outputs": [],
   "source": [
    "#define our model\n",
    "def getModel():\n",
    "    #Building the model\n",
    "    gmodel=Sequential()\n",
    "    #Conv Layer 1\n",
    "    gmodel.add(Conv2D(32, kernel_size=(3, 3),activation='relu', input_shape=(75, 75, 1)))\n",
    "    gmodel.add(MaxPooling2D(pool_size=(3, 3), strides=(2, 2)))\n",
    "    gmodel.add(Dropout(0.2))\n",
    "\n",
    "    #Conv Layer 2\n",
    "    gmodel.add(Conv2D(64, kernel_size=(3, 3), activation='relu' ))\n",
    "    gmodel.add(MaxPooling2D(pool_size=(3, 3), strides=(2, 2)))\n",
    "    gmodel.add(Dropout(0.2))\n",
    "\n",
    "    #Conv Layer 3\n",
    "    gmodel.add(Conv2D(64, kernel_size=(3, 3), activation='relu'))\n",
    "    gmodel.add(MaxPooling2D(pool_size=(3, 3), strides=(2, 2)))\n",
    "    gmodel.add(Dropout(0.2))\n",
    "\n",
    "    #Conv Layer 4\n",
    "    gmodel.add(Conv2D(32, kernel_size=(3, 3), activation='relu'))\n",
    "    gmodel.add(MaxPooling2D(pool_size=(3, 3), strides=(2, 2)))\n",
    "    gmodel.add(Dropout(0.2))\n",
    "\n",
    "    #Flatten the data for upcoming dense layers\n",
    "    gmodel.add(Flatten())\n",
    "\n",
    "    #Dense Layers\n",
    "    gmodel.add(Dense(512))\n",
    "    gmodel.add(Activation('relu'))\n",
    "    gmodel.add(Dropout(0.2))\n",
    "\n",
    "    #Dense Layer 2\n",
    "    gmodel.add(Dense(256))\n",
    "    gmodel.add(Activation('relu'))\n",
    "    gmodel.add(Dropout(0.2))\n",
    "\n",
    "    #Sigmoid Layer\n",
    "    gmodel.add(Dense(1))\n",
    "    gmodel.add(Activation('sigmoid'))\n",
    "\n",
    "    mypotim=Adam(lr=0.001, beta_1=0.9, beta_2=0.999, epsilon=1e-08, decay=0.0)\n",
    "    gmodel.compile(loss='binary_crossentropy',\n",
    "                  optimizer=mypotim,\n",
    "                  metrics=['accuracy'])\n",
    "    gmodel.summary()\n",
    "    return gmodel\n",
    "\n",
    "\n",
    "def get_callbacks(filepath, patience=2):\n",
    "    es = EarlyStopping('val_loss', patience=patience, mode=\"min\")\n",
    "    msave = ModelCheckpoint(filepath, save_best_only=True)\n",
    "    return [es, msave]\n",
    "file_path = \".model_weights.hdf5\"\n",
    "callbacks = get_callbacks(filepath=file_path, patience=5)\n"
   ]
  },
  {
   "cell_type": "code",
   "execution_count": 8,
   "metadata": {
    "_cell_guid": "1d690d4a-09ca-417c-8090-2aa417c514dd",
    "_uuid": "a883659e53709da950d04a4e5349c66d77a9422f",
    "collapsed": true
   },
   "outputs": [],
   "source": [
    "target_train=train['is_iceberg']\n",
    "X_train_cv, X_valid, y_train_cv, y_valid = train_test_split(X_train, target_train, random_state=1, train_size=0.75)"
   ]
  },
  {
   "cell_type": "code",
   "execution_count": 9,
   "metadata": {
    "_cell_guid": "d6bb750a-e882-4429-ad23-4392389f427f",
    "_uuid": "4e6dab11165b7d9515eb32b698851b260f0d941f"
   },
   "outputs": [
    {
     "name": "stdout",
     "output_type": "stream",
     "text": [
      "_________________________________________________________________\n",
      "Layer (type)                 Output Shape              Param #   \n",
      "=================================================================\n",
      "conv2d_1 (Conv2D)            (None, 73, 73, 32)        320       \n",
      "_________________________________________________________________\n",
      "max_pooling2d_1 (MaxPooling2 (None, 36, 36, 32)        0         \n",
      "_________________________________________________________________\n",
      "dropout_1 (Dropout)          (None, 36, 36, 32)        0         \n",
      "_________________________________________________________________\n",
      "conv2d_2 (Conv2D)            (None, 34, 34, 64)        18496     \n",
      "_________________________________________________________________\n",
      "max_pooling2d_2 (MaxPooling2 (None, 16, 16, 64)        0         \n",
      "_________________________________________________________________\n",
      "dropout_2 (Dropout)          (None, 16, 16, 64)        0         \n",
      "_________________________________________________________________\n",
      "conv2d_3 (Conv2D)            (None, 14, 14, 64)        36928     \n",
      "_________________________________________________________________\n",
      "max_pooling2d_3 (MaxPooling2 (None, 6, 6, 64)          0         \n",
      "_________________________________________________________________\n",
      "dropout_3 (Dropout)          (None, 6, 6, 64)          0         \n",
      "_________________________________________________________________\n",
      "conv2d_4 (Conv2D)            (None, 4, 4, 32)          18464     \n",
      "_________________________________________________________________\n",
      "max_pooling2d_4 (MaxPooling2 (None, 1, 1, 32)          0         \n",
      "_________________________________________________________________\n",
      "dropout_4 (Dropout)          (None, 1, 1, 32)          0         \n",
      "_________________________________________________________________\n",
      "flatten_1 (Flatten)          (None, 32)                0         \n",
      "_________________________________________________________________\n",
      "dense_1 (Dense)              (None, 512)               16896     \n",
      "_________________________________________________________________\n",
      "activation_1 (Activation)    (None, 512)               0         \n",
      "_________________________________________________________________\n",
      "dropout_5 (Dropout)          (None, 512)               0         \n",
      "_________________________________________________________________\n",
      "dense_2 (Dense)              (None, 256)               131328    \n",
      "_________________________________________________________________\n",
      "activation_2 (Activation)    (None, 256)               0         \n",
      "_________________________________________________________________\n",
      "dropout_6 (Dropout)          (None, 256)               0         \n",
      "_________________________________________________________________\n",
      "dense_3 (Dense)              (None, 1)                 257       \n",
      "_________________________________________________________________\n",
      "activation_3 (Activation)    (None, 1)                 0         \n",
      "=================================================================\n",
      "Total params: 222,689\n",
      "Trainable params: 222,689\n",
      "Non-trainable params: 0\n",
      "_________________________________________________________________\n",
      "Train on 1203 samples, validate on 401 samples\n",
      "Epoch 1/40\n",
      "1203/1203 [==============================] - 14s - loss: 0.7901 - acc: 0.5104 - val_loss: 0.6895 - val_acc: 0.5312\n",
      "Epoch 2/40\n",
      "1203/1203 [==============================] - 14s - loss: 0.6430 - acc: 0.5802 - val_loss: 0.5486 - val_acc: 0.6908\n",
      "Epoch 3/40\n",
      "1203/1203 [==============================] - 13s - loss: 0.5526 - acc: 0.6833 - val_loss: 0.5307 - val_acc: 0.7057\n",
      "Epoch 4/40\n",
      "1203/1203 [==============================] - 13s - loss: 0.5515 - acc: 0.6858 - val_loss: 0.5160 - val_acc: 0.7107\n",
      "Epoch 5/40\n",
      "1203/1203 [==============================] - 13s - loss: 0.5345 - acc: 0.7024 - val_loss: 0.5662 - val_acc: 0.7232\n",
      "Epoch 6/40\n",
      "1203/1203 [==============================] - 15s - loss: 0.5227 - acc: 0.7132 - val_loss: 0.5129 - val_acc: 0.7207\n",
      "Epoch 7/40\n",
      "1203/1203 [==============================] - 15s - loss: 0.5140 - acc: 0.7265 - val_loss: 0.5118 - val_acc: 0.7232\n",
      "Epoch 8/40\n",
      "1203/1203 [==============================] - 13s - loss: 0.5165 - acc: 0.7207 - val_loss: 0.5108 - val_acc: 0.7257\n",
      "Epoch 9/40\n",
      "1203/1203 [==============================] - 13s - loss: 0.5104 - acc: 0.7282 - val_loss: 0.5025 - val_acc: 0.7307\n",
      "Epoch 10/40\n",
      "1203/1203 [==============================] - 13s - loss: 0.5198 - acc: 0.7140 - val_loss: 0.5056 - val_acc: 0.7257\n",
      "Epoch 11/40\n",
      "1203/1203 [==============================] - 13s - loss: 0.5073 - acc: 0.7315 - val_loss: 0.5251 - val_acc: 0.7307\n",
      "Epoch 12/40\n",
      "1203/1203 [==============================] - 13s - loss: 0.5058 - acc: 0.7348 - val_loss: 0.4992 - val_acc: 0.7232\n",
      "Epoch 13/40\n",
      "1203/1203 [==============================] - 12s - loss: 0.5022 - acc: 0.7307 - val_loss: 0.4860 - val_acc: 0.7631\n",
      "Epoch 14/40\n",
      "1203/1203 [==============================] - 13s - loss: 0.4921 - acc: 0.7406 - val_loss: 0.5148 - val_acc: 0.7157\n",
      "Epoch 15/40\n",
      "1203/1203 [==============================] - 12s - loss: 0.5468 - acc: 0.6874 - val_loss: 0.5037 - val_acc: 0.7257\n",
      "Epoch 16/40\n",
      "1203/1203 [==============================] - 13s - loss: 0.5041 - acc: 0.7273 - val_loss: 0.4934 - val_acc: 0.7481\n",
      "Epoch 17/40\n",
      "1203/1203 [==============================] - 16s - loss: 0.4841 - acc: 0.7506 - val_loss: 0.4677 - val_acc: 0.7830\n",
      "Epoch 18/40\n",
      "1203/1203 [==============================] - 15s - loss: 0.4924 - acc: 0.7307 - val_loss: 0.4735 - val_acc: 0.7631\n",
      "Epoch 19/40\n",
      "1203/1203 [==============================] - 13s - loss: 0.4872 - acc: 0.7473 - val_loss: 0.4708 - val_acc: 0.7706\n",
      "Epoch 20/40\n",
      "1203/1203 [==============================] - 14s - loss: 0.4848 - acc: 0.7406 - val_loss: 0.4945 - val_acc: 0.7456\n",
      "Epoch 21/40\n",
      "1203/1203 [==============================] - 14s - loss: 0.4751 - acc: 0.7614 - val_loss: 0.4481 - val_acc: 0.7880\n",
      "Epoch 22/40\n",
      "1203/1203 [==============================] - 16s - loss: 0.4725 - acc: 0.7648 - val_loss: 0.4603 - val_acc: 0.7805\n",
      "Epoch 23/40\n",
      "1203/1203 [==============================] - 15s - loss: 0.4565 - acc: 0.7731 - val_loss: 0.4327 - val_acc: 0.8030\n",
      "Epoch 24/40\n",
      "1203/1203 [==============================] - 13s - loss: 0.4728 - acc: 0.7573 - val_loss: 0.4433 - val_acc: 0.7706\n",
      "Epoch 25/40\n",
      "1203/1203 [==============================] - 13s - loss: 0.4629 - acc: 0.7747 - val_loss: 0.4505 - val_acc: 0.7905\n",
      "Epoch 26/40\n",
      "1203/1203 [==============================] - 13s - loss: 0.4409 - acc: 0.7797 - val_loss: 0.4243 - val_acc: 0.8105\n",
      "Epoch 27/40\n",
      "1203/1203 [==============================] - 14s - loss: 0.4495 - acc: 0.7739 - val_loss: 0.4179 - val_acc: 0.7980\n",
      "Epoch 28/40\n",
      "1203/1203 [==============================] - 13s - loss: 0.4345 - acc: 0.7772 - val_loss: 0.4070 - val_acc: 0.8155\n",
      "Epoch 29/40\n",
      "1203/1203 [==============================] - 13s - loss: 0.4107 - acc: 0.7914 - val_loss: 0.3893 - val_acc: 0.8304\n",
      "Epoch 30/40\n",
      "1203/1203 [==============================] - 15s - loss: 0.4322 - acc: 0.7938 - val_loss: 0.4676 - val_acc: 0.7830\n",
      "Epoch 31/40\n",
      "1203/1203 [==============================] - 13s - loss: 0.4665 - acc: 0.7573 - val_loss: 0.4239 - val_acc: 0.8030\n",
      "Epoch 32/40\n",
      "1203/1203 [==============================] - 15s - loss: 0.4541 - acc: 0.7722 - val_loss: 0.4175 - val_acc: 0.8080\n",
      "Epoch 33/40\n",
      "1203/1203 [==============================] - 14s - loss: 0.4498 - acc: 0.7731 - val_loss: 0.4105 - val_acc: 0.7980\n",
      "Epoch 34/40\n",
      "1203/1203 [==============================] - 14s - loss: 0.4287 - acc: 0.7772 - val_loss: 0.4033 - val_acc: 0.8130\n",
      "Epoch 35/40\n",
      "1203/1203 [==============================] - 14s - loss: 0.4207 - acc: 0.7880 - val_loss: 0.4116 - val_acc: 0.8005\n"
     ]
    },
    {
     "data": {
      "text/plain": [
       "<keras.callbacks.History at 0x185ae6dd8>"
      ]
     },
     "execution_count": 9,
     "metadata": {},
     "output_type": "execute_result"
    }
   ],
   "source": [
    "#Without denoising, core features.\n",
    "import os\n",
    "gmodel=getModel()\n",
    "gmodel.fit(X_train_cv, y_train_cv,\n",
    "          batch_size=24,\n",
    "          epochs=40,\n",
    "          verbose=1,\n",
    "          validation_data=(X_valid, y_valid),\n",
    "          callbacks=callbacks)"
   ]
  },
  {
   "cell_type": "code",
   "execution_count": 10,
   "metadata": {
    "_cell_guid": "079f0a8d-d2a5-4154-b37f-b425333e4ada",
    "_uuid": "0fa65f37d198cd6301376f179d9de0ccc1d40db3"
   },
   "outputs": [
    {
     "name": "stdout",
     "output_type": "stream",
     "text": [
      "401/401 [==============================] - 1s     \n",
      "Test loss: 0.389256348782\n",
      "Test accuracy: 0.830423941041\n"
     ]
    }
   ],
   "source": [
    "gmodel.load_weights(filepath=file_path)\n",
    "score = gmodel.evaluate(X_valid, y_valid, verbose=1)\n",
    "print('Test loss:', score[0])\n",
    "print('Test accuracy:', score[1])"
   ]
  },
  {
   "cell_type": "code",
   "execution_count": 11,
   "metadata": {
    "_cell_guid": "7cae1458-a566-4714-8b80-0b23fe88509c",
    "_uuid": "27f021784da863a2ad960a96b9c7394f25521802"
   },
   "outputs": [
    {
     "name": "stdout",
     "output_type": "stream",
     "text": [
      "8416/8424 [============================>.] - ETA: 0s"
     ]
    }
   ],
   "source": [
    "X_band_test_1=np.array([np.array(band).astype(np.float32).reshape(75, 75) for band in test[\"band_1\"]])\n",
    "X_band_test_2=np.array([np.array(band).astype(np.float32).reshape(75, 75) for band in test[\"band_2\"]])\n",
    "X_test = X_band_test_2[:, :, :, np.newaxis]\n",
    "# X_test = np.concatenate([X_band_test_1[:, :, :, np.newaxis]\n",
    "#                           , X_band_test_2[:, :, :, np.newaxis]\n",
    "#                          , ((X_band_test_1+X_band_test_2)/2)[:, :, :, np.newaxis]], axis=-1)\n",
    "predicted_test=gmodel.predict_proba(X_test)"
   ]
  },
  {
   "cell_type": "code",
   "execution_count": 13,
   "metadata": {
    "_cell_guid": "da3618f6-6e0a-475c-a390-7e17f5406c1a",
    "_kg_hide-output": false,
    "_uuid": "b34412c33fe8250df3285867d9a13e4bd08e8c12"
   },
   "outputs": [
    {
     "name": "stdout",
     "output_type": "stream",
     "text": [
      "            id    is_iceberg\n",
      "0     5941774d  6.110536e-01\n",
      "1     4023181e  7.467964e-01\n",
      "2     b20200e4  1.967285e-38\n",
      "3     e7f018bb  9.286130e-01\n",
      "4     4371c8c3  2.829859e-01\n",
      "5     a8d9b1fd  4.365160e-06\n",
      "6     29e7727e  4.224674e-01\n",
      "7     92a51ffb  6.968638e-01\n",
      "8     c769ac97  1.511893e-02\n",
      "9     aee0547d  2.142574e-32\n",
      "10    565b28ac  8.295904e-09\n",
      "11    e04e9775  7.796412e-01\n",
      "12    8e8161d1  5.097590e-03\n",
      "13    4cf4d256  5.555335e-01\n",
      "14    139e5324  3.324844e-07\n",
      "15    f156976f  7.534784e-02\n",
      "16    68a117cc  3.733841e-03\n",
      "17    d9aa7a56  2.207665e-01\n",
      "18    9005b143  1.161478e-04\n",
      "19    5f6d3988  6.300321e-01\n",
      "20    9ad70954  4.832850e-01\n",
      "21    b9087b9e  6.553949e-01\n",
      "22    a39a1427  4.938548e-01\n",
      "23    82fbe8ed  6.380972e-01\n",
      "24    1fae4879  1.072418e-15\n",
      "25    6dd8f13d  1.433158e-26\n",
      "26    bbad5958  4.724115e-01\n",
      "27    54527583  2.615817e-01\n",
      "28    be8fa29c  5.988660e-01\n",
      "29    81a3328f  9.599079e-01\n",
      "...        ...           ...\n",
      "8394  8ae30ce6  3.144685e-08\n",
      "8395  de27ed88  2.404891e-33\n",
      "8396  66d5196f  4.694065e-04\n",
      "8397  d85f1858  6.541751e-01\n",
      "8398  16dcb33a  6.685936e-01\n",
      "8399  eca3158e  1.441367e-25\n",
      "8400  08daeee6  1.214111e-21\n",
      "8401  e9c513ee  4.182626e-04\n",
      "8402  b1519fa6  7.073478e-01\n",
      "8403  dfc89540  6.062548e-01\n",
      "8404  8fd8c0e9  7.404385e-01\n",
      "8405  45df6347  1.280937e-04\n",
      "8406  bf7928d7  9.599088e-01\n",
      "8407  7b587c05  2.876657e-03\n",
      "8408  c2834388  8.629904e-01\n",
      "8409  146143c3  6.147509e-01\n",
      "8410  d59aee00  1.141279e-04\n",
      "8411  cbc0b93b  8.570085e-01\n",
      "8412  088e2ff7  6.609096e-01\n",
      "8413  673d33cd  1.333859e-01\n",
      "8414  674b031e  3.284767e-17\n",
      "8415  43db4207  3.634245e-01\n",
      "8416  156855e1  4.074160e-27\n",
      "8417  ac96cfb0  4.907643e-01\n",
      "8418  fe45aef5  6.171589e-01\n",
      "8419  16ee9b50  1.077904e-32\n",
      "8420  5a599eb7  5.666756e-01\n",
      "8421  df30d6dd  3.369102e-01\n",
      "8422  18af95b1  8.454454e-01\n",
      "8423  27d788c8  2.816081e-09\n",
      "\n",
      "[8424 rows x 2 columns]\n"
     ]
    }
   ],
   "source": [
    "submission = pd.DataFrame()\n",
    "submission['id']=test['id']\n",
    "submission['is_iceberg']=predicted_test.reshape((predicted_test.shape[0]))\n",
    "submission.to_csv('sub.csv', index=False)\n",
    "print(submission)"
   ]
  },
  {
   "cell_type": "code",
   "execution_count": null,
   "metadata": {
    "_cell_guid": "637e3662-38ac-4fa6-8065-48c8105026a9",
    "_uuid": "962411dc0d6a00c1730bfd22767542210c36f751",
    "collapsed": true
   },
   "outputs": [],
   "source": []
  }
 ],
 "metadata": {
  "kernelspec": {
   "display_name": "Python 3",
   "language": "python",
   "name": "python3"
  },
  "language_info": {
   "codemirror_mode": {
    "name": "ipython",
    "version": 3
   },
   "file_extension": ".py",
   "mimetype": "text/x-python",
   "name": "python",
   "nbconvert_exporter": "python",
   "pygments_lexer": "ipython3",
   "version": "3.6.1"
  }
 },
 "nbformat": 4,
 "nbformat_minor": 1
}
