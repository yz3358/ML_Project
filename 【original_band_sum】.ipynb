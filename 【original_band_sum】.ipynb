{
 "cells": [
  {
   "cell_type": "code",
   "execution_count": 1,
   "metadata": {
    "_cell_guid": "dbf2ff22-712b-4fc2-8687-99caa9bf07d8",
    "_uuid": "f57e59e8589cb94001d8673fb737a4e0d96852bd",
    "collapsed": true
   },
   "outputs": [],
   "source": [
    "# This Python 3 environment comes with many helpful analytics libraries installed\n",
    "# It is defined by the kaggle/python docker image: https://github.com/kaggle/docker-python\n",
    "# For example, here's several helpful packages to load in \n",
    "\n",
    "import numpy as np \n",
    "import pandas as pd "
   ]
  },
  {
   "cell_type": "code",
   "execution_count": 2,
   "metadata": {
    "_cell_guid": "ea3f4874-a9aa-42f1-9605-b1784a6f48ba",
    "_uuid": "58c82d3b3c4b4305b388a6ac4eeca49d600f9105",
    "collapsed": true
   },
   "outputs": [],
   "source": [
    "import numpy as np\n",
    "import pandas as pd\n",
    "from sklearn.model_selection import train_test_split\n",
    "from os.path import join as opj\n",
    "from matplotlib import pyplot as plt\n",
    "from mpl_toolkits.mplot3d import Axes3D\n",
    "import pylab\n",
    "plt.rcParams['figure.figsize'] = 10, 10\n",
    "%matplotlib inline"
   ]
  },
  {
   "cell_type": "code",
   "execution_count": 3,
   "metadata": {
    "_cell_guid": "804d3969-9035-4ceb-bb65-1b8549d729ec",
    "_uuid": "7a7f3af5ef279a9ed26c4d9ee764bd1fb4bdf10e",
    "collapsed": true
   },
   "outputs": [],
   "source": [
    "#Load the data.\n",
    "train = pd.read_json(\"train/processed/train.json\")"
   ]
  },
  {
   "cell_type": "code",
   "execution_count": 4,
   "metadata": {
    "_cell_guid": "7b546aab-7b7d-4cde-91cc-e794fd4041bd",
    "_uuid": "2c18cf164fbbc6d1c29e9c668cbfcd7a1ea10824",
    "collapsed": true
   },
   "outputs": [],
   "source": [
    "test = pd.read_json(\"test/processed/test.json\")"
   ]
  },
  {
   "cell_type": "markdown",
   "metadata": {
    "_cell_guid": "e178779f-0698-47cd-9be5-50f9c9590089",
    "_uuid": "f5b6c2ba24e6bf5726f8551cdeeeaf931184c2bc"
   },
   "source": [
    "#Intro about the Data.\n",
    "\n",
    "Sentinet -1 sat is at about 680 Km above earth. Sending pulses of signals at a particular angle of incidence and then recoding it back. Basically those reflected signals are called backscatter. The data we have been given is backscatter coefficient which is the conventional form of backscatter coefficient given by:\n",
    "\n",
    "$σo (dB) = βo (dB) + 10log10 [ sin(ip) / sin (ic)] $\n",
    "\n",
    "where\n",
    "1. ip=is angle of incidence for a particular pixel\n",
    "2. 'ic ' is angle of incidence for center of the image\n",
    "3. K =constant.\n",
    "\n",
    "We have been given $σo$ directly in the data. \n",
    "###Now coming to the features of $σo$\n",
    "Basically σo varies with the surface on which the signal is scattered from. For example, for a particular angle of incidence, it varies like:\n",
    "*             WATER...........           SETTLEMENTS........           AGRICULTURE...........          BARREN........\n",
    "\n",
    "1.**HH:**     -27.001   ................                     2.70252       .................                -12.7952        ................    -17.25790909\n",
    "\n",
    "2.**HV: **      -28.035      ................            -20.2665             ..................          -21.4471       .................     -20.019\n",
    "\n",
    "As you can see, the HH component varies a lot but HV doesn't.\n",
    "**I don't have the data for scatter from ship, but being a metal object, it should vary differently as compared to ice object.**\n",
    "\n",
    "\n",
    "\n",
    "Ok, so this Sentinal Settalite is equivalent to RISTSAT(an Indian remote sensing Sat) and they only Transmit pings in H polarization, **AND NOT IN V polarization**.  Those H-pings gets scattered, objects change their polarization and returns as a mix of H and V.\n",
    "**Since Sentinel has only H-transmitter, return signals are of the form of HH and HV only**. Don't ask why VV is not given(because Sentinel don't have V-ping transmitter).\n",
    "\n",
    "Now coming to features, for the purpose of this demo code, I am extracting all two bands and taking avg of them as 3rd channel to create a 3-channel RGB equivalent. \n"
   ]
  },
  {
   "cell_type": "code",
   "execution_count": 5,
   "metadata": {
    "_cell_guid": "829bf7db-fab1-4a2d-9562-0a37c6390d2a",
    "_uuid": "5292632717f11cd01c135dfabfd3cda9318cc639",
    "collapsed": true
   },
   "outputs": [],
   "source": [
    "#Generate the training data\n",
    "#Create 3 bands having HH, HV and avg of both\n",
    "X_band_1=np.array([np.array(band).astype(np.float32).reshape(75, 75) for band in train[\"band_1\"]])\n",
    "X_band_2=np.array([np.array(band).astype(np.float32).reshape(75, 75) for band in train[\"band_2\"]])\n",
    "X_train = ((X_band_1+X_band_2)/2)[:, :, :, np.newaxis]\n",
    "# X_train = np.concatenate([X_band_1[:, :, :, np.newaxis], X_band_2[:, :, :, np.newaxis],((X_band_1+X_band_2)/2)[:, :, :, np.newaxis]], axis=-1)"
   ]
  },
  {
   "cell_type": "code",
   "execution_count": 6,
   "metadata": {
    "_cell_guid": "fb15bc53-becc-4e87-88ce-3bc99d45358d",
    "_uuid": "7a68a94f8c617209dfe56a58e291193e963d0f62"
   },
   "outputs": [
    {
     "name": "stderr",
     "output_type": "stream",
     "text": [
      "Using TensorFlow backend.\n"
     ]
    }
   ],
   "source": [
    "#Import Keras.\n",
    "from matplotlib import pyplot\n",
    "from keras.preprocessing.image import ImageDataGenerator\n",
    "from keras.models import Sequential\n",
    "from keras.layers import Conv2D, MaxPooling2D, Dense, Dropout, Input, Flatten, Activation\n",
    "from keras.layers import GlobalMaxPooling2D\n",
    "from keras.layers.normalization import BatchNormalization\n",
    "from keras.layers.merge import Concatenate\n",
    "from keras.models import Model\n",
    "from keras import initializers\n",
    "from keras.optimizers import Adam\n",
    "from keras.callbacks import ModelCheckpoint, Callback, EarlyStopping"
   ]
  },
  {
   "cell_type": "code",
   "execution_count": 7,
   "metadata": {
    "_cell_guid": "d7a4c0cc-0e96-46ea-960c-89bb80e11b56",
    "_uuid": "4602792c9d531903bd65c3b127a1e6be2c444b2d",
    "collapsed": true
   },
   "outputs": [],
   "source": [
    "#define our model\n",
    "def getModel():\n",
    "    #Building the model\n",
    "    gmodel=Sequential()\n",
    "    #Conv Layer 1\n",
    "    gmodel.add(Conv2D(64, kernel_size=(3, 3),activation='relu', input_shape=(75, 75, 1)))\n",
    "    gmodel.add(MaxPooling2D(pool_size=(3, 3), strides=(2, 2)))\n",
    "    gmodel.add(Dropout(0.2))\n",
    "\n",
    "    #Conv Layer 2\n",
    "    gmodel.add(Conv2D(128, kernel_size=(3, 3), activation='relu' ))\n",
    "    gmodel.add(MaxPooling2D(pool_size=(2, 2), strides=(2, 2)))\n",
    "    gmodel.add(Dropout(0.2))\n",
    "\n",
    "    #Conv Layer 3\n",
    "    gmodel.add(Conv2D(128, kernel_size=(3, 3), activation='relu'))\n",
    "    gmodel.add(MaxPooling2D(pool_size=(2, 2), strides=(2, 2)))\n",
    "    gmodel.add(Dropout(0.2))\n",
    "\n",
    "    #Conv Layer 4\n",
    "    gmodel.add(Conv2D(64, kernel_size=(3, 3), activation='relu'))\n",
    "    gmodel.add(MaxPooling2D(pool_size=(2, 2), strides=(2, 2)))\n",
    "    gmodel.add(Dropout(0.2))\n",
    "\n",
    "    #Flatten the data for upcoming dense layers\n",
    "    gmodel.add(Flatten())\n",
    "\n",
    "    #Dense Layers\n",
    "    gmodel.add(Dense(512))\n",
    "    gmodel.add(Activation('relu'))\n",
    "    gmodel.add(Dropout(0.2))\n",
    "\n",
    "    #Dense Layer 2\n",
    "    gmodel.add(Dense(256))\n",
    "    gmodel.add(Activation('relu'))\n",
    "    gmodel.add(Dropout(0.2))\n",
    "\n",
    "    #Sigmoid Layer\n",
    "    gmodel.add(Dense(1))\n",
    "    gmodel.add(Activation('sigmoid'))\n",
    "\n",
    "    mypotim=Adam(lr=0.001, beta_1=0.9, beta_2=0.999, epsilon=1e-08, decay=0.0)\n",
    "    gmodel.compile(loss='binary_crossentropy',\n",
    "                  optimizer=mypotim,\n",
    "                  metrics=['accuracy'])\n",
    "    gmodel.summary()\n",
    "    return gmodel\n",
    "\n",
    "\n",
    "def get_callbacks(filepath, patience=2):\n",
    "    es = EarlyStopping('val_loss', patience=patience, mode=\"min\")\n",
    "    msave = ModelCheckpoint(filepath, save_best_only=True)\n",
    "    return [es, msave]\n",
    "file_path = \".model_weights.hdf5\"\n",
    "callbacks = get_callbacks(filepath=file_path, patience=5)\n"
   ]
  },
  {
   "cell_type": "code",
   "execution_count": 8,
   "metadata": {
    "_cell_guid": "1d690d4a-09ca-417c-8090-2aa417c514dd",
    "_uuid": "a883659e53709da950d04a4e5349c66d77a9422f",
    "collapsed": true
   },
   "outputs": [],
   "source": [
    "target_train=train['is_iceberg']\n",
    "X_train_cv, X_valid, y_train_cv, y_valid = train_test_split(X_train, target_train, random_state=1, train_size=0.75)"
   ]
  },
  {
   "cell_type": "code",
   "execution_count": 9,
   "metadata": {
    "_cell_guid": "d6bb750a-e882-4429-ad23-4392389f427f",
    "_uuid": "4e6dab11165b7d9515eb32b698851b260f0d941f"
   },
   "outputs": [
    {
     "name": "stdout",
     "output_type": "stream",
     "text": [
      "_________________________________________________________________\n",
      "Layer (type)                 Output Shape              Param #   \n",
      "=================================================================\n",
      "conv2d_1 (Conv2D)            (None, 73, 73, 64)        640       \n",
      "_________________________________________________________________\n",
      "max_pooling2d_1 (MaxPooling2 (None, 36, 36, 64)        0         \n",
      "_________________________________________________________________\n",
      "dropout_1 (Dropout)          (None, 36, 36, 64)        0         \n",
      "_________________________________________________________________\n",
      "conv2d_2 (Conv2D)            (None, 34, 34, 128)       73856     \n",
      "_________________________________________________________________\n",
      "max_pooling2d_2 (MaxPooling2 (None, 17, 17, 128)       0         \n",
      "_________________________________________________________________\n",
      "dropout_2 (Dropout)          (None, 17, 17, 128)       0         \n",
      "_________________________________________________________________\n",
      "conv2d_3 (Conv2D)            (None, 15, 15, 128)       147584    \n",
      "_________________________________________________________________\n",
      "max_pooling2d_3 (MaxPooling2 (None, 7, 7, 128)         0         \n",
      "_________________________________________________________________\n",
      "dropout_3 (Dropout)          (None, 7, 7, 128)         0         \n",
      "_________________________________________________________________\n",
      "conv2d_4 (Conv2D)            (None, 5, 5, 64)          73792     \n",
      "_________________________________________________________________\n",
      "max_pooling2d_4 (MaxPooling2 (None, 2, 2, 64)          0         \n",
      "_________________________________________________________________\n",
      "dropout_4 (Dropout)          (None, 2, 2, 64)          0         \n",
      "_________________________________________________________________\n",
      "flatten_1 (Flatten)          (None, 256)               0         \n",
      "_________________________________________________________________\n",
      "dense_1 (Dense)              (None, 512)               131584    \n",
      "_________________________________________________________________\n",
      "activation_1 (Activation)    (None, 512)               0         \n",
      "_________________________________________________________________\n",
      "dropout_5 (Dropout)          (None, 512)               0         \n",
      "_________________________________________________________________\n",
      "dense_2 (Dense)              (None, 256)               131328    \n",
      "_________________________________________________________________\n",
      "activation_2 (Activation)    (None, 256)               0         \n",
      "_________________________________________________________________\n",
      "dropout_6 (Dropout)          (None, 256)               0         \n",
      "_________________________________________________________________\n",
      "dense_3 (Dense)              (None, 1)                 257       \n",
      "_________________________________________________________________\n",
      "activation_3 (Activation)    (None, 1)                 0         \n",
      "=================================================================\n",
      "Total params: 559,041\n",
      "Trainable params: 559,041\n",
      "Non-trainable params: 0\n",
      "_________________________________________________________________\n",
      "Train on 1203 samples, validate on 401 samples\n",
      "Epoch 1/40\n",
      "1203/1203 [==============================] - 38s - loss: 0.7251 - acc: 0.5403 - val_loss: 0.5469 - val_acc: 0.6933\n",
      "Epoch 2/40\n",
      "1203/1203 [==============================] - 35s - loss: 0.5530 - acc: 0.6741 - val_loss: 0.5314 - val_acc: 0.7182\n",
      "Epoch 3/40\n",
      "1203/1203 [==============================] - 35s - loss: 0.5214 - acc: 0.7182 - val_loss: 0.5210 - val_acc: 0.7132\n",
      "Epoch 4/40\n",
      "1203/1203 [==============================] - 35s - loss: 0.5255 - acc: 0.7207 - val_loss: 0.5123 - val_acc: 0.7182\n",
      "Epoch 5/40\n",
      "1203/1203 [==============================] - 35s - loss: 0.4870 - acc: 0.7473 - val_loss: 0.4630 - val_acc: 0.7955\n",
      "Epoch 6/40\n",
      "1203/1203 [==============================] - 35s - loss: 0.4891 - acc: 0.7431 - val_loss: 0.4628 - val_acc: 0.7781\n",
      "Epoch 7/40\n",
      "1203/1203 [==============================] - 35s - loss: 0.4822 - acc: 0.7573 - val_loss: 0.4627 - val_acc: 0.8005\n",
      "Epoch 8/40\n",
      "1203/1203 [==============================] - 35s - loss: 0.4332 - acc: 0.7922 - val_loss: 0.4067 - val_acc: 0.8304\n",
      "Epoch 9/40\n",
      "1203/1203 [==============================] - 35s - loss: 0.4010 - acc: 0.8047 - val_loss: 0.4460 - val_acc: 0.7781\n",
      "Epoch 10/40\n",
      "1203/1203 [==============================] - 35s - loss: 0.4333 - acc: 0.7963 - val_loss: 0.4109 - val_acc: 0.8454\n",
      "Epoch 11/40\n",
      "1203/1203 [==============================] - 35s - loss: 0.3650 - acc: 0.8329 - val_loss: 0.3559 - val_acc: 0.8554\n",
      "Epoch 12/40\n",
      "1203/1203 [==============================] - 35s - loss: 0.3586 - acc: 0.8396 - val_loss: 0.3754 - val_acc: 0.8379\n",
      "Epoch 13/40\n",
      "1203/1203 [==============================] - 35s - loss: 0.3494 - acc: 0.8387 - val_loss: 0.3513 - val_acc: 0.8529\n",
      "Epoch 14/40\n",
      "1203/1203 [==============================] - 35s - loss: 0.3269 - acc: 0.8421 - val_loss: 0.4104 - val_acc: 0.7855\n",
      "Epoch 15/40\n",
      "1203/1203 [==============================] - 36s - loss: 0.3453 - acc: 0.8404 - val_loss: 0.3493 - val_acc: 0.8504\n",
      "Epoch 16/40\n",
      "1203/1203 [==============================] - 35s - loss: 0.3694 - acc: 0.8354 - val_loss: 0.3840 - val_acc: 0.8204\n",
      "Epoch 17/40\n",
      "1203/1203 [==============================] - 35s - loss: 0.3307 - acc: 0.8404 - val_loss: 0.3098 - val_acc: 0.8579\n",
      "Epoch 18/40\n",
      "1203/1203 [==============================] - 35s - loss: 0.2960 - acc: 0.8595 - val_loss: 0.3114 - val_acc: 0.8603\n",
      "Epoch 19/40\n",
      "1203/1203 [==============================] - 35s - loss: 0.2709 - acc: 0.8678 - val_loss: 0.3800 - val_acc: 0.8279\n",
      "Epoch 20/40\n",
      "1203/1203 [==============================] - 35s - loss: 0.3034 - acc: 0.8612 - val_loss: 0.3198 - val_acc: 0.8579\n",
      "Epoch 21/40\n",
      "1203/1203 [==============================] - 35s - loss: 0.2708 - acc: 0.8820 - val_loss: 0.3122 - val_acc: 0.8554\n",
      "Epoch 22/40\n",
      "1203/1203 [==============================] - 35s - loss: 0.2852 - acc: 0.8612 - val_loss: 0.2887 - val_acc: 0.8628\n",
      "Epoch 23/40\n",
      "1203/1203 [==============================] - 35s - loss: 0.2667 - acc: 0.8736 - val_loss: 0.3032 - val_acc: 0.8653\n",
      "Epoch 24/40\n",
      "1203/1203 [==============================] - 35s - loss: 0.2600 - acc: 0.8853 - val_loss: 0.3687 - val_acc: 0.8329\n",
      "Epoch 25/40\n",
      "1203/1203 [==============================] - 35s - loss: 0.5007 - acc: 0.7298 - val_loss: 0.4340 - val_acc: 0.8279\n",
      "Epoch 26/40\n",
      "1203/1203 [==============================] - 35s - loss: 0.3455 - acc: 0.8454 - val_loss: 0.3585 - val_acc: 0.8678\n",
      "Epoch 27/40\n",
      "1203/1203 [==============================] - 35s - loss: 0.2681 - acc: 0.8678 - val_loss: 0.3705 - val_acc: 0.8678\n",
      "Epoch 28/40\n",
      "1203/1203 [==============================] - 35s - loss: 0.2995 - acc: 0.8653 - val_loss: 0.3265 - val_acc: 0.8404\n"
     ]
    },
    {
     "data": {
      "text/plain": [
       "<keras.callbacks.History at 0x189477048>"
      ]
     },
     "execution_count": 9,
     "metadata": {},
     "output_type": "execute_result"
    }
   ],
   "source": [
    "#Without denoising, core features.\n",
    "import os\n",
    "gmodel=getModel()\n",
    "gmodel.fit(X_train_cv, y_train_cv,\n",
    "          batch_size=24,\n",
    "          epochs=40,\n",
    "          verbose=1,\n",
    "          validation_data=(X_valid, y_valid),\n",
    "          callbacks=callbacks)"
   ]
  },
  {
   "cell_type": "code",
   "execution_count": 10,
   "metadata": {
    "_cell_guid": "079f0a8d-d2a5-4154-b37f-b425333e4ada",
    "_uuid": "0fa65f37d198cd6301376f179d9de0ccc1d40db3"
   },
   "outputs": [
    {
     "name": "stdout",
     "output_type": "stream",
     "text": [
      "401/401 [==============================] - 3s     \n",
      "Test loss: 0.288690153277\n",
      "Test accuracy: 0.862842893511\n"
     ]
    }
   ],
   "source": [
    "gmodel.load_weights(filepath=file_path)\n",
    "score = gmodel.evaluate(X_valid, y_valid, verbose=1)\n",
    "print('Test loss:', score[0])\n",
    "print('Test accuracy:', score[1])"
   ]
  },
  {
   "cell_type": "code",
   "execution_count": 11,
   "metadata": {
    "_cell_guid": "7cae1458-a566-4714-8b80-0b23fe88509c",
    "_uuid": "27f021784da863a2ad960a96b9c7394f25521802"
   },
   "outputs": [
    {
     "name": "stdout",
     "output_type": "stream",
     "text": [
      "8424/8424 [==============================] - 69s    \n"
     ]
    }
   ],
   "source": [
    "X_band_test_1=np.array([np.array(band).astype(np.float32).reshape(75, 75) for band in test[\"band_1\"]])\n",
    "X_band_test_2=np.array([np.array(band).astype(np.float32).reshape(75, 75) for band in test[\"band_2\"]])\n",
    "# X_test = np.concatenate([X_band_test_1[:, :, :, np.newaxis]\n",
    "#                           , X_band_test_2[:, :, :, np.newaxis]\n",
    "#                          , ((X_band_test_1+X_band_test_2)/2)[:, :, :, np.newaxis]], axis=-1)\n",
    "X_test = ((X_band_test_1+X_band_test_2)/2)[:, :, :, np.newaxis]\n",
    "predicted_test=gmodel.predict_proba(X_test)"
   ]
  },
  {
   "cell_type": "code",
   "execution_count": 12,
   "metadata": {
    "_cell_guid": "da3618f6-6e0a-475c-a390-7e17f5406c1a",
    "_kg_hide-output": false,
    "_uuid": "b34412c33fe8250df3285867d9a13e4bd08e8c12"
   },
   "outputs": [
    {
     "name": "stdout",
     "output_type": "stream",
     "text": [
      "            id    is_iceberg\n",
      "0     5941774d  1.198782e-01\n",
      "1     4023181e  7.097154e-01\n",
      "2     b20200e4  1.000000e+00\n",
      "3     e7f018bb  9.987710e-01\n",
      "4     4371c8c3  6.291986e-01\n",
      "5     a8d9b1fd  3.493433e-01\n",
      "6     29e7727e  1.100601e-01\n",
      "7     92a51ffb  9.963905e-01\n",
      "8     c769ac97  2.445084e-04\n",
      "9     aee0547d  1.752558e-06\n",
      "10    565b28ac  1.063298e-09\n",
      "11    e04e9775  6.031963e-01\n",
      "12    8e8161d1  2.088333e-04\n",
      "13    4cf4d256  6.326779e-01\n",
      "14    139e5324  6.386723e-03\n",
      "15    f156976f  3.131916e-02\n",
      "16    68a117cc  3.047235e-01\n",
      "17    d9aa7a56  8.503098e-01\n",
      "18    9005b143  9.234925e-01\n",
      "19    5f6d3988  5.485638e-01\n",
      "20    9ad70954  2.189620e-01\n",
      "21    b9087b9e  4.316120e-01\n",
      "22    a39a1427  9.047017e-01\n",
      "23    82fbe8ed  3.505386e-01\n",
      "24    1fae4879  7.230884e-26\n",
      "25    6dd8f13d  1.450717e-10\n",
      "26    bbad5958  1.413896e-01\n",
      "27    54527583  8.768144e-01\n",
      "28    be8fa29c  8.853593e-01\n",
      "29    81a3328f  9.977795e-01\n",
      "...        ...           ...\n",
      "8394  8ae30ce6  3.683811e-04\n",
      "8395  de27ed88  1.580367e-15\n",
      "8396  66d5196f  2.100584e-01\n",
      "8397  d85f1858  7.684817e-01\n",
      "8398  16dcb33a  7.186755e-01\n",
      "8399  eca3158e  1.168674e-06\n",
      "8400  08daeee6  3.164020e-05\n",
      "8401  e9c513ee  1.103523e-05\n",
      "8402  b1519fa6  8.428309e-01\n",
      "8403  dfc89540  6.460978e-01\n",
      "8404  8fd8c0e9  7.391627e-01\n",
      "8405  45df6347  8.257303e-04\n",
      "8406  bf7928d7  5.764393e-02\n",
      "8407  7b587c05  1.732386e-02\n",
      "8408  c2834388  5.800204e-01\n",
      "8409  146143c3  9.798480e-01\n",
      "8410  d59aee00  1.344812e-13\n",
      "8411  cbc0b93b  5.049843e-01\n",
      "8412  088e2ff7  9.540766e-01\n",
      "8413  673d33cd  4.809778e-01\n",
      "8414  674b031e  2.284855e-07\n",
      "8415  43db4207  9.561056e-01\n",
      "8416  156855e1  8.323174e-33\n",
      "8417  ac96cfb0  8.006764e-01\n",
      "8418  fe45aef5  3.532611e-01\n",
      "8419  16ee9b50  4.221213e-19\n",
      "8420  5a599eb7  6.472455e-01\n",
      "8421  df30d6dd  2.038823e-02\n",
      "8422  18af95b1  9.890547e-01\n",
      "8423  27d788c8  3.509181e-02\n",
      "\n",
      "[8424 rows x 2 columns]\n",
      "There are  1913  iceburgs out of  8424  data.\n"
     ]
    }
   ],
   "source": [
    "submission = pd.DataFrame()\n",
    "submission['id']=test['id']\n",
    "submission['is_iceberg']=predicted_test.reshape((predicted_test.shape[0]))\n",
    "submission.to_csv('sub.csv', index=False)\n",
    "print(submission)\n",
    "ice = 0\n",
    "for i in range (len(test['id'])):\n",
    "    if (predicted_test.reshape((predicted_test.shape[0]))[i] >= 0.9):\n",
    "#         print(submission['id'][i],submission['is_iceberg'][i])\n",
    "        ice += 1\n",
    "print('There are ', ice,' iceburgs out of ', len(test['id']),' data.')"
   ]
  },
  {
   "cell_type": "code",
   "execution_count": null,
   "metadata": {
    "_cell_guid": "637e3662-38ac-4fa6-8065-48c8105026a9",
    "_uuid": "962411dc0d6a00c1730bfd22767542210c36f751",
    "collapsed": true
   },
   "outputs": [],
   "source": []
  }
 ],
 "metadata": {
  "kernelspec": {
   "display_name": "Python 3",
   "language": "python",
   "name": "python3"
  },
  "language_info": {
   "codemirror_mode": {
    "name": "ipython",
    "version": 3
   },
   "file_extension": ".py",
   "mimetype": "text/x-python",
   "name": "python",
   "nbconvert_exporter": "python",
   "pygments_lexer": "ipython3",
   "version": "3.6.1"
  }
 },
 "nbformat": 4,
 "nbformat_minor": 1
}
