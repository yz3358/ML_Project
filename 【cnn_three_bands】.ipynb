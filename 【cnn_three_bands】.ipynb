{
 "cells": [
  {
   "cell_type": "code",
   "execution_count": 1,
   "metadata": {
    "_cell_guid": "dbf2ff22-712b-4fc2-8687-99caa9bf07d8",
    "_uuid": "f57e59e8589cb94001d8673fb737a4e0d96852bd",
    "collapsed": true
   },
   "outputs": [],
   "source": [
    "# This Python 3 environment comes with many helpful analytics libraries installed\n",
    "# It is defined by the kaggle/python docker image: https://github.com/kaggle/docker-python\n",
    "# For example, here's several helpful packages to load in \n",
    "\n",
    "import numpy as np \n",
    "import pandas as pd "
   ]
  },
  {
   "cell_type": "code",
   "execution_count": 2,
   "metadata": {
    "_cell_guid": "ea3f4874-a9aa-42f1-9605-b1784a6f48ba",
    "_uuid": "58c82d3b3c4b4305b388a6ac4eeca49d600f9105",
    "collapsed": true
   },
   "outputs": [],
   "source": [
    "import numpy as np\n",
    "import pandas as pd\n",
    "from sklearn.model_selection import train_test_split\n",
    "from os.path import join as opj\n",
    "from matplotlib import pyplot as plt\n",
    "from mpl_toolkits.mplot3d import Axes3D\n",
    "import pylab\n",
    "plt.rcParams['figure.figsize'] = 10, 10\n",
    "%matplotlib inline"
   ]
  },
  {
   "cell_type": "code",
   "execution_count": 3,
   "metadata": {
    "_cell_guid": "804d3969-9035-4ceb-bb65-1b8549d729ec",
    "_uuid": "7a7f3af5ef279a9ed26c4d9ee764bd1fb4bdf10e",
    "collapsed": true
   },
   "outputs": [],
   "source": [
    "#Load the data.\n",
    "train = pd.read_json(\"train/processed/train.json\")"
   ]
  },
  {
   "cell_type": "code",
   "execution_count": 4,
   "metadata": {
    "_cell_guid": "7b546aab-7b7d-4cde-91cc-e794fd4041bd",
    "_uuid": "2c18cf164fbbc6d1c29e9c668cbfcd7a1ea10824",
    "collapsed": true
   },
   "outputs": [],
   "source": [
    "test = pd.read_json(\"test/processed/test.json\")"
   ]
  },
  {
   "cell_type": "markdown",
   "metadata": {
    "_cell_guid": "e178779f-0698-47cd-9be5-50f9c9590089",
    "_uuid": "f5b6c2ba24e6bf5726f8551cdeeeaf931184c2bc"
   },
   "source": [
    "#Intro about the Data.\n",
    "\n",
    "Sentinet -1 sat is at about 680 Km above earth. Sending pulses of signals at a particular angle of incidence and then recoding it back. Basically those reflected signals are called backscatter. The data we have been given is backscatter coefficient which is the conventional form of backscatter coefficient given by:\n",
    "\n",
    "$σo (dB) = βo (dB) + 10log10 [ sin(ip) / sin (ic)] $\n",
    "\n",
    "where\n",
    "1. ip=is angle of incidence for a particular pixel\n",
    "2. 'ic ' is angle of incidence for center of the image\n",
    "3. K =constant.\n",
    "\n",
    "We have been given $σo$ directly in the data. \n",
    "###Now coming to the features of $σo$\n",
    "Basically σo varies with the surface on which the signal is scattered from. For example, for a particular angle of incidence, it varies like:\n",
    "*             WATER...........           SETTLEMENTS........           AGRICULTURE...........          BARREN........\n",
    "\n",
    "1.**HH:**     -27.001   ................                     2.70252       .................                -12.7952        ................    -17.25790909\n",
    "\n",
    "2.**HV: **      -28.035      ................            -20.2665             ..................          -21.4471       .................     -20.019\n",
    "\n",
    "As you can see, the HH component varies a lot but HV doesn't.\n",
    "**I don't have the data for scatter from ship, but being a metal object, it should vary differently as compared to ice object.**\n",
    "\n",
    "\n",
    "\n",
    "Ok, so this Sentinal Settalite is equivalent to RISTSAT(an Indian remote sensing Sat) and they only Transmit pings in H polarization, **AND NOT IN V polarization**.  Those H-pings gets scattered, objects change their polarization and returns as a mix of H and V.\n",
    "**Since Sentinel has only H-transmitter, return signals are of the form of HH and HV only**. Don't ask why VV is not given(because Sentinel don't have V-ping transmitter).\n",
    "\n",
    "Now coming to features, for the purpose of this demo code, I am extracting all two bands and taking avg of them as 3rd channel to create a 3-channel RGB equivalent. \n"
   ]
  },
  {
   "cell_type": "code",
   "execution_count": 5,
   "metadata": {
    "_cell_guid": "829bf7db-fab1-4a2d-9562-0a37c6390d2a",
    "_uuid": "5292632717f11cd01c135dfabfd3cda9318cc639",
    "collapsed": true
   },
   "outputs": [],
   "source": [
    "#Generate the training data\n",
    "#Create 3 bands having HH, HV and avg of both\n",
    "X_band_1=np.array([np.array(band).astype(np.float32).reshape(75, 75) for band in train[\"band_1\"]])\n",
    "X_band_2=np.array([np.array(band).astype(np.float32).reshape(75, 75) for band in train[\"band_2\"]])\n",
    "X_train = (X_band_1-X_band_2)[:, :, :, np.newaxis]\n",
    "# X_train = np.concatenate([X_band_1[:, :, :, np.newaxis], X_band_2[:, :, :, np.newaxis],((X_band_1+X_band_2)/2)[:, :, :, np.newaxis]], axis=-1)"
   ]
  },
  {
   "cell_type": "code",
   "execution_count": 6,
   "metadata": {
    "_cell_guid": "fb15bc53-becc-4e87-88ce-3bc99d45358d",
    "_uuid": "7a68a94f8c617209dfe56a58e291193e963d0f62"
   },
   "outputs": [
    {
     "name": "stderr",
     "output_type": "stream",
     "text": [
      "Using TensorFlow backend.\n"
     ]
    }
   ],
   "source": [
    "#Import Keras.\n",
    "from matplotlib import pyplot\n",
    "from keras.preprocessing.image import ImageDataGenerator\n",
    "from keras.models import Sequential\n",
    "from keras.layers import Conv2D, MaxPooling2D, Dense, Dropout, Input, Flatten, Activation\n",
    "from keras.layers import GlobalMaxPooling2D\n",
    "from keras.layers.normalization import BatchNormalization\n",
    "from keras.layers.merge import Concatenate\n",
    "from keras.models import Model\n",
    "from keras import initializers\n",
    "from keras.optimizers import Adam\n",
    "from keras.callbacks import ModelCheckpoint, Callback, EarlyStopping"
   ]
  },
  {
   "cell_type": "code",
   "execution_count": 7,
   "metadata": {
    "_cell_guid": "d7a4c0cc-0e96-46ea-960c-89bb80e11b56",
    "_uuid": "4602792c9d531903bd65c3b127a1e6be2c444b2d",
    "collapsed": true
   },
   "outputs": [],
   "source": [
    "#define our model\n",
    "def getModel():\n",
    "    #Building the model\n",
    "    gmodel=Sequential()\n",
    "    #Conv Layer 1\n",
    "    gmodel.add(Conv2D(64, kernel_size=(3, 3),activation='relu', input_shape=(75, 75, 1)))\n",
    "    gmodel.add(MaxPooling2D(pool_size=(3, 3), strides=(2, 2)))\n",
    "    gmodel.add(Dropout(0.2))\n",
    "\n",
    "    #Conv Layer \n",
    "    gmodel.add(Conv2D(128, kernel_size=(3, 3), activation='relu' ))\n",
    "    gmodel.add(MaxPooling2D(pool_size=(2, 2), strides=(2, 2)))\n",
    "    gmodel.add(Dropout(0.2))\n",
    "\n",
    "    #Conv Layer 3\n",
    "    gmodel.add(Conv2D(128, kernel_size=(3, 3), activation='relu'))\n",
    "    gmodel.add(MaxPooling2D(pool_size=(2, 2), strides=(2, 2)))\n",
    "    gmodel.add(Dropout(0.2))\n",
    "\n",
    "    #Conv Layer 4\n",
    "    gmodel.add(Conv2D(64, kernel_size=(3, 3), activation='relu'))\n",
    "    gmodel.add(MaxPooling2D(pool_size=(2, 2), strides=(2, 2)))\n",
    "    gmodel.add(Dropout(0.2))\n",
    "\n",
    "    #Flatten the data for upcoming dense layers\n",
    "    gmodel.add(Flatten())\n",
    "\n",
    "    #Dense Layers\n",
    "    gmodel.add(Dense(512))\n",
    "    gmodel.add(Activation('relu'))\n",
    "    gmodel.add(Dropout(0.2))\n",
    "\n",
    "    #Dense Layer 2\n",
    "    gmodel.add(Dense(256))\n",
    "    gmodel.add(Activation('relu'))\n",
    "    gmodel.add(Dropout(0.2))\n",
    "\n",
    "    #Sigmoid Layer\n",
    "    gmodel.add(Dense(1))\n",
    "    gmodel.add(Activation('sigmoid'))\n",
    "\n",
    "    mypotim=Adam(lr=0.001, beta_1=0.9, beta_2=0.999, epsilon=1e-08, decay=0.0)\n",
    "    gmodel.compile(loss='binary_crossentropy',\n",
    "                  optimizer=mypotim,\n",
    "                  metrics=['accuracy'])\n",
    "    gmodel.summary()\n",
    "    return gmodel\n",
    "\n",
    "\n",
    "def get_callbacks(filepath, patience=2):\n",
    "    es = EarlyStopping('val_loss', patience=patience, mode=\"min\")\n",
    "    msave = ModelCheckpoint(filepath, save_best_only=True)\n",
    "    return [es, msave]\n",
    "file_path = \".model_weights.hdf5\"\n",
    "callbacks = get_callbacks(filepath=file_path, patience=5)\n"
   ]
  },
  {
   "cell_type": "code",
   "execution_count": 8,
   "metadata": {
    "_cell_guid": "1d690d4a-09ca-417c-8090-2aa417c514dd",
    "_uuid": "a883659e53709da950d04a4e5349c66d77a9422f",
    "collapsed": true
   },
   "outputs": [],
   "source": [
    "target_train=train['is_iceberg']\n",
    "X_train_cv, X_valid, y_train_cv, y_valid = train_test_split(X_train, target_train, random_state=1, train_size=0.75)"
   ]
  },
  {
   "cell_type": "code",
   "execution_count": 9,
   "metadata": {
    "_cell_guid": "d6bb750a-e882-4429-ad23-4392389f427f",
    "_uuid": "4e6dab11165b7d9515eb32b698851b260f0d941f"
   },
   "outputs": [
    {
     "name": "stdout",
     "output_type": "stream",
     "text": [
      "_________________________________________________________________\n",
      "Layer (type)                 Output Shape              Param #   \n",
      "=================================================================\n",
      "conv2d_1 (Conv2D)            (None, 73, 73, 64)        640       \n",
      "_________________________________________________________________\n",
      "max_pooling2d_1 (MaxPooling2 (None, 36, 36, 64)        0         \n",
      "_________________________________________________________________\n",
      "dropout_1 (Dropout)          (None, 36, 36, 64)        0         \n",
      "_________________________________________________________________\n",
      "conv2d_2 (Conv2D)            (None, 34, 34, 128)       73856     \n",
      "_________________________________________________________________\n",
      "max_pooling2d_2 (MaxPooling2 (None, 17, 17, 128)       0         \n",
      "_________________________________________________________________\n",
      "dropout_2 (Dropout)          (None, 17, 17, 128)       0         \n",
      "_________________________________________________________________\n",
      "conv2d_3 (Conv2D)            (None, 15, 15, 128)       147584    \n",
      "_________________________________________________________________\n",
      "max_pooling2d_3 (MaxPooling2 (None, 7, 7, 128)         0         \n",
      "_________________________________________________________________\n",
      "dropout_3 (Dropout)          (None, 7, 7, 128)         0         \n",
      "_________________________________________________________________\n",
      "conv2d_4 (Conv2D)            (None, 5, 5, 64)          73792     \n",
      "_________________________________________________________________\n",
      "max_pooling2d_4 (MaxPooling2 (None, 2, 2, 64)          0         \n",
      "_________________________________________________________________\n",
      "dropout_4 (Dropout)          (None, 2, 2, 64)          0         \n",
      "_________________________________________________________________\n",
      "flatten_1 (Flatten)          (None, 256)               0         \n",
      "_________________________________________________________________\n",
      "dense_1 (Dense)              (None, 512)               131584    \n",
      "_________________________________________________________________\n",
      "activation_1 (Activation)    (None, 512)               0         \n",
      "_________________________________________________________________\n",
      "dropout_5 (Dropout)          (None, 512)               0         \n",
      "_________________________________________________________________\n",
      "dense_2 (Dense)              (None, 256)               131328    \n",
      "_________________________________________________________________\n",
      "activation_2 (Activation)    (None, 256)               0         \n",
      "_________________________________________________________________\n",
      "dropout_6 (Dropout)          (None, 256)               0         \n",
      "_________________________________________________________________\n",
      "dense_3 (Dense)              (None, 1)                 257       \n",
      "_________________________________________________________________\n",
      "activation_3 (Activation)    (None, 1)                 0         \n",
      "=================================================================\n",
      "Total params: 559,041\n",
      "Trainable params: 559,041\n",
      "Non-trainable params: 0\n",
      "_________________________________________________________________\n",
      "Train on 1203 samples, validate on 401 samples\n",
      "Epoch 1/40\n",
      "1203/1203 [==============================] - 38s - loss: 0.8076 - acc: 0.5212 - val_loss: 0.6927 - val_acc: 0.4688\n",
      "Epoch 2/40\n",
      "1203/1203 [==============================] - 40s - loss: 0.6845 - acc: 0.5486 - val_loss: 0.6615 - val_acc: 0.6234\n",
      "Epoch 3/40\n",
      "1203/1203 [==============================] - 38s - loss: 0.6545 - acc: 0.5960 - val_loss: 0.6754 - val_acc: 0.5711\n",
      "Epoch 4/40\n",
      "1203/1203 [==============================] - 38s - loss: 0.6478 - acc: 0.6351 - val_loss: 0.6310 - val_acc: 0.6409\n",
      "Epoch 5/40\n",
      "1203/1203 [==============================] - 36s - loss: 0.6266 - acc: 0.6550 - val_loss: 0.6726 - val_acc: 0.6160\n",
      "Epoch 6/40\n",
      "1203/1203 [==============================] - 37s - loss: 0.6141 - acc: 0.6517 - val_loss: 0.5979 - val_acc: 0.6559\n",
      "Epoch 7/40\n",
      "1203/1203 [==============================] - 38s - loss: 0.6219 - acc: 0.6559 - val_loss: 0.6287 - val_acc: 0.6658\n",
      "Epoch 8/40\n",
      "1203/1203 [==============================] - 38s - loss: 0.6008 - acc: 0.6991 - val_loss: 0.6121 - val_acc: 0.6758\n",
      "Epoch 9/40\n",
      "1203/1203 [==============================] - 36s - loss: 0.5849 - acc: 0.6916 - val_loss: 0.5748 - val_acc: 0.7232\n",
      "Epoch 10/40\n",
      "1203/1203 [==============================] - 37s - loss: 0.5709 - acc: 0.7024 - val_loss: 0.5732 - val_acc: 0.7357\n",
      "Epoch 11/40\n",
      "1203/1203 [==============================] - 39s - loss: 0.5630 - acc: 0.7182 - val_loss: 0.5616 - val_acc: 0.7332\n",
      "Epoch 12/40\n",
      "1203/1203 [==============================] - 41s - loss: 0.5648 - acc: 0.7082 - val_loss: 0.5464 - val_acc: 0.7357\n",
      "Epoch 13/40\n",
      "1203/1203 [==============================] - 36s - loss: 0.5492 - acc: 0.7315 - val_loss: 0.5591 - val_acc: 0.7232\n",
      "Epoch 14/40\n",
      "1203/1203 [==============================] - 36s - loss: 0.5598 - acc: 0.7165 - val_loss: 0.5486 - val_acc: 0.7357\n",
      "Epoch 15/40\n",
      "1203/1203 [==============================] - 37s - loss: 0.5144 - acc: 0.7373 - val_loss: 0.5469 - val_acc: 0.7157\n",
      "Epoch 16/40\n",
      "1203/1203 [==============================] - 37s - loss: 0.5340 - acc: 0.7357 - val_loss: 0.5434 - val_acc: 0.7207\n",
      "Epoch 17/40\n",
      "1203/1203 [==============================] - 36s - loss: 0.5188 - acc: 0.7539 - val_loss: 0.5594 - val_acc: 0.7007\n",
      "Epoch 18/40\n",
      "1203/1203 [==============================] - 36s - loss: 0.5167 - acc: 0.7573 - val_loss: 0.5317 - val_acc: 0.7382\n",
      "Epoch 19/40\n",
      "1203/1203 [==============================] - 36s - loss: 0.5118 - acc: 0.7648 - val_loss: 0.5508 - val_acc: 0.7307\n",
      "Epoch 20/40\n",
      "1203/1203 [==============================] - 36s - loss: 0.5273 - acc: 0.7465 - val_loss: 0.5331 - val_acc: 0.7456\n",
      "Epoch 21/40\n",
      "1203/1203 [==============================] - 36s - loss: 0.4907 - acc: 0.7739 - val_loss: 0.5409 - val_acc: 0.7332\n",
      "Epoch 22/40\n",
      "1203/1203 [==============================] - 36s - loss: 0.4970 - acc: 0.7548 - val_loss: 0.5581 - val_acc: 0.7032\n",
      "Epoch 23/40\n",
      "1203/1203 [==============================] - 36s - loss: 0.5011 - acc: 0.7564 - val_loss: 0.5123 - val_acc: 0.7456\n",
      "Epoch 24/40\n",
      "1203/1203 [==============================] - 36s - loss: 0.4864 - acc: 0.7722 - val_loss: 0.5159 - val_acc: 0.7556\n",
      "Epoch 25/40\n",
      "1203/1203 [==============================] - 36s - loss: 0.4480 - acc: 0.7905 - val_loss: 0.5425 - val_acc: 0.7332\n",
      "Epoch 26/40\n",
      "1203/1203 [==============================] - 39s - loss: 0.4542 - acc: 0.7938 - val_loss: 0.5031 - val_acc: 0.7606\n",
      "Epoch 27/40\n",
      "1203/1203 [==============================] - 37s - loss: 0.4355 - acc: 0.7947 - val_loss: 0.5011 - val_acc: 0.7606\n",
      "Epoch 28/40\n",
      "1203/1203 [==============================] - 37s - loss: 0.4397 - acc: 0.7914 - val_loss: 0.5119 - val_acc: 0.7332\n",
      "Epoch 29/40\n",
      "1203/1203 [==============================] - 36s - loss: 0.4076 - acc: 0.8096 - val_loss: 0.4902 - val_acc: 0.7506\n",
      "Epoch 30/40\n",
      "1203/1203 [==============================] - 36s - loss: 0.4280 - acc: 0.8030 - val_loss: 0.5397 - val_acc: 0.7731\n",
      "Epoch 31/40\n",
      "1203/1203 [==============================] - 36s - loss: 0.4057 - acc: 0.7997 - val_loss: 0.5016 - val_acc: 0.7481\n",
      "Epoch 32/40\n",
      "1203/1203 [==============================] - 39s - loss: 0.3934 - acc: 0.8221 - val_loss: 0.5378 - val_acc: 0.7531\n",
      "Epoch 33/40\n",
      "1203/1203 [==============================] - 39s - loss: 0.3996 - acc: 0.8221 - val_loss: 0.5213 - val_acc: 0.7506\n",
      "Epoch 34/40\n",
      "1203/1203 [==============================] - 36s - loss: 0.3815 - acc: 0.8271 - val_loss: 0.5189 - val_acc: 0.7706\n",
      "Epoch 35/40\n",
      "1203/1203 [==============================] - 36s - loss: 0.3764 - acc: 0.8313 - val_loss: 0.5615 - val_acc: 0.7481\n"
     ]
    },
    {
     "data": {
      "text/plain": [
       "<keras.callbacks.History at 0x189a86048>"
      ]
     },
     "execution_count": 9,
     "metadata": {},
     "output_type": "execute_result"
    }
   ],
   "source": [
    "#Without denoising, core features.\n",
    "import os\n",
    "gmodel=getModel()\n",
    "gmodel.fit(X_train_cv, y_train_cv,\n",
    "          batch_size=24,\n",
    "          epochs=40,\n",
    "          verbose=1,\n",
    "          validation_data=(X_valid, y_valid),\n",
    "          callbacks=callbacks)"
   ]
  },
  {
   "cell_type": "code",
   "execution_count": 10,
   "metadata": {
    "_cell_guid": "079f0a8d-d2a5-4154-b37f-b425333e4ada",
    "_uuid": "0fa65f37d198cd6301376f179d9de0ccc1d40db3"
   },
   "outputs": [
    {
     "name": "stdout",
     "output_type": "stream",
     "text": [
      "401/401 [==============================] - 3s     \n",
      "Test loss: 0.49015217856\n",
      "Test accuracy: 0.750623442437\n"
     ]
    }
   ],
   "source": [
    "gmodel.load_weights(filepath=file_path)\n",
    "score = gmodel.evaluate(X_valid, y_valid, verbose=1)\n",
    "print('Test loss:', score[0])\n",
    "print('Test accuracy:', score[1])"
   ]
  },
  {
   "cell_type": "code",
   "execution_count": 11,
   "metadata": {
    "_cell_guid": "7cae1458-a566-4714-8b80-0b23fe88509c",
    "_uuid": "27f021784da863a2ad960a96b9c7394f25521802"
   },
   "outputs": [
    {
     "name": "stdout",
     "output_type": "stream",
     "text": [
      "8424/8424 [==============================] - 69s    \n"
     ]
    }
   ],
   "source": [
    "X_band_test_1=np.array([np.array(band).astype(np.float32).reshape(75, 75) for band in test[\"band_1\"]])\n",
    "X_band_test_2=np.array([np.array(band).astype(np.float32).reshape(75, 75) for band in test[\"band_2\"]])\n",
    "X_test = (X_band_test_1-X_band_test_2)[:, :, :, np.newaxis]\n",
    "# X_test = np.concatenate([X_band_test_1[:, :, :, np.newaxis]\n",
    "#                           , X_band_test_2[:, :, :, np.newaxis]\n",
    "#                          , ((X_band_test_1+X_band_test_2)/2)[:, :, :, np.newaxis]], axis=-1)\n",
    "predicted_test=gmodel.predict_proba(X_test)"
   ]
  },
  {
   "cell_type": "code",
   "execution_count": 12,
   "metadata": {
    "_cell_guid": "da3618f6-6e0a-475c-a390-7e17f5406c1a",
    "_kg_hide-output": false,
    "_uuid": "b34412c33fe8250df3285867d9a13e4bd08e8c12"
   },
   "outputs": [
    {
     "name": "stdout",
     "output_type": "stream",
     "text": [
      "            id  is_iceberg\n",
      "0     5941774d    0.322991\n",
      "1     4023181e    0.209342\n",
      "2     b20200e4    0.209342\n",
      "3     e7f018bb    0.748450\n",
      "4     4371c8c3    0.209342\n",
      "5     a8d9b1fd    0.210069\n",
      "6     29e7727e    0.466035\n",
      "7     92a51ffb    0.888171\n",
      "8     c769ac97    0.433471\n",
      "9     aee0547d    0.288815\n",
      "10    565b28ac    0.174589\n",
      "11    e04e9775    0.208001\n",
      "12    8e8161d1    0.070994\n",
      "13    4cf4d256    0.209342\n",
      "14    139e5324    0.209312\n",
      "15    f156976f    0.687267\n",
      "16    68a117cc    0.209342\n",
      "17    d9aa7a56    0.209342\n",
      "18    9005b143    0.209342\n",
      "19    5f6d3988    0.449371\n",
      "20    9ad70954    0.209342\n",
      "21    b9087b9e    0.689114\n",
      "22    a39a1427    0.209342\n",
      "23    82fbe8ed    0.296974\n",
      "24    1fae4879    0.178463\n",
      "25    6dd8f13d    0.209342\n",
      "26    bbad5958    0.268367\n",
      "27    54527583    0.209342\n",
      "28    be8fa29c    0.209342\n",
      "29    81a3328f    0.621578\n",
      "...        ...         ...\n",
      "8394  8ae30ce6    0.209342\n",
      "8395  de27ed88    0.061500\n",
      "8396  66d5196f    0.209342\n",
      "8397  d85f1858    0.208769\n",
      "8398  16dcb33a    0.209342\n",
      "8399  eca3158e    0.209342\n",
      "8400  08daeee6    0.021967\n",
      "8401  e9c513ee    0.218401\n",
      "8402  b1519fa6    0.209342\n",
      "8403  dfc89540    0.209342\n",
      "8404  8fd8c0e9    0.209342\n",
      "8405  45df6347    0.234327\n",
      "8406  bf7928d7    0.209342\n",
      "8407  7b587c05    0.029867\n",
      "8408  c2834388    0.209342\n",
      "8409  146143c3    0.881979\n",
      "8410  d59aee00    0.240210\n",
      "8411  cbc0b93b    0.209342\n",
      "8412  088e2ff7    0.719652\n",
      "8413  673d33cd    0.209342\n",
      "8414  674b031e    0.209342\n",
      "8415  43db4207    0.209342\n",
      "8416  156855e1    0.030913\n",
      "8417  ac96cfb0    0.209342\n",
      "8418  fe45aef5    0.497707\n",
      "8419  16ee9b50    0.219283\n",
      "8420  5a599eb7    0.209082\n",
      "8421  df30d6dd    0.167235\n",
      "8422  18af95b1    0.802438\n",
      "8423  27d788c8    0.209722\n",
      "\n",
      "[8424 rows x 2 columns]\n",
      "There are  363  iceburgs out of  8424  data.\n"
     ]
    }
   ],
   "source": [
    "submission = pd.DataFrame()\n",
    "submission['id']=test['id']\n",
    "submission['is_iceberg']=predicted_test.reshape((predicted_test.shape[0]))\n",
    "submission.to_csv('sub.csv', index=False)\n",
    "print(submission)\n",
    "ice = 0\n",
    "for i in range (len(test['id'])):\n",
    "    if (predicted_test.reshape((predicted_test.shape[0]))[i] >= 0.9):\n",
    "#         print(submission['id'][i],submission['is_iceberg'][i])\n",
    "        ice += 1\n",
    "print('There are ', ice,' iceburgs out of ', len(test['id']),' data.')"
   ]
  },
  {
   "cell_type": "code",
   "execution_count": null,
   "metadata": {
    "_cell_guid": "637e3662-38ac-4fa6-8065-48c8105026a9",
    "_uuid": "962411dc0d6a00c1730bfd22767542210c36f751",
    "collapsed": true
   },
   "outputs": [],
   "source": []
  }
 ],
 "metadata": {
  "kernelspec": {
   "display_name": "Python 3",
   "language": "python",
   "name": "python3"
  },
  "language_info": {
   "codemirror_mode": {
    "name": "ipython",
    "version": 3
   },
   "file_extension": ".py",
   "mimetype": "text/x-python",
   "name": "python",
   "nbconvert_exporter": "python",
   "pygments_lexer": "ipython3",
   "version": "3.6.1"
  }
 },
 "nbformat": 4,
 "nbformat_minor": 1
}
