{
  "cells": [
    {
      "metadata": {
        "_cell_guid": "dbf2ff22-712b-4fc2-8687-99caa9bf07d8",
        "collapsed": true,
        "_uuid": "f57e59e8589cb94001d8673fb737a4e0d96852bd",
        "trusted": true
      },
      "cell_type": "code",
      "source": "# This Python 3 environment comes with many helpful analytics libraries installed\nimport numpy as np # linear algebra\nimport pandas as pd # data processing, CSV file I/O (e.g. pd.read_csv)\n",
      "execution_count": 25,
      "outputs": []
    },
    {
      "metadata": {
        "_cell_guid": "ea3f4874-a9aa-42f1-9605-b1784a6f48ba",
        "collapsed": true,
        "_uuid": "58c82d3b3c4b4305b388a6ac4eeca49d600f9105",
        "trusted": true
      },
      "cell_type": "code",
      "source": "import numpy as np\nimport pandas as pd\nfrom sklearn.model_selection import train_test_split\nfrom os.path import join as opj\nfrom matplotlib import pyplot as plt\nfrom mpl_toolkits.mplot3d import Axes3D\nimport pylab\n# plt.rcParams['figure.figsize'] = 10, 10\n%matplotlib inline",
      "execution_count": 26,
      "outputs": []
    },
    {
      "metadata": {
        "_cell_guid": "804d3969-9035-4ceb-bb65-1b8549d729ec",
        "collapsed": true,
        "_uuid": "7a7f3af5ef279a9ed26c4d9ee764bd1fb4bdf10e",
        "trusted": true
      },
      "cell_type": "code",
      "source": "#Load the data.\ntrain = pd.read_json(\"../input/train.json\")",
      "execution_count": 27,
      "outputs": []
    },
    {
      "metadata": {
        "_cell_guid": "7b546aab-7b7d-4cde-91cc-e794fd4041bd",
        "collapsed": true,
        "_uuid": "2c18cf164fbbc6d1c29e9c668cbfcd7a1ea10824",
        "trusted": true
      },
      "cell_type": "code",
      "source": "test = pd.read_json(\"../input/test.json\")",
      "execution_count": 28,
      "outputs": []
    },
    {
      "metadata": {
        "_cell_guid": "829bf7db-fab1-4a2d-9562-0a37c6390d2a",
        "collapsed": true,
        "_uuid": "5292632717f11cd01c135dfabfd3cda9318cc639",
        "trusted": true
      },
      "cell_type": "code",
      "source": "#Generate the training data\n#Create 3 bands having HH, HV and avg of both\nX_band_1=np.array([np.array(band).astype(np.float32).reshape(75, 75) for band in train[\"band_1\"]])\nX_band_2=np.array([np.array(band).astype(np.float32).reshape(75, 75) for band in train[\"band_2\"]])\nX_train = np.concatenate([X_band_1[:, :, :, np.newaxis], X_band_2[:, :, :, np.newaxis],((X_band_1+X_band_2)/2)[:, :, :, np.newaxis]], axis=-1)",
      "execution_count": 29,
      "outputs": []
    },
    {
      "metadata": {
        "_cell_guid": "fb15bc53-becc-4e87-88ce-3bc99d45358d",
        "_uuid": "7a68a94f8c617209dfe56a58e291193e963d0f62",
        "trusted": true
      },
      "cell_type": "code",
      "source": "#Import Keras.\nfrom matplotlib import pyplot\nfrom keras.preprocessing.image import ImageDataGenerator\nfrom keras.models import Sequential\nfrom keras.layers import Conv2D, MaxPooling2D, Dense, Dropout, Input, Flatten, Activation\nfrom keras.layers import GlobalMaxPooling2D\nfrom keras.layers.normalization import BatchNormalization\nfrom keras.layers.merge import Concatenate\nfrom keras.models import Model\nfrom keras import initializers\nfrom keras.optimizers import Adam\nfrom keras.callbacks import ModelCheckpoint, Callback, EarlyStopping",
      "execution_count": 30,
      "outputs": []
    },
    {
      "metadata": {
        "_cell_guid": "d7a4c0cc-0e96-46ea-960c-89bb80e11b56",
        "collapsed": true,
        "_uuid": "4602792c9d531903bd65c3b127a1e6be2c444b2d",
        "trusted": true
      },
      "cell_type": "code",
      "source": "#define our model\ndef getModel():\n    #Building the model\n    gmodel=Sequential()\n    #Conv Layer 1\n    gmodel.add(Conv2D(64, kernel_size=(3, 3),activation='relu', input_shape=(75, 75, 3)))\n    gmodel.add(MaxPooling2D(pool_size=(3, 3), strides=(2, 2)))\n    gmodel.add(Dropout(0.2))\n\n    #Conv Layer 2\n    gmodel.add(Conv2D(128, kernel_size=(3, 3), activation='relu' ))\n    gmodel.add(MaxPooling2D(pool_size=(2, 2), strides=(2, 2)))\n    gmodel.add(Dropout(0.2))\n\n    #Conv Layer 3\n    gmodel.add(Conv2D(128, kernel_size=(3, 3), activation='relu'))\n    gmodel.add(MaxPooling2D(pool_size=(2, 2), strides=(2, 2)))\n    gmodel.add(Dropout(0.2))\n\n    #Conv Layer 4\n    gmodel.add(Conv2D(64, kernel_size=(3, 3), activation='relu'))\n    gmodel.add(MaxPooling2D(pool_size=(2, 2), strides=(2, 2)))\n    gmodel.add(Dropout(0.2))\n\n    #Flatten the data for upcoming dense layers\n    gmodel.add(Flatten())\n\n    #Dense Layers\n    gmodel.add(Dense(512))\n    gmodel.add(Activation('relu'))\n    gmodel.add(Dropout(0.2))\n\n    #Dense Layer 2\n#     gmodel.add(Dense(256))\n#     gmodel.add(Activation('relu'))\n#     gmodel.add(Dropout(0.2))\n\n    #Sigmoid Layer\n    gmodel.add(Dense(1))\n    gmodel.add(Activation('sigmoid'))\n\n    mypotim=Adam(lr=0.001, beta_1=0.9, beta_2=0.999, epsilon=1e-08, decay=0.0)\n    gmodel.compile(loss='binary_crossentropy',\n                  optimizer=mypotim,\n                  metrics=['accuracy'])\n    gmodel.summary()\n    return gmodel\n\n\ndef get_callbacks(filepath, patience=2):\n    es = EarlyStopping('val_loss', patience=patience, mode=\"min\")\n    msave = ModelCheckpoint(filepath, save_best_only=True)\n    return [es, msave]\nfile_path = \".model_weights.hdf5\"\ncallbacks = get_callbacks(filepath=file_path, patience=5)\n",
      "execution_count": 31,
      "outputs": []
    },
    {
      "metadata": {
        "_cell_guid": "1d690d4a-09ca-417c-8090-2aa417c514dd",
        "_uuid": "a883659e53709da950d04a4e5349c66d77a9422f",
        "trusted": true
      },
      "cell_type": "code",
      "source": "target_train=train['is_iceberg']\nX_train_cv, X_valid, y_train_cv, y_valid = train_test_split(X_train, target_train, random_state=1, train_size=0.75)",
      "execution_count": 32,
      "outputs": [
        {
          "output_type": "stream",
          "text": "/opt/conda/lib/python3.6/site-packages/sklearn/model_selection/_split.py:2010: FutureWarning: From version 0.21, test_size will always complement train_size unless both are specified.\n  FutureWarning)\n",
          "name": "stderr"
        }
      ]
    },
    {
      "metadata": {
        "_cell_guid": "d6bb750a-e882-4429-ad23-4392389f427f",
        "_uuid": "4e6dab11165b7d9515eb32b698851b260f0d941f",
        "trusted": true
      },
      "cell_type": "code",
      "source": "#Without denoising, core features.\nimport os\ngmodel=getModel()\ngmodel.fit(X_train_cv, y_train_cv,\n          batch_size=50,\n          epochs=50,\n          verbose=1,\n          validation_data=(X_valid, y_valid),\n          callbacks=callbacks)",
      "execution_count": 33,
      "outputs": [
        {
          "output_type": "stream",
          "text": "_________________________________________________________________\nLayer (type)                 Output Shape              Param #   \n=================================================================\nconv2d_9 (Conv2D)            (None, 73, 73, 64)        1792      \n_________________________________________________________________\nmax_pooling2d_9 (MaxPooling2 (None, 36, 36, 64)        0         \n_________________________________________________________________\ndropout_6 (Dropout)          (None, 36, 36, 64)        0         \n_________________________________________________________________\nconv2d_10 (Conv2D)           (None, 34, 34, 128)       73856     \n_________________________________________________________________\nmax_pooling2d_10 (MaxPooling (None, 17, 17, 128)       0         \n_________________________________________________________________\ndropout_7 (Dropout)          (None, 17, 17, 128)       0         \n_________________________________________________________________\nconv2d_11 (Conv2D)           (None, 15, 15, 128)       147584    \n_________________________________________________________________\nmax_pooling2d_11 (MaxPooling (None, 7, 7, 128)         0         \n_________________________________________________________________\ndropout_8 (Dropout)          (None, 7, 7, 128)         0         \n_________________________________________________________________\nconv2d_12 (Conv2D)           (None, 5, 5, 64)          73792     \n_________________________________________________________________\nmax_pooling2d_12 (MaxPooling (None, 2, 2, 64)          0         \n_________________________________________________________________\ndropout_9 (Dropout)          (None, 2, 2, 64)          0         \n_________________________________________________________________\nflatten_3 (Flatten)          (None, 256)               0         \n_________________________________________________________________\ndense_6 (Dense)              (None, 512)               131584    \n_________________________________________________________________\nactivation_6 (Activation)    (None, 512)               0         \n_________________________________________________________________\ndropout_10 (Dropout)         (None, 512)               0         \n_________________________________________________________________\ndense_7 (Dense)              (None, 1)                 513       \n_________________________________________________________________\nactivation_7 (Activation)    (None, 1)                 0         \n=================================================================\nTotal params: 429,121\nTrainable params: 429,121\nNon-trainable params: 0\n_________________________________________________________________\nTrain on 1203 samples, validate on 401 samples\nEpoch 1/50\n1203/1203 [==============================] - 33s - loss: 1.1986 - acc: 0.5104 - val_loss: 0.6103 - val_acc: 0.5312\nEpoch 2/50\n1203/1203 [==============================] - 31s - loss: 0.5869 - acc: 0.6068 - val_loss: 0.5935 - val_acc: 0.6833\nEpoch 3/50\n1203/1203 [==============================] - 37s - loss: 0.5611 - acc: 0.6858 - val_loss: 0.5461 - val_acc: 0.6958\nEpoch 4/50\n1203/1203 [==============================] - 40s - loss: 0.5281 - acc: 0.7049 - val_loss: 0.4943 - val_acc: 0.7531\nEpoch 5/50\n1203/1203 [==============================] - 39s - loss: 0.4822 - acc: 0.7672 - val_loss: 0.4476 - val_acc: 0.8155\nEpoch 6/50\n1203/1203 [==============================] - 40s - loss: 0.4519 - acc: 0.7772 - val_loss: 0.4647 - val_acc: 0.7656\nEpoch 7/50\n1203/1203 [==============================] - 40s - loss: 0.4309 - acc: 0.7880 - val_loss: 0.4623 - val_acc: 0.8055\nEpoch 8/50\n1203/1203 [==============================] - 40s - loss: 0.4011 - acc: 0.8121 - val_loss: 0.3523 - val_acc: 0.8354\nEpoch 9/50\n1203/1203 [==============================] - 40s - loss: 0.3990 - acc: 0.8204 - val_loss: 0.4468 - val_acc: 0.7980\nEpoch 10/50\n1203/1203 [==============================] - 40s - loss: 0.3906 - acc: 0.8163 - val_loss: 0.3373 - val_acc: 0.8628\nEpoch 11/50\n1203/1203 [==============================] - 39s - loss: 0.3653 - acc: 0.8296 - val_loss: 0.3291 - val_acc: 0.8529\nEpoch 12/50\n1203/1203 [==============================] - 40s - loss: 0.3483 - acc: 0.8396 - val_loss: 0.3636 - val_acc: 0.8454\nEpoch 13/50\n1203/1203 [==============================] - 40s - loss: 0.3619 - acc: 0.8288 - val_loss: 0.3701 - val_acc: 0.7980\nEpoch 14/50\n1203/1203 [==============================] - 40s - loss: 0.3393 - acc: 0.8462 - val_loss: 0.3743 - val_acc: 0.8130\nEpoch 15/50\n1203/1203 [==============================] - 39s - loss: 0.3583 - acc: 0.8288 - val_loss: 0.3319 - val_acc: 0.8404\nEpoch 16/50\n1203/1203 [==============================] - 41s - loss: 0.3421 - acc: 0.8238 - val_loss: 0.3113 - val_acc: 0.8653\nEpoch 17/50\n1203/1203 [==============================] - 41s - loss: 0.3279 - acc: 0.8495 - val_loss: 0.4047 - val_acc: 0.7955\nEpoch 18/50\n1203/1203 [==============================] - 40s - loss: 0.3265 - acc: 0.8371 - val_loss: 0.2727 - val_acc: 0.8703\nEpoch 19/50\n1203/1203 [==============================] - 40s - loss: 0.3399 - acc: 0.8396 - val_loss: 0.3552 - val_acc: 0.8479\nEpoch 20/50\n1203/1203 [==============================] - 40s - loss: 0.3059 - acc: 0.8612 - val_loss: 0.2764 - val_acc: 0.8728\nEpoch 21/50\n1203/1203 [==============================] - 40s - loss: 0.2970 - acc: 0.8637 - val_loss: 0.2798 - val_acc: 0.8703\nEpoch 22/50\n1203/1203 [==============================] - 40s - loss: 0.2767 - acc: 0.8753 - val_loss: 0.2524 - val_acc: 0.8803\nEpoch 23/50\n1203/1203 [==============================] - 40s - loss: 0.2799 - acc: 0.8736 - val_loss: 0.2826 - val_acc: 0.8753\nEpoch 24/50\n1203/1203 [==============================] - 40s - loss: 0.2715 - acc: 0.8761 - val_loss: 0.3086 - val_acc: 0.8728\nEpoch 25/50\n1203/1203 [==============================] - 40s - loss: 0.3449 - acc: 0.8412 - val_loss: 0.2857 - val_acc: 0.8778\nEpoch 26/50\n1203/1203 [==============================] - 40s - loss: 0.2574 - acc: 0.8803 - val_loss: 0.2494 - val_acc: 0.8928\nEpoch 27/50\n1203/1203 [==============================] - 40s - loss: 0.2483 - acc: 0.8869 - val_loss: 0.2636 - val_acc: 0.8928\nEpoch 28/50\n1203/1203 [==============================] - 40s - loss: 0.2274 - acc: 0.8969 - val_loss: 0.2988 - val_acc: 0.8504\nEpoch 29/50\n1203/1203 [==============================] - 40s - loss: 0.2429 - acc: 0.8969 - val_loss: 0.2654 - val_acc: 0.8703\nEpoch 30/50\n1203/1203 [==============================] - 40s - loss: 0.2418 - acc: 0.8845 - val_loss: 0.2995 - val_acc: 0.8603\nEpoch 31/50\n1203/1203 [==============================] - 35s - loss: 0.2291 - acc: 0.8911 - val_loss: 0.2817 - val_acc: 0.8678\nEpoch 32/50\n1203/1203 [==============================] - 33s - loss: 0.2166 - acc: 0.9061 - val_loss: 0.2519 - val_acc: 0.8853\n",
          "name": "stdout"
        },
        {
          "output_type": "execute_result",
          "execution_count": 33,
          "data": {
            "text/plain": "<keras.callbacks.History at 0x7fa034434898>"
          },
          "metadata": {}
        }
      ]
    },
    {
      "metadata": {
        "_cell_guid": "923850b1-707e-41e7-bdcb-b5d0633fb12f",
        "_uuid": "04da75db4d60b76ae357503ea1178808e1026b56"
      },
      "cell_type": "markdown",
      "source": "###Though the score may be different here,  it works good on LB, I got 0.210 score."
    },
    {
      "metadata": {
        "_cell_guid": "079f0a8d-d2a5-4154-b37f-b425333e4ada",
        "_uuid": "0fa65f37d198cd6301376f179d9de0ccc1d40db3",
        "trusted": true
      },
      "cell_type": "code",
      "source": "gmodel.load_weights(filepath=file_path)\nscore = gmodel.evaluate(X_valid, y_valid, verbose=1)\nprint('Test loss:', score[0])\nprint('Test accuracy:', score[1])",
      "execution_count": null,
      "outputs": [
        {
          "output_type": "stream",
          "text": "401/401 [==============================] - 3s     \nTest loss: 0.249380082784\nTest accuracy: 0.892768080246\n",
          "name": "stdout"
        }
      ]
    },
    {
      "metadata": {
        "_cell_guid": "7cae1458-a566-4714-8b80-0b23fe88509c",
        "_uuid": "27f021784da863a2ad960a96b9c7394f25521802",
        "trusted": true
      },
      "cell_type": "code",
      "source": "\nX_band_test_1=np.array([np.array(band).astype(np.float32).reshape(75, 75) for band in test[\"band_1\"]])\nX_band_test_2=np.array([np.array(band).astype(np.float32).reshape(75, 75) for band in test[\"band_2\"]])\nX_test = np.concatenate([X_band_test_1[:, :, :, np.newaxis]\n                          , X_band_test_2[:, :, :, np.newaxis]\n                         , ((X_band_test_1+X_band_test_2)/2)[:, :, :, np.newaxis]], axis=-1)\npredicted_test=gmodel.predict_proba(X_test)",
      "execution_count": null,
      "outputs": []
    },
    {
      "metadata": {
        "_cell_guid": "da3618f6-6e0a-475c-a390-7e17f5406c1a",
        "_kg_hide-output": false,
        "_uuid": "b34412c33fe8250df3285867d9a13e4bd08e8c12",
        "trusted": true
      },
      "cell_type": "code",
      "source": "submission = pd.DataFrame()\nsubmission['id']=test['id']\nsubmission['is_iceberg']=predicted_test.reshape((predicted_test.shape[0]))\nsubmission.to_csv('sub.csv', index=False)\nprint(submission)",
      "execution_count": null,
      "outputs": []
    },
    {
      "metadata": {
        "_cell_guid": "a5140949-c867-43fd-baba-49e57bec44cf",
        "collapsed": true,
        "_uuid": "741f9696d91da6af29266fb199a6c2fb80d26dfe"
      },
      "cell_type": "markdown",
      "source": "#### Conclusion\nTo increase the score, I have tried Speckle filtering, Indicence angle normalization and other preprocessing and they don't seems to work.  You may try and see but for me they are not giving any good results.\n\nYou can't be on top-10 using this kernel, so here is one beautiful peice of information. The test dataset contain 8000 images, We can exploit this. We can do pseudo labelling to increase the predictions. Here is the article related to that:\nhttps://towardsdatascience.com/simple-explanation-of-semi-supervised-learning-and-pseudo-labeling-c2218e8c769b\n\nUpvote if you liked this kernel."
    },
    {
      "metadata": {
        "_cell_guid": "637e3662-38ac-4fa6-8065-48c8105026a9",
        "collapsed": true,
        "_uuid": "962411dc0d6a00c1730bfd22767542210c36f751",
        "trusted": true
      },
      "cell_type": "code",
      "source": "",
      "execution_count": null,
      "outputs": []
    }
  ],
  "metadata": {
    "kernelspec": {
      "display_name": "Python 3",
      "language": "python",
      "name": "python3"
    },
    "language_info": {
      "name": "python",
      "version": "3.6.3",
      "mimetype": "text/x-python",
      "codemirror_mode": {
        "name": "ipython",
        "version": 3
      },
      "pygments_lexer": "ipython3",
      "nbconvert_exporter": "python",
      "file_extension": ".py"
    }
  },
  "nbformat": 4,
  "nbformat_minor": 1
}